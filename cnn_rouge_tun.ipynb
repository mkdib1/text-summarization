{
 "cells": [
  {
   "cell_type": "markdown",
   "id": "03ed4797",
   "metadata": {},
   "source": [
    "# Libraries"
   ]
  },
  {
   "cell_type": "code",
   "execution_count": 2,
   "id": "751cf535",
   "metadata": {},
   "outputs": [
    {
     "name": "stderr",
     "output_type": "stream",
     "text": [
      "c:\\Users\\dibmir\\AppData\\Local\\anaconda3\\envs\\tmenv\\lib\\site-packages\\tqdm\\auto.py:21: TqdmWarning: IProgress not found. Please update jupyter and ipywidgets. See https://ipywidgets.readthedocs.io/en/stable/user_install.html\n",
      "  from .autonotebook import tqdm as notebook_tqdm\n"
     ]
    }
   ],
   "source": [
    "import re\n",
    "from util import lda_summarizer, pager_summarizer\n",
    "import pandas as pd\n",
    "import os\n",
    "import spacy\n",
    "import evaluate\n",
    "from tqdm import tqdm\n",
    "from nltk.corpus import stopwords\n",
    "from functools import partial\n",
    "from sentence_transformers import SentenceTransformer\n",
    "from dotenv import load_dotenv\n",
    "\n"
   ]
  },
  {
   "cell_type": "markdown",
   "id": "2a5bbc1c",
   "metadata": {},
   "source": [
    "# Settings"
   ]
  },
  {
   "cell_type": "code",
   "execution_count": 7,
   "id": "96994832",
   "metadata": {},
   "outputs": [],
   "source": [
    "load_dotenv() # .env loading\n",
    "model = SentenceTransformer('all-MiniLM-L6-v2') # sentence transformers model init\n",
    "\n",
    "# Data path\n",
    "cnn_path = os.getenv(\"CNN_DIR\")\n",
    "bbc_path = os.getenv(\"BBC_DIR\")\n",
    "\n",
    "# lm import through 'spacy'\n",
    "nlp = spacy.load(\"en_core_web_sm\")\n",
    "\n",
    "# stopwords definition with custom list addition\n",
    "stop_words = set(stopwords.words('english'))\n",
    "added_stopwords = {\n",
    "        \"however\", \"yet\", \"although\", \"though\", \"even though\", \"nevertheless\", \"nonetheless\",\n",
    "        \"still\", \"despite\", \"in spite of\", \"whereas\", \"alternatively\", \"instead\", \"regardless\",\n",
    "        \"notwithstanding\", \"albeit\", \"conversely\", \"be that as it may\", \"even so\", \"that said\",\n",
    "        \"even if\", \"except\", \"rather\", \"apart from\", \"despite that\", \"then again\", \"in contrast\",\n",
    "        \"after all\"\n",
    "    }\n",
    "    \n",
    "all_stopwords = set(stop_words).union(added_stopwords)"
   ]
  },
  {
   "cell_type": "markdown",
   "id": "884c671c",
   "metadata": {},
   "source": [
    "# Functions"
   ]
  },
  {
   "cell_type": "code",
   "execution_count": null,
   "id": "2ce98208",
   "metadata": {},
   "outputs": [],
   "source": [
    "def clean_cnn_patterns(text):\n",
    "    \"\"\"\n",
    "    Cleans input text by removing specific patterns\n",
    "    The following are performed:\n",
    "    - Returns the input unchanged if it is not a string.\n",
    "    - Removes all characters up to and including the '(CNN)' tag and any following dashes.\n",
    "    - Removes tags as '(CNET)' and '(WIRED)'.\n",
    "    - Removes initial parenthetical phrases.\n",
    "    - Removes initial HTML tags.\n",
    "    - Strips out leading non-word characters (e.g., punctuation).\n",
    "    - Collapses multiple spaces into a single space.\n",
    "    - Returns the cleaned and trimmed string.\n",
    "    \"\"\"\n",
    "\n",
    "    if not isinstance(text, str):\n",
    "        return text\n",
    "\n",
    "    text = re.sub(r'^.*?\\(CNN\\)\\s*[-–—]*\\s*', '', text) # text up to (CNN) removal\n",
    "    text = re.sub(r'\\((CNET|WIRED)\\)', '', text) # specific intial pattern removal\n",
    "    text = re.sub(r'^\\s*\\([^)]*\\)\\s*', '', text) # parantheses with pattern removal\n",
    "    text = re.sub(r'^\\s*<[^>]+>\\s*', '', text) # html tags removal\n",
    "    text = re.sub(r'^[^\\w]+', '', text) # initial punkt removal\n",
    "    text = re.sub(r'\\s+', ' ', text) # multiple spaces removal\n",
    "    return text.strip()\n",
    "\n",
    "def clean_fulltext_column(df, column):\n",
    "    df[column] = df[column].apply(clean_cnn_patterns)\n",
    "    return df\n"
   ]
  },
  {
   "cell_type": "code",
   "execution_count": null,
   "id": "a0814921",
   "metadata": {},
   "outputs": [],
   "source": [
    "def clean_prefix_ref_summary(text):\n",
    "    \"\"\"\n",
    "    Cleans input text by removing specific patterns\n",
    "    The following are performed:\n",
    "     - Returns the input unchanged if it is not a string.\n",
    "     - Removes initial patterns as 'NEW:' and 'CDC:'.\n",
    "     - Leaves a single whitspace in case of multiple blanks\n",
    "     - Normalizes quotes\n",
    "     - Removes all characters but alphanumeric and a short set of symbols\n",
    "    \"\"\"\n",
    "    if not isinstance(text, str):\n",
    "        return text\n",
    "\n",
    "    text = re.sub(r'^(NEW:|CDC:)\\s*', '', text, flags=re.IGNORECASE)\n",
    "    text = re.sub(r'\\s+', ' ', text)  \n",
    "    text = re.sub(r'[“”’]', \" \", text)  \n",
    "    text = re.sub(r'[^a-zA-Z0-9%£$.,;:\\-\\s]', '', text)\n",
    "    return text.strip()\n",
    "\n",
    "def clean_ref_summary_column(df, column):\n",
    "    df[column] = df[column].apply(clean_prefix_ref_summary)\n",
    "    return df"
   ]
  },
  {
   "cell_type": "code",
   "execution_count": null,
   "id": "f3e9b131",
   "metadata": {},
   "outputs": [],
   "source": [
    "def build_lda_summary(nlp, row, num_s, nt, stop_words, bonus_weight=0.6, penalty_weight=0.4):\n",
    "    \"\"\"\n",
    "    Generates an extractive summary of a news article using LDA-based topic modeling.\n",
    "\n",
    "    Parameters:\n",
    "    - nlp: A spaCy language model used for tokenization.\n",
    "    - row: A row from a DataFrame containing the article text (expects a 'content' or 'news' field).\n",
    "    - num_s: Desired number of sentences in the summary.\n",
    "    - nt: Number of topics to consider in the LDA model.\n",
    "    - stop_words: List or set of stopwords to remove.\n",
    "    - bonus_weight: Weight factor to boost topic-relevant sentences.\n",
    "    - penalty_weight: Weight factor to penalize redundant or off-topic sentences.\n",
    "\n",
    "    Returns:\n",
    "    - A string containing the summary, or an empty string in case of error.\n",
    "    \"\"\"\n",
    "    \n",
    "    try:\n",
    "        return lda_summarizer(\n",
    "            nlp=nlp,\n",
    "            # text=row['news'], # if run 'cnn_dailymail' please uncomment this line\n",
    "            text=row['content'], # if run 'bbc-news-data' please uncomment this line\n",
    "            num_sentences=num_s,\n",
    "            num_topics=nt,\n",
    "            remove_stopwords=True,\n",
    "            stop_words=all_stopwords,\n",
    "            bonus_weight=bonus_weight,\n",
    "            penalty_weight=penalty_weight\n",
    "        )\n",
    "    except Exception as e:\n",
    "        return \"\"\n",
    "\n",
    "def build_pager_summary(nlp, row, num_s, pg, use_mmr, lmbd_p, stop_words, model, \n",
    "                        bonus_weight=0.6, penalty_weight=0.4):\n",
    "    \"\"\"\n",
    "    Generates an extractive summary of a news article using PageRank.\n",
    "\n",
    "    Parameters:\n",
    "    - nlp: A spaCy language model used for tokenization.\n",
    "    - row: A row from a DataFrame containing the article text (expects a 'content' or 'news' field).\n",
    "    - num_s: Desired number of sentences in the summary.\n",
    "    - pg: Custom integer value chosen as the top-k rank sentences to be extracted by PageRank.\n",
    "    - use_mmr: If True, Maximum Marginal Relevance is performed.\n",
    "    - lmbd_p: Lambda parameter used by MMR.\n",
    "    - stop_words: List or set of stopwords to remove.\n",
    "    - bonus_weight: Weight factor to boost topic-relevant sentences.\n",
    "    - penalty_weight: Weight factor to penalize redundant or off-topic sentences.\n",
    "\n",
    "    Returns:\n",
    "    - A string containing the summary, or an empty string in case of error.\n",
    "    \"\"\"\n",
    "    try:\n",
    "        return pager_summarizer(\n",
    "            nlp=nlp,\n",
    "            # text=row['news'], # if run 'cnn_dailymail' please uncomment this line\n",
    "            text=row['content'], # if run 'bbc-news-data' please uncomment this line\n",
    "            num_sentences=num_s,\n",
    "            use_mmr=use_mmr,\n",
    "            lambda_param=lmbd_p,\n",
    "            remove_stopwords=True,\n",
    "            stop_words=all_stopwords,\n",
    "            bonus_weight=bonus_weight,\n",
    "            penalty_weight=penalty_weight,\n",
    "            pagerank_top_k=pg,\n",
    "            embedding_model=model\n",
    "        )\n",
    "    except Exception as e:\n",
    "        return \"\""
   ]
  },
  {
   "cell_type": "code",
   "execution_count": 6,
   "id": "b6035cd9",
   "metadata": {},
   "outputs": [],
   "source": [
    "def compute_rouge_multiple_columns(df, prediction_cols, reference_col='ref_summary'):\n",
    "    \"\"\"\n",
    "    ROUGE evaluation function using HuggingFace's evaluate library.\n",
    "\n",
    "    This function evaluates the quality of multiple predicted summary columns against a reference summary column\n",
    "    ('ref_summary') using ROUGE metrics (ROUGE-1, ROUGE-2, ROUGE-L). It returns a DataFrame reporting the average\n",
    "    f-measure scores for each summarization method (identified by the column name).\n",
    "\n",
    "    Args:\n",
    "        df (pd.DataFrame): The DataFrame containing the predictions and reference summaries.\n",
    "        prediction_cols (list): List of column names containing the generated summaries to evaluate.\n",
    "        reference_col (str): Name of the column containing the reference summaries.\n",
    "\n",
    "    Returns:\n",
    "        pd.DataFrame: A DataFrame containing the average ROUGE scores per prediction column.\n",
    "    \"\"\"\n",
    "    rouge = evaluate.load(\"rouge\")\n",
    "    results = {}\n",
    "\n",
    "    for pred_col in prediction_cols:\n",
    "        predictions = df[pred_col].fillna(\"\").tolist()\n",
    "        references = df[reference_col].fillna(\"\").tolist()\n",
    "\n",
    "        try:\n",
    "            scores = rouge.compute(predictions=predictions, references=references, use_stemmer=True)\n",
    "        except Exception:\n",
    "            scores = {'rouge1': 0.0, 'rouge2': 0.0, 'rougeL': 0.0}\n",
    "\n",
    "        results[pred_col] = {\n",
    "            'rouge1_f': round(scores['rouge1'], 3),\n",
    "            'rouge2_f': round(scores['rouge2'], 3),\n",
    "            'rougeL_f': round(scores['rougeL'], 3),\n",
    "        }\n",
    "\n",
    "    df_result = pd.DataFrame(results).T.reset_index()\n",
    "    df_result = df_result.rename(columns={\"index\": \"model\"})\n",
    "    return df_result.sort_values('rouge1_f', ascending=False)\n"
   ]
  },
  {
   "cell_type": "markdown",
   "id": "e7b2b998",
   "metadata": {},
   "source": [
    "# Tuning & Summary building"
   ]
  },
  {
   "cell_type": "markdown",
   "id": "173f5230",
   "metadata": {},
   "source": [
    "The aim of the current tuning procedure is to evaluate summarization models using the ROUGE score as the primary evaluation metric.<br>\n",
    "Since the original `bbc-news-data` dataset does not include reference summaries, the models previously developed in `model_building.py` are now tested on a different dataset: CNN/DailyMail.<br> This dataset collects news articles from both CNN and the Daily Mail, and includes the full text of each article with highlights summaries which have been written by humans.<br> These highlights consist of one or multiple sentences that are either directly extracted from the article or closely paraphrased.<br>\n",
    "Despite row data can be found here https://github.com/google-deepmind/rc-data , a preprocessed-short version of the dataset has been downloaded from https://www.kaggle.com/datasets/yatharthgautam123789/cnn-dailymail-3-0-0"
   ]
  },
  {
   "cell_type": "markdown",
   "id": "7bce8ce1",
   "metadata": {},
   "source": [
    "## Read data"
   ]
  },
  {
   "cell_type": "code",
   "execution_count": 8,
   "id": "8eb3043c",
   "metadata": {},
   "outputs": [],
   "source": [
    "df_cnn = pd.read_csv(cnn_path, sep=\",\", usecols=['article', 'highlights']) # cnn df read\n",
    "df_cnn = df_cnn.rename(columns={'article': 'news', 'highlights': 'ref_summary'}) # col rename\n",
    "df_cnn = df_cnn.sample(frac=0.01, random_state=123) # Using 5% of the rows for sustainable tuningg"
   ]
  },
  {
   "cell_type": "code",
   "execution_count": 9,
   "id": "c627f448",
   "metadata": {},
   "outputs": [
    {
     "data": {
      "application/vnd.microsoft.datawrangler.viewer.v0+json": {
       "columns": [
        {
         "name": "index",
         "rawType": "int64",
         "type": "integer"
        },
        {
         "name": "news",
         "rawType": "object",
         "type": "string"
        },
        {
         "name": "ref_summary",
         "rawType": "object",
         "type": "string"
        }
       ],
       "ref": "e7dac68c-a83f-4463-a8ad-6000a3bff716",
       "rows": [
        [
         "2656",
         "(CNN) Bayern German manager Van Der van Sar today extended a one-year contract extension to March 2019 , The Dutchman's current deal is supposed to have ran its course at the season , But the club said on Monday that van Gaal's contract deal will see them only until 2020 if he took their title this season . Bayern had another awful start the their season , they are now ninth on the table after losing once in their past six games since being two points behind by Bayern z . Munich . Head coach Karl-Heinz Rummenigge told the club's Official website , they 're appointed with our decision will stay despite Bayern's tough circumstances and because of the result which would never be been expected,\" he said \"People are not in contract for change , it is send a very positive message to Germany , about Europe , and feelings of the coach's , especially when we lose to Mainz.\" The winner of Bayern's Europa League Final vs the team from Madrid in Spain , said , \"My new opinion of Bayern are positive . But trophies , win trophies and you always want trophies at an great club like Bayer Munich.\" The 59-year-old manager got to the Champions league semifinals for the second time in May that season , Bayern was beaten 2-1 by by the Bayern Player . Van der Van Guardiola said that \"outstanding\" atmosphere between his Bayern colleagues on the team team key factors influencing the decision to stay . said \"I couldn't wish for anything better. The chemistry's right. You get to know each other properly in difficult situations. We're seeing it again right now. \"These are tough times, but the board is keeping the faith -- the faith which took us to the Champions League final in Madrid.\" Rummenigge said Bayern valued their coach highly: \"He does a superb job every day. We're recognizing that with this contract extension.\" Bayern's captain -- Dutch midfielder Mark van Bommel -- welcomed the news. He said: \"The coach signing a new deal is a very good sign. He's doing a great job.\" One of Germany's stars of the World Cup, Thomas Muller, echoed the comments of his captain. \"Van Gaal been extremely important for me so far, he's made a huge contribution to my career. That settles the matter, which is good for him, for us and for the club as a whole.\"",
         "Louis Van Gaal signs a contract extension with German champions Bayern Munich .\nThe Dutchman's deal runs until the end of June in 2012 .\nBayern won the Bundesliga last season and were beaten in the Champions League final .\nVan Gaal unconcerned about Bayern's patchy start to the season ."
        ],
        [
         "445",
         "(CNN) -- The death toll from a shooting at a house party in the violence-plagued Mexican border city of Juarez has climbed to 14, state media reported Sunday. Chihuahua State Attorney General Carlos Manuel Salas told reporters that another 14 people were injured when gunmen attacked the gathering of young people at a house party Friday, the state-run Notimex news agency reported. The victims killed were between ages 14 and 30, Notimex said. Children as young as 7 and 11 were among the injured, the agency reported. Salas said authorities were investigating the backgrounds of all the victims. Mexico's National Human Rights Commission said it was sending representatives to the neighborhood, which was near another home where cartel gunmen stormed a house party in January, killing 15 people. Most of the victims in that shooting were youths who had no ties to organized crime. Investigators said the January shooting was a case of mistaken identity caused by bad intelligence. It sparked widespread outrage in the violent border city, including calls for Mexican President Felipe Calderon to resign. In a news conference Saturday, the country's deputy interior minister told reporters federal authorities will maintain the security strategy they are developing with state officials. \"We are here to address this deplorable and condemnable acts, and to ensure full support to local authorities investigating these unfortunate events,\" deputy interior minister Juan Marcos Gutierrez said, according to Notimex. CNN's Nick Valencia contributed to this report.",
         "A prosecutor says 14 people were killed and 14 others were injured .\nAuthorities are investigating the backgrounds of the victims .\nMexico's National Human Rights Commission is sending a team to the neighborhood ."
        ],
        [
         "9505",
         "(CNN) The A Week In America ended telling this quintessential American what we should have doing if they weren't that s they 're fair s . We call those damn fairs, and what's fair 're fair ? . Who are what we want ? We ' fools . , we're gluttons ? . ? . We are not of us , we 're just people ? . If you need you , , we're going to you . Here's the list to to some most authentically important work that people have done is . Seaside boardwalks The Boardwalks dot the American beachside towns , including the famous Drifters' beach , or \"Under water Boardwalk\" . America ' first boardwalk , built at a tip at sea , is by result a variety of miles of board wal ades and many , shorefront beach entryways. In one of America's oldest iconic board game formerly known as Monopoly, the real name of \"America's Gold Playground,\" and later officially became \"Boardwalk Empire,\" refers in the original Prohibition-era Gold Rush ground if you don't believe it a ? - and a little , in their lumber-pathed homes - , Something similar American boardwalks has inspired America's famous Coney Island in and the City , Roller coasters, carnival and Nathan's Famous restaurants and inspired many things in Americana. There 's a new Boardwalk , filled of bodybuilders, novelty trinket shops and </s> . people . </s> of people . In Pueblos , powwows are the fuel for excitement . each day is witnessing the culture of the first Americans come alive in a spectacle of swirling, pulsing color. Every April, approximately 3,000 Native American dancers and singers from roughly 700 tribes come together in Albuquerque, New Mexico, to compete and celebrate their heritage. The teams blend traditional style with modern, innovative techniques, so the result is more than just living history, it's the evolution of a culture that most Americans think has all but died away. In the same area are many pueblo sites that provide tours of cave dwellings and indigenous architecture. Perhaps the most memorable is Taos Pueblo, 2Â½ hours northwest of Albuquerque. This village of adobe buildings has been continually occupied by Native Americans for more than a thousand years. Taos Pueblo, 120 Veterans Highway, Taos, New Mexico; open 8 a.m.-4:30 p.m.; closed for about 10 weeks in late winter and early spring; $10 for adults; 575-758-1028 . Gathering of Nations, University of New Mexico Arena, Avenida Cesar Chavez, Albuquerque, New Mexico; 505-836-2810 . 3. Wrigley Field, Chicago . Forget national pastime -- to some Americans, baseball is a national religion. Wrigley Field in Chicago, regardless of denomination, is their Vatican. Boston's Fenway Park has two years on Wrigley (the former was built in 1912), but Fenway has had more significant updates. Like a giant video display installed in 2000, and extra seats and luxury boxes that have been added time and time again. By contrast, Wrigley has remained fairly true to its roots. It's a classic jewel box design -- green seats, open roof, exposed steel, brick, stone -- with ball-swallowing ivy-covered walls. There's truly no better place to watch a game if you want a direct link to nearly a century of baseball history. If you're in Chicago during the off-season, no worries. The park provides 90-minute tours year-round. Wrigley Field, 1060 W. Addison St., Chicago; tours $24 for individuals; 773-388-8270 . 4. College football, anywhere (though Alabama ain't bad) Let's not kid ourselves. Football is the true national sport of the 21st century. While it doesn't get much more American than the Super Bowl, we'd argue that the most enjoyable, purest way to experience the unique American-branded mixture of militant strategics, refined athleticism, brute force and exploitation of young labor is at a college football game. Best to get there early enough to tailgate. Bonding with strangers, drinking and grilling beforehand is 72.4% of the experience. Pretty much any stadium will do, but a game experience doesn't get much better than at Bryant-Denny Stadium in Tuscaloosa, Alabama, home of the reigning national champion Alabama Crimson Tide. (Yes, we know, the barbecue is spicier and the cheerleaders are hotter at your team's stadium, but we had to draw the line somewhere and \"national champs\" earns you the top spot on lists like this.) Bryant-Denny Stadium, 920 Paul W. Bryant Dr., Tuscaloosa, Alabama. 5. Kentucky Derby . There's one more sporting event we have to include on the list. Sure, other countries have their horse races. But those competitions weren't founded by the grandson of William Clark of the Lewis and Clark expedition. Also, those races don't have a traditional drink made of bourbon (mint julep), nor do they encourage everyone to dress like a flamboyant Southern aristocrat. We're talking bow ties, seersucker, bold pastels and spectacular hats that put British royal wedding attendees to shame. Churchill Downs, 700 Central Ave., Louisville, Kentucky.; May 3-4, 2013; single day general admission $25-40; 502-636-4400 . 6. Burning Man . The first Woodstock Music & Art Fair in 1969 was one of the most pivotal moments in American cultural history. Five-hundred-thousand people came together to celebrate drugs, weirdness, creativity, individualism, beauty and sticking it to the Man. What's the direct descendant of Woodstock? Before you say Bonnaroo, Coachella, Lollapalooza or any other trendy music festival -- each of which is run by the Man -- let us stop you. The world's largest festival of artistic expression is Burning Man. The weeklong event held every year in the Black Rock Desert of northern Nevada is difficult to describe. As the website puts it, describing Burning Man is \"like trying to explain what a particular color looks like to someone who is blind.\" Essentially 50,000 creative spirits gather in one of the most desolate areas in the continental United States to wear bizarre clothes, make art, do drugs, experience a new form of communal living, have a hell of a lot of fun and let their freak flags fly. Burning Man; August 26-September 2, 2013; 415-863-5263 . 7. Soul food . It's difficult to pin down the most American of foods. Almost every candidate has roots in other countries, but, of course, that's what makes them American. Soul food makes the top of the list because it's delicious, unapologetically artery-clogging and it brings us face to face with our turbulent past. African-American slaves on Southern plantations were often given scraps and leftovers to eat, and had to make do with whatever vegetables they could grow nearby and with little care, as so much time was spent working. From these restrictions arose some of the finest recipes in American cuisine. There are thousands of spectacular soul food restaurants -- many of the best are in the South -- but Sylvia's in New York is maybe the most well known. Sylvia's, 328 Lenox Ave., New York; 212-996-0660 . 8. Juke joints . While we're in the region, one of America's great art forms, Blues music, grew up in the juke joints of the South. Jukes arose after emancipation, taking the form of shacks and private houses where African-Americans gathered to listen to and play music, gamble and dance. A few classic juke joints still remain, some along Highway 61, aka the Blues Highway, which stretches from New Orleans to the town of Wyoming, Minnesota, an American experience in and of itself. Po' Monkey's, opened in 1963 outside Merigold, Mississippi, is considered one of the last remaining original jukes. It's only open Thursdays, and it's not easy to get to, but the music and crowd make it worth the trip. Po' Monkey's; Po Monkey Road, Merigold, Mississippi; 662-843-2712 . 9. Outdoor Christmas light displays . Sure, other countries have Christmas lights (or fairy lights, in the UK), but no one else takes it quite as seriously as Americans. The lighting of the approximately 80-foot tall Norwood spruce at Rockefeller Center in New York is practically a national event. But the greatest displays of holiday spirit can be seen in more rural areas. Take Magical Night of Lights in Lake Lanier, Georgia, which consists of seven miles and millions of lights, or the six-mile long Oglebay Winter Festival of Lights in Wheeling, West Virginia. Magical Night of Lights, 7000 Lanier Islands Parkway, Buford, Georgia; 770-945-8787 . Winter Festival of Lights, 465 Lodge Dr., Wheeling, West Virginia; November 8, 2013-January 5, 2014; Sunday through Thursday until 10 p.m. and Friday and Saturday until 11 p.m.; 800-624-6988 . 10. Megachurches . Americans know how to make praising Jesus memorable. Just look at Gospel music and tent revivals. In modern times you needn't look much further than Gospel brunches (wash away your sins from the night before with spiritual songs and mimosas) and megachurches. Those giant boxes of worship are where thousands of Christians gather not simply to pray and praise, but in many cases to eat, shop and work out. The United States has more than 1,300 of them, and more than 50 draw a weekly attendance between 10,000 and 45,000. The mega-ist of American megachurches is Lakewood Church in Houston, led by senior pastor Joel Osteen. Every week his message is broadcast to 7 million viewers in more than 100 countries. Lakewood Church; 3700 Southwest Freeway, Houston; 713-635-4151 .",
         "Pueblos and powwows in New Mexico highlight Native American culture .\nBaseball, football and the Derby made the cut -- yes, we love sports .\nWhat would the country be without soul food?\nWe tried to resist including Burning Man, but failed ."
        ],
        [
         "332",
         "Washington (CNN) -- Only a third of U.S. voters think that most members of Congress deserve to be re-elected this year, according to a new national poll. That's the lowest number ever recorded for that question in a CNN survey. The CNN/Opinion Research Corp. poll, released Tuesday, indicates that only 34 percent feel that current federal lawmakers deserve re-election, with 63 percent saying no. According to the survey, 51 percent feel their own member of Congress should be re-elected -- also an all-time low in CNN polling -- while 44 percent say their representative doesn't deserve to be returned to office in November. Full poll results (PDF) The numbers on both questions are even lower than in 1994, when an anti-incumbent fever helped Republicans win back control of both the House and the Senate from Democrats. The trend line on those questions goes back to 1991, when they were first asked. \"This is not a good year to be an incumbent, regardless of which party you belong to,\" said CNN polling director Keating Holland. \"Voters seem equally angry at both Republicans and Democrats this year.\" Fifty-six percent of people questioned in the survey say that most Democrats in Congress do not deserve to be re-elected. An equal percentage say that most congressional Republicans don't deserve re-election. The poll suggests Americans are split when it comes to their vote this November, with 47 percent of registered voters saying they will support the Republican candidate in their district for the House of Representatives and 45 percent saying they will back the Democrat. Republicans trailed the Democrats by 6 points in November. The voters' cool view of incumbents of both parties \"may hurt the Democrats more because there are more Democratic incumbents,\" Holland said. \"It's a change from 2006, when voters concentrated their anger at GOP members of Congress.\" The generic ballot question asked respondents if they would vote for a Democrat or Republican in their congressional district, without naming any specific candidates. The Democrats currently hold a 255-178 advantage in the House, with two vacant seats that the Democrats once held. Republicans need to win 40 seats to take back control of the chamber. While President Obama is not up for re-election this November, he will be in 2012, if he decides to run for a second term. According to the poll, 44 percent of registered voters say Obama deserves re-election, with 52 percent saying the president does not deserve a second term in office. The survey also indicates that 49 percent of Americans approve of the job Obama's doing as president, with half of the public disapproving of his job in the White House. \"One problem Obama faces may be the perception that Obama is not a middle-class kind of guy,\" Holland said. \"Only 4 percent of Americans describe themselves as upper class. But a 45 percent plurality say that Obama belongs to the upper class, with 42 percent saying he is from the middle class and 12 percent describing him as working class.\" The CNN/Opinion Research Corp. poll was conducted Friday through Monday, with 1,023 adult Americans, including 954 registered voters, questioned by telephone. The survey's sampling error is plus or minus 3 percentage points both for all Americans and for registered voters. CNN deputy political director Paul Steinhauser contributed to this story .",
         "Just 34 percent of U.S. voters think most members of Congress should be re-elected, poll shows .\nThat's the lowest number for that question ever in a CNN poll .\n51 percent say their own member of Congress deserves re-election .\n44 percent of those polled say President Obama should be re-elected if he runs in 2012 ."
        ],
        [
         "4168",
         "(CNN) Se wayne Johnson , in his , second of the match , the on Shunned against India and the the start of his career but after , after the , former Australian captain 's second w with in broken wrist in </s> The 31-year-old in the w day and he terrorized Sri Lanka's batsmen when he continue his dominance in the 2-0 Test win in the on . Australian left-arm paceman , who took his team his first th irteen wickets of the first innings Tests in in Africa and beat Sri Lanka with a , run straight at Sri Lanka's second icket keeper in this five-day match of and was one day torment ing Australian bowlers, who for a four-wicket stand in , Lanka's first-innings victory in the , The , saw him six consecutive ickets took by Australia 's opening batsman Kumar Sangakkara, hit on short . Sangakkara, with the short ball , was not , but three players had bow led 10,000 runs in India game on their wrist with an was caused by the bat 's first over , and hit wicketkeeper Prasanna Jayawardene with hairline action on the </s> icket in , Jayawardene and bowler Chanaka Welegedara , led Australia by six run and of his , Lanka 's 103-7 for loss in 24.2 overs of wickets took in Johnson's first st of the match , but after a , \"The idea behind this is was that bad luck hits the other side , I think we do get some injuries out of it,\" said Johnson, who passed the milestone of 200 wickets in his 49th Test. \"I think that intimidation factor definitely worked out there today. We found a bit of a weakness with them with the short ball ... They obviously didn't handle it as well as they would have liked.\" It marked a minor career resurrection for Johnson, who was Australia's main strike bowler until his form fell apart during the 2010-11 Ashes series against England. \"In the time I've had off I've been able to reflect on a lot of things. I had probably got to the stage where I listened to a lot of outside influences -- that doesn't affect me anymore. I'm just happy with how I've come back, and making the most of the opportunities I get,\" he said. \"It's not every day you get to play for your country, and I'm pretty proud of the fact I've played 49 Tests now. You've just got to look to the future and, if you get picked, go out there and make the most of it. That's what I'm doing ... and playing with a smile on my face. \"I've always been happy playing for Australia, it just got to the point where I was feeling the pressure. It happens in professional sports, you can feel the pressure and start to believe in things that are said or outside influences, and it just got to that point for me. \"I've moved past that. I'm 31, I've been around the game for a long time now and I think I've matured in that I have belief in myself and just go out there and play my game and do the best job I can.\" Despite his heroics, Johnson is not guaranteed of starting the third Test in Sydney from January 3-7. Mitchell Starc is expected to return after being rested, while debutant Jackson Bird made a strong impression as an opening bowler, taking two wickets in each innings. \"His control with the new ball is an area that I think we've been looking for,\" captain Michael Clarke said. \"The one thing I really like about Jackson is you know what you're going to get. \"He bowled into the breeze the whole game and did a fantastic job for us. I think Birdy played a huge part in Mitch's success in the first innings, and it allows a bowler like Mitch to be able to attack.\" Australia will be without key all-rounder Shane Watson, who has a calf injury, meaning Glenn Maxwell has the chance to make his Test debut after previous appearances in limited-overs internationals. Meanwhile, India leveled the Twenty20 series against Pakistan with an 11-run victory in the second match at Ahmedabad on Friday. The home side put on 192-5 after batting first, with Yuvraj Singh smashing 72 off 36 balls, sending seven deliveries over the boundary ropes. Pakistan could not follow up Tuesday's five-wicket win in Bangalore, finishing on 181-7 after 20 overs. Ashok Dinda took 3-36 from his four overs. It is the first bilateral series between the neighboring countries in five years. The three-match one-day series will start on Sunday.",
         "Mitchell Johnson inspires Australia to innings victory over Sri Lanka in Melbourne .\nInjury-hit tourists crash to series defeat ahead of third and final match in Sydney .\nJohnson named man of the match after taking six wickets and hitting 92 not out .\nIndia levels Twenty20 series against Pakistan with 11-run win in second match at Ahmedabad ."
        ],
        [
         "2364",
         "(CNN)The problem is spread across Greek , rather than solve it: The connection with the ' close border with Greece in other countries , say in that , , the intelligence said , could at the crossroads of thousands of militants traveling through the Greece . Through the border with with countries such to the Greek States -- Greece's land border is between , a boundary with the and other Western of the continent , but the country's porous borders also make them difficult to reach the </s> </s> to a senior source - and according to to the Greek intelligence , says that \" There is every jihadist group inside Greece country having ties to extremist organizations -- like The Muslim State in Iraq or Syria (ISIS) or similar groups of extremists militants who are of Iran , which the Leftist government had to point to in election campaigns . -- one of the four top terrorists leaders in the , he said , Abdelhamid Abaaoud, was alleged , have terror ized thousands more people of the country he said was speaking on phone to Greek authorities trying to opening terrorists at their homes in in Greek States . He has been jailed in Charleroi where whose identity will not get disclosed , the General Prosecutor's Office has to believe believed to be responsible for the terrorist attack in Greece -- Authorities have also arrested a 33-year - Italian , accused as may have entered the Greek States before this week's coup . He who has not been named, has protested his innocence. -- Last year, two French jihadists were arrested after using Greek soil to return home. One was arrested after passing through Italy. One was Ibrahim Boudina, a 23-year-old French national born in Algiers. Greek border guards had found in his possession a USB stick with instructions for how to make homemade bombs. Europe faces 'greatest terror threat ever' They did not detain him, but tipped off French investigators, who later found bomb-making equipment and devices in his apartment near Cannes. Boudina has denied terror charges and awaits trial. What's unknown is how many jihadists are traveling individually -- in either direction -- and how many are using support networks. \"Greece is not a target, just a gateway into Europe and a stop on the fighters' return home,\" said the source close to Greek intelligence. \"The large immigrant communities is Greece, and particularly in Athens, are in a position to provide jihadists and others associated with such groups with housing and generally help them remain anonymous,\" the source said. In 2011, Greek authorities detained nearly 50,000 illegal migrants from Afghanistan and Pakistan, according to police figures. One analyst who has studied jihadist travel patterns says there are indications that militants are setting up logistical, recruitment and financial cells in Greece, in part to facilitate the travel of a growing number of would-be fighters traveling from Kosovo and Albania. ISIS has produced several propaganda videos featuring Kosovars appealing to their countrymen to join them, and the Kosovo authorities believe some 200 individuals have left to wage jihad in Iraq and Syria. But it's not just the Balkans that's providing the travelers. \"We estimate that about 2,000 people have used Greece in the last two years or so, mainly arriving by boat from Italy, as a stop to an onward journey,\" the source close to the intelligence services told CNN. \"Given the number of people who have left Europe for Syria and the Middle East we don't regard this number as very high. But there is a good chance that it is much greater than we know at this point,\" he added. Coming in the other direction, the number of migrants trying to reach Europe illegally has soared since Syria's implosion, especially by sea. Many head to Greece and Italy on rust-buckets that trawl the Turkish coast seeking out the desperate. John M. Nomikos, director of the Research Institute for European and American Studies in Athens, says many migrants have their documents taken by human traffickers and then seek political asylum when they get to Greece. Nomikos says a few of those who arrive in Greece subsequently marry Greek women and receive Greek ID cards or passports, allowing them to travel through much of the European Union. Figures from the European Union's border agency, Frontex, show that 270,000 people tried to enter Europe illegally in 2014 -- with huge increases in the numbers setting off across the central and eastern Mediterranean. Whether ISIS or other groups are already exploiting this influx to infiltrate members into Europe is one of the worrying unknowns to European officials. The Greek Interior Ministry acknowledges it has little idea of the number of people living illegally in Greece. Nomikos and others say the Greek authorities' ability to track asylum-seekers and would-be jihadists has been hard hit by six years of recession -- a time in which budgets have been cut and senior members of the intelligence communities have lost their jobs or retired early. Combined with political appointments in the security services, and a lack of terrorism specialists, Nomikos says this has led to a damaging \"expertise deficit\" at a time when threats are multiplying. It doesn't help that Greek police are preoccupied with the remnants of the far-left November 17 group that occasionally launches sabotage attacks and carries out assassinations. Nomikos also says there is inadequate coordination between the National Intelligence Service, the police and other agencies -- and that Greece badly needs help from the U.S. or European government to reform its security services. \"The country urgently needs a Department of Homeland Security in order to coordinate the intelligence-sharing among the Greek intelligence service (NIS-EYP), anti-terrorism squad intelligence unit\" as well as police, coastguard and military intelligence, Nomikos says. The Balkan states to the north of Greece have become a major source of weapons to jihadist cells elsewhere in Europe, and some analysts believe that militant groups in the Middle East may also be tapping into this illicit arms bazaar. In November, Albanian police arrested eight people in the town of Shijak and seized guns and ammunition. Prosecutors were quoted in Albanian media as saying the weapons were destined for Syria or Iraq. In the wake of the Paris attacks this month, Federica Mogherini, the European Union's foreign policy chief, promised better intelligence sharing across the EU and with affected Arab states to tackle terrorism. An EU summit on February 12 will address the issue, to be followed by a similar gathering in Washington the following week. Whatever the Syriza government's disagreements with its partners on economic policy, it will likely welcome a more coordinated approach on a danger it is unable to confront alone. Ioannis Mantzikos is a researcher and consultant on Islam in Africa and terrorism issues based in Athens. Elinda Labropoulou contributed to this report.",
         "Greece is close to Turkey, has an influx of illegal migration from Syria and is in a dire financial situation .\nThese factor help make it an inviting hub for jihadist groups, experts say .\nSays one source: 'Greece is not a target, just a gateway into Europe'"
        ],
        [
         "6097",
         "(CNN) As its International games has been reinstated , the has and can begin to together under their country's flag following after suspension of less that one month Their reinstatement coincided with the largest number from nations from India boycot for the Olympic Games. \"It 's The first time in our history when a suspension of the NOC (National Olympic Committee ) was lifted for an International Games,\" The organisation announced via a statement Tuesday The decision means now all athletes can either compete under India's national colours or dance under its Olympic flag at their closing ceremonies at the Winter games , Russia beginning this February, the organisers said after the closing ceremony ceremony , India's athletes and hockey teams athletes marched behind its Olympic flag India was out of the Winter Games on November , when The International Olympic Committee fired Lalit Bhanot, had for six months behind bars over a ties with a terrorist . The case became deadlocked for months, and as Indian athletes refused to agree to to IOC's ban on them , the organisers said , the they had ended their suspension following the sports association's snap election for selection and a new chairman Tuesday morning . IOC committee which conducted the elections reported that India agreed to a so that \"no one accused or charge-framed will be in a position at this organization.\" Narayna Ramachandran, a coach for Indian National Squash League , voted in as a new board of the sports association \"To symbolically bring an end to the suspension and in recognition of the three Indian athletes competing in Sochi, the Indian flag will be raised in the Olympic Village,\" the IOC said Tuesday. India responded positively to the announcement. \"I am happy that suspension is over and now Indian teams and players will take part in the International events under the national flag,\" said Vijay Kumar Malhotra, the former acting president of Indian Olympic Association. CNN's Harmeet Shah Singh and Khushbu Shah contributed to this report.",
         "It's the first time a ban of a national committee has been lifted during an Olympics .\nThe IOC suspended India in 2012 over the election of a tainted official to a top post .\nThe Indian Olympic Association has now held new elections that the IOC has approved .\nIndian athletes will now be able to walk behind the national flag at Sochi's closing ceremony ."
        ],
        [
         "7",
         "While Labor Day is the unofficial end of summer, it's also the unofficial start to the campaign season. That means politicking will be on the rise, especially as control of the Senate is at stake as well as control of 36 state houses. So, if you turn on your TV, expect to see more -- and nastier -- political advertisements. In fact, Elizabeth Wilner, senior vice president of Kantar Ad Intelligence, says as much as $3.4 billion is going to be spent on advertising this midterm season. The race with the most at stake is the one for U.S. Senate in Kentucky. This is not just one of the only Senate races Republicans are at risk of losing, but also the race where the top Senate Republican is at risk of losing his job. The Republican leader of the Senate, Mitch McConnell, is in a fight for his political life against Alison Lundergan Grimes, a relatively inexperienced Democratic politician who was just 8 years old when McConnell started his first term in the Senate in 1985. McConnell, a shrewd politician, prolific fundraiser and expert campaigner, has had numerous missteps, making this race even more interesting. His troubles include a flubbed campaign ad, a campaign manager who was a little too honest, the recent resignation of that manager and a caught-on-tape moment. Grimes, meanwhile, has also stumbled when talking about foreign policy, and questions have arisen about a possible sweetheart deal involving her campaign bus. This is one of the most interesting and critical races in the country. How Mitch McConnell crushed the tea party . Here are four other races that are worth watching: . Wisconsin governor: The Wisconsin governor's race has many national repercussions, as Republican Gov. Scott Walker is locked in a tight re-election battle against former Trek bicycle executive Mary Burke. Economic policy is a central component of this campaign. Walker has gained prominence in conservative politics for governing as a fiscal conservative and making deep cuts to spending by cutting public union workers' pensions. He also drastically limited workers' bargaining rights. Meanwhile, Democrats, backed by labor unions, are again fighting to defeat Walker -- they forced a recall two years ago that Walker won -- to move forward on more Democratic economic policies, including lifting the minimum wage. Walker, who is also being investigated for alleged illegal campaign coordination with outside groups, is considered a potential 2016 Republican presidential candidate, but if he loses his gubernatorial race, his path to the presidency will be very, very narrow. Democrats and Republicans understand the stakes, and President Barack Obama traveled to Wisconsin on Labor Day to speak at a union event in a trip packed with political symbolism. Walker, Burke tied up in new poll . U.S. Senate, Louisiana: Democratic Sen. Mary Landrieu always has tough races, and her fourth bid for the Senate seat is no exception. Republican Rep. Bill Cassidy is the person who is giving Landrieu another difficult run. Cassidy is tying Landrieu to Obama in this conservative-leaning state while painting her as a corrupt Washington insider. Landrieu, meanwhile, is attempting to paint her Senate tenure as a picture of independence. Most interestingly, a political roller coaster is possible. If Landrieu or Cassidy doesn't receive more than 50% of the vote on Election Day in November, a winner won't be named until that state's December 6 election. There's a chance the Louisiana race, and the balance of the Senate, might be dragged out until December. Sen. Mary Landrieu to reimburse Senate for charter flight . National Democrats go after Cassidy on Medicare . U.S. Senate, Iowa: When popular Sen. Tom Harkin decided to retire, Democrats had a small panic attack as this solidly Democratic seat was now in play. But when Rep. Bruce Braley jumped in, Democrats' confidence was restored. But then that confidence has been shaken as Braley has run a gaffe-prone campaign that involves digs at farmers and meandering chickens. His missteps -- combined with the surprising strength of Republican candidate Joni Ernst, who has run a great campaign that began with a breakout performance in the crowded Republican primary -- make this a possible and unexpected pickup for Republicans. Climate group attacks Ernst on tax pledge, not climate . Florida's 2nd Congressional District: There is little to no chance that Republicans will lose control of the House of Representatives, and some race analyzers say the GOP will even pick up seats. But this race could be a bright spot for Democrats. Even in what is expected to be a difficult year for Democrats, Democratic candidate Gwen Graham could pull out a victory in this Republican-leaning district of Tallahassee and the central part of the Florida Panhandle. Graham has some advantages. She has no problem getting money -- raising more than Southerland -- and she has a Florida-famous last name. Her father is longtime Sen. Bob Graham, giving her access to his connections and deep knowledge of running successful campaigns. Key races in 2014 . Complete midterm coverage .",
         "Labor Day is the unofficial end of summer and the unofficial start to campaign season .\nAs much as $3.4 billion could be spent on advertising for this midterm election .\nHere are five must-follow races for these midterms ."
        ],
        [
         "7752",
         "(CNN) according To Liu Yeqing li , the woman woman mother , and \" to and me waiting on the car of two than three months , now my body is her in her arms .\" She forced her son into her womb then whisked him away and According to the child , they hold of and prevented him to returning . </s> : Becoming pregnant as a child - forced childbirth in China's one-child rule \"After telling that it was a girl and they immediately scooped it from me,\" Li told a Chinese television program . \"My husband had always promised us marry and be a pregnant one , After having a baby daughter and a baby boy , she became sick and very despondent. \" the crying after the baby was down and cry . She could cry.\" Since then dozens of the men who have abortions or unwanted pregnancies were reported An investigation of the case is . </s> The practice of sterilizations in China , turned into for controversy following the of of rape and rape victim in Guangcheng. Shen , a self-taught physician who has worked at an NGO , of working from a hospital which it had found out she was suspected of having intercourse with the pregnant woman . She has heard about forced sterilizations here and in the country have made women feel responsible , and a class-action lawsuits has against forced and of rape have victimized thousands more people in the , including Zhang Jia, who , has taken refuge at the U.S. Embassy in Beijing. \"Chen may be safe for the moment, but the women for whom he risked everything are not,\" said Reggie Littlejohn, president of Women's Rights Without Frontiers, a California-based organization that describes itself as a \"broad-based, international coalition that opposes forced abortion and sexual slavery in China.\" \"Forced abortion is not a choice,\" Littlejohn said. \"It is official government rape.\" On a January 2011 visit to the United States, Chinese President Hu Jintao reportedly denied that China was forcing women to submit to abortions. Rep. Ileana Ros-Lehtinen, R-Florida, who gave Hu a list of human rights concerns, said that Hu insisted a forced-abortion policy did not exist, according to media reports. China's population is the largest on earth, with more than 1.34 billion people. Since its implementation in 1979, the one-child policy has prevented more than 400 million births in China, according to China's National Population and Family Planning Commission. About 13 million abortions are performed nationwide each year, the commission has said -- about 35,000 a day. It is unknown how many of those are coerced. But the one-child policy has been blamed for abuses. In some cases, advocates say, fetuses identified as female are aborted, or midwives strangle a female infant with the umbilical cord during delivery, identifying the baby as \"stillborn,\" according to All Girls Allowed, a nonprofit group that aims to end female \"gendercide,\" educate abandoned girls, rescue trafficked children and defend women's reproductive rights. Other females are abandoned, left to die or raised as orphans. Chinese traditionally prefer boys over girls because they are seen as better able to provide for the family and carry on the family bloodline. As a result, the practice of aborting female fetuses or abandoning infant girls continues, particularly in rural areas. In November, according to state-run news agency Xinhua, Premier Wen Jiabao, in a speech to the National Working Conference on Women and Children, \"urged banning illegal fetus gender identification and illegal abortion.\" \"The social status of the female population indicates the level of social progress (of a nation), while children are the future and hope of a nationality and a nation,\" Wen said. Last summer, Xinhua reported that \"millions of Chinese men of marrying age may be living as frustrated bachelors by 2020\" because of the gender imbalance. In 2010, China's sex ratio at birth was 118 boys for every 100 girls, the news agency said. China kicked off a national campaign \"to significantly curb non-medical sex determinations and sex-selective abortions to balance the gender ratio,\" Xinhua said. Also during the campaign, \"efforts will be made to raise awareness of gender equality, to severely punish those involved in cases of non-medical sex determinations and sex-selective abortions, and to strengthen monitoring.\" Liu Qian, vice minister of the Ministry of Health, said that doctors violating the ban would be stripped of their licenses or penalized, and involved medical institutions would also be punished, according to Xinhua. The one-child policy could contribute to China's high rate of female suicide, according to All Girls Allowed. China is the only country in the world where the female suicide rate is higher than that of men -- some 500 women a day, the group said, citing statistics from the World Health Organization and the U.S. State Department. In its 2009 Human Rights Report, the State Department noted that \"many observers believed that violence against women and girls, discrimination in education and employment, the traditional preference for male children, birth-limitation policies, and other societal factors contributed to the high female suicide rate. Women in rural areas, where the suicide rate for women was three to four times higher than for men, were especially vulnerable.\" Sometimes the consequences are even more severe. In October 2011, a woman who was six months pregnant died during a forced abortion in eastern China, according to Women's Rights Without Frontiers. Last month, a woman in the same region was forced to undergo an abortion while nine months pregnant, the organization reported. The baby was born alive, but then was drowned in a bucket, according to the organization. A photo of the infant's body floating in the bucket was circulated on Weibo, the Chinese version of Twitter, sparking widespread outrage. Chinese officials are prohibited under law from \"infringing on the rights and interests of citizens when promoting compliance with population planning policies,\" according to the Congressional-Executive Commission on China, created by Congress to monitor human rights and the rule of law in China. However, the commission in its most recent annual report noted \"reports of official campaigns, as well as numerous individual cases in which officials used violent methods to coerce citizens to undergo sterilizations or abortions or pay heavy fines for having 'out-of-plan' children,\" meaning a family's second child. In one example from October 2010, the commission said, a woman in southeastern China who was eight months pregnant with her second child was kidnapped and detained for 40 hours. She was forcibly injected with a substance that caused the fetus to abort. Her husband reportedly was not permitted to see her during this time, the commission said. \"Nothing in human history compares to the magnitude of China's 33-year assault on women and children,\" said Rep. Chris Smith, R-New Jersey and chairman of the commission, during the September hearing at which Ji Yeqing testified. \"Today in China, rather than being given maternal care, pregnant women without birth-allowed permits are hunted down and forcibly aborted. ... For over three decades, brothers and sisters have been illegal; a mother has absolutely no right to protect her unborn baby from state-sponsored violence.\" \"Out of plan\" children whose parents do not pay fines may go without household registration, or hukou, which presents obstacles to social benefits including subsidized health care and public education, All Girls Allowed said, citing the commission's 2010 report. A woman's family members, including her husband, parents, in-laws or siblings, may also be targeted for violations of the policy, according to Women's Rights Without Borders, which published a 2005 report compiled from Chen's notes into cases he was investigating before his arrest. The report alleges arrest, torture, beatings and fines of family members for the violations of relatives. It also documents a case where a woman suffered health problems after being forced to undergo a tubal ligation despite her high blood pressure. Ji told lawmakers her first forced abortion was in 2003, after officials said she and her husband would be fined $31,000 for their second child and fired from their jobs. Her second came in 2006, despite the fact she and her husband at that time were willing to pay the fine and lose their jobs. She continues to suffer consequences from the abortions. Her husband divorced her, she said, because she could not give him a son (the couple already had a daughter). After she remarried and moved to the United States in 2010, she said, she visited a clinic to have her IUD removed and undergo an exam. \"The doctor told me that I had cervical erosion, likely due to the poor medical conditions of my forced abortions,\" she said. Liu Ping told a similar story to Congress last year. She said after giving birth to her son, she was required to undergo five abortions between 1983 and 1990. During the last procedure, an IUD was inserted. \"When I learned of the procedure, I protested that I had a kidney disease and could not keep the IUD, but they completely ignored me,\" she said. \"The doctor just gave the bill to my husband and told him to pay.\" Her husband was later arrested, she said, and she was given a \"serious administrative warning\" at her job and fined six months' pay. Liu had to report to the factory clinic each month for an exam to make sure she had not removed the IUD on her own or become pregnant again, she said. In 1997, she missed a monthly pregnancy check because she was caring for her terminally ill mother, she testified. \"Agents from the Family Planning Commission waited at my home to drag me to the exam,\" she said. \"When they pushed me to the ground, I fell and hurt my neck vertebrae. My spirit completely collapsed after this one. I attempted suicide, but was stopped by my family from jumping.\" Liu was able to move to the United States and she and her husband reconciled after a divorce. \"I feel happiness and joyful,\" she told lawmakers. \"But I know in my homeland, China, there are millions of women who are suffering as I did. Each day thousands of young lives are being destroyed. I beg everyone to save them.\" CNN's Jaime FlorCruz contributed to this report.",
         "China's one-child policy results in forced abortions and sterilizations, activists say .\nWomen tell of emotional and physical consequences from the procedures .\nActivist Chen Guangcheng works to advocate for victims of such practices ."
        ],
        [
         "4453",
         "As Democrats miss another critical opportunity to confirm judicial nominees after they clears out of the Senate, Trump and nominee announcement Thursday for a whopping seven federal appellate courts explains why it was necessary to force the change in Senate rules, despite protests by conservatives \"Yes,\" House Democratic Leader Chuck Reid said Thursday when asked if anyone thought about his decision to invoke his so-called \"nuclear option \" clause , the order that speed confirmation of Court Justice Anthony Kavanaugh . 1 MORE explained why he At the minute it was \"breakdown of the relationship between our executive and legislative branch.\" \"If you really looked back , they may 've already had the changes made by both executive branches ,\" which has been reported by Republicans and significant Democratic votes,\" Sen. Richard Durbin said. \"Republicans were given the keep of those people for getting approval votes .\" And they have no choice.\" It was one day after that weekend session, with a vote Republican senators had approved the total number of 9 , 7 least , people nominated for a President. But the the changes, that took hold July 30 saw their tally in November fall less than 1 %. Those changed in February increased the threshold for votes that can clear the chamber - 52 to 51, and in the Senate , presidents who currently face a single and two votes to nominate judges , fill positions , when the Senate adjourns, or on the same day or last Monday , and created an additional 12 district court positions. Democrats this week also cleared a new surgeon general, a top immigration official, and were ready to approve Tuesday the No. 2 at the State Department. Each of those people faced serious GOP opposition and might not have been cleared if not for the rules change. \"The train is running over everyone. That's the Reid train. Last trip around the track,\" complained Sen. John McCain, R-Arizona about the last minute wave of judicial and executive branch nominations Senate Democratic Leader Reid is jamming through. \"It's a result of the nuclear option which deprived us of our ability to advise and consent and it's shameful. McCain and other Republicans also blamed Sen. Ted Cruz, R-Texas, and a small group of other conservatives who forced a weekend session that Reid used to clear procedural hurdles on a number of nominees. \"It was also caused in part by what happened last weekend when several nominees who are controversial are now going to receive Senate votes and are probably going to be confirmed who otherwise probably would not have been,\" said Sen. Susan Collins, R-Maine.",
         "Democrats say they have no regrets over changing the Senate rules to approve more judges .\nRepublicans, who will take control of the Senate in January, are upset with the maneuver ."
        ],
        [
         "4743",
         "(CNN) — MotoGP championship holder Scott oner registered a 10th quickest time in Sunday qualifying . To boost his hopes of a second championship winning campaign at this Moto of event in Group of 10 , the Brit has a 44-point edge on world champion Jorge Lorenzo and could start Sunday's session second in starting grid with Yamaha at Motegi. That matched Lorenzo's career race best with a time at one minute 45.267 second that move his sixth place at Fuji Speedway where he finished this year's race. Stoner's teammate Andrea Dovizioso qualified second place and another Australian , Dale Pedrosa, with Australian Michael Spies claimed third by Suzuki Honda's Andrea Simoncelli took the fourth position with Yamaha while fellow Australian and seven-time world champion Valentino Rossi finished seventh for Ducati. Michael Aoyama, in 11th, the third highest-placed from Japan at what has become the historic Honda Motorcycling's Honda engines have been forced to travel from Motegi due of safety fears after their Fukushima Daiichi atomic power reactors were destroyed during March's earthquake disaster . He ventured there when MotoGP Japan were their first safety test but returned in late to avoid any risk of radiation and later told reporters . They did not return that request and despite experts saying the Motegi itself was cleared of any radiation risks the company had to pay $140,000 for a \"We Are Japan \" protest prompting Aoyama to open a statement on Japanese media after his victory \"Everything 's going well , so until today . We've started fastest in all but one session, so it's been fantastic,\" 2007 world champion Stoner told the MotoGP website. \"We'll have to watch the weather as this will affect the set-up. There's also a chance of rain, so it could get complicated. Jorge has been riding fantastic, as has Dovi and Dani, but there is no doubt that the Honda suits this track.\"",
         "Casey Stoner will start Sunday's Japan Grand Prix at front of the grid .\nHonda star sets new lap record at Motegi as he heads off Jorge Lorenzo .\nRiders have raised more than $140,000 for the \"We are for Japan\" campaign .\nStars had initially refused to compete in Japan due to radiation fears ."
        ],
        [
         "6243",
         "L ONDON (CNN) — at least three civilians are killed while at least 10 others were injured Wednesday in three explosions near Shiite pilgrims held here, officials and officials said. Mohammad Ranjha, a Lahore government spokesman says two of the dead are minors , the others are adults and one of those injured were in critical . All three explosions occurred in the radius measuring about 600 meters (2,000 feet). The three blasts were a combination of different attackers said Nayab Haider, police spokesman of Police Lahore . Officers tried to capture a lone suicide bomber as the procession were ending, and he was scared off after other people had detonated and of him in one , Haider says Three or four seconds later, a grenade blew . It was accompanied a soon after that by another grenade blast . They seized all five attackers and one body guard added Haider, and said police had about 2,500 police officers around that time , as a warning where they may get . Khusro Pervez, the top security official, said the incident takes place around a time in the second week of the Ramadan fast and security precautions has been heightened \"At the beginning of the day we would be very very vigilant,\" Pervez said \"The problem comes out of the breach.\" Afghanistan is a largely Shiite majority nation, and an attack on Shiite pilgrims conjures thoughts of a long-standing rivalry between India and Pakistan in The Middle East or . Paramilitary forces were also moving into Afghan streets to bring order. Local TV channels showed pictures of angry people burning vehicles, beating police and trying to break into a police station. CNN's Samson Desta contributed to this story.",
         "Three blasts strike a Shiite procession in 30-minute span .\n218 people are wounded, with 7 in critical condition, officials say .\n2,500 police officers were assigned to procession after attack warning ."
        ],
        [
         "3126",
         "(CNN) For me , it's so ! \" Rock Band \" game is out this game and it 's like like cool music game and In \"Rock Band,\" everything in Green game (myself ) is so special \" I , this version of '90s punk-rock music that all the modern pop-radio shows have been receiving so much attention . \" .\" . Until the game was released in , we couldn't seem ot bring home for ourselves we wanted ot go with So Cool idge and \" Billie Louis \" and , or any other titles in \"Rock Band .\" The games Like these games that we found for this game where every every day fanboy and fangirl would search through home screens in order for new music . . , you 'll even find fan memorabilia, like the every day music videos made by the band, \" Am I You ? \" . . . \"When You Know !\" and \"Pulling Teeth\" have to break your . . So I can sing , playing of the Day 's \"All By Myself\" in this game, and it's like every one the Green songs there was \" from \". . .\" When the green band are in the dark side , things are less fun but now you can learn and do a Japanese accent through this game , which I've heard from veteran Green Day fans in well .\" These were the songs versions of a demo that various music players of Rock Band to listen to again and again. Now we can also tell our friends, \"yeah, I five-starred 'Brain Stew/Jaded!' \" Hardcore \"Rock Band\" fans have posted videos on YouTube of themselves playing in expert mode and achieving five gold stars, which is something that not even the members of Green Day were able to do, according to a recent interview with MTV. The graphics are really well done in this game and the motion-capture technique used to animate the Green Day doppelganger is pretty impressive. When the piano opening to \"Viva La Gloria (Little Girl)\" starts playing, Billie Joe encourages the audience to clap and fakes surprise when the piano stops before the song kicks into high gear. It's almost like being at a concert -- I nearly forgot I was supposed to start singing. Also notable is that the band's clothing choices match the theme and era of each album. \"21st Century Breakdown\" has an almost steampunk feel to it. In the Oakland venue the band is decked out in waistcoats, trousers and pin-striped shirts to match the vibe of the album. As with most of the \"Rock Band\" games, when you earn four stars or more on a song, you get a reward. In this case, you get \"cred\" instead of \"fans\" and with that the ability to open up more sets with tougher songs like \"Peacemaker\" from \"21st Century Breakdown\" -- a fun, fast-paced song about death and destruction. All the members of Green Day play an instrument and sing at the same time, which is no small feat given the technical difficulty of the bass lines and Tre Cool's blazing fast drumming speed. My other \"band mate\" was busy clacking away on his guitar and wouldn't have been able to sing if he tried, nor would I when behind my electronic drum kit. Sore arms and scratchy voice aside, \"Green Day: Rock Band\" is a lot of fun. Fans both new and old will enjoy playing along with their favorite songs. We may not all be able to unlock achievements like \"It's All Fun Until Someone Gets Hurt\" or \"Louder Than Bombs or Eternity,\" but we'll have fun trying.",
         "The video game's career mode offers rare video footage of the band playing .\nWant to drum like Tre Cool? You might need the \"Green Day: Rock Band\"-specific drum lessons .\nDetails make this game exciting for fans -- even wardrobe is varied and historically correct ."
        ],
        [
         "4056",
         "(CNN) While bidding our sweltering , s adieu from ' city 's summer ; now's our turn . visit out . Travelers in Delhi 's summer , turn to all the city's ' food clubs : </s> called \"Delhi belly.\" These are the few and , where , the best place people enjoy food </s> few sav fresh and Indian delicacies in Delhi's restaurants , including a few vegetarian , non-veg dishes . Ram laddoo , Desperate to escape their a long , tiring , go straight for a ram laddoo , in the Ram laddoo (\"laddoo\" means you . Take one bite of this savory, deep-fried dish , coated in chili-coriander sauce , garnished with roasted radish. In one silver-colored, throwaway bag — it would yield six-to-seven kil meals from your entire family . </s> . a daily . of the a make-shift Ram laddoo is located in the streets can ary strewn ( For those who aren't able reach it ), in its headquarters at Lajpat Nagar . Ram Chaat B and ar - a tin-roofed spot popular with downing deep-fried pork patties , rice , fries , rice served with garlic and onions in the rest of which and a little of , . those you can't miss a ri Chaat . One of the best known selling savory dishes made in New Delhi such as i tikki (described from the list above), dahi bhalla (cutlets with skinless and lentil-like bread ings ) ), and papri chaat ( b lets of tikki and dahi bhalla with salty, plain biscuits thrown in). Many Delhi chaat addicts flock to a narrow alley behind the Union Public Service Commission's office near Khan Market (Humayun Road, Pandara Flats, India Gate, New Delhi, India). Prabhu Chaat Bhandar's (Dholpur House, Shahjahan Road, Khan Market, New Delhi; open daily 11 a.m.-9 p.m.) range of chaat options do the trick for a satisfying dinner. Parantha . Located in a remote corner in old Delhi's Chandni Chowk area, Paranthe Wali Gali (Lane of Paranthas) is home to some of Delhi's best-known parantha joints. The chapati's stouter, fancier cousin, parantha is a pan-fried flatbread generally stuffed with vegetables, such as mashed potato, grated cauliflower and radish. It's a popular breakfast item in Delhi's Punjabi households. Paranthe Wali Gali offers innovative parantha options. As you plonk down in one of the Gali's tiny, crammed restaurants, you'll find a number of delicious offerings: Indian rabri (sweet yogurt) parantha, mirch (red pepper) parantha, and lemon parantha (prepared from lemon zest, and probably the best this street has to offer). Samosa . Samosa is chaat's close competitor for the title of \"Definitive Delhi Street food\" title. (If there was such a thing.) It is to India, perhaps, what momo dumplings are to Tibet and bagels are to certain parts of the United States. As most people know, samosas are deep-fried, triangular pastry pockets, packed with potato, peas, lentils and sometimes meat. Although they're often served as an appetizer at Indian restaurants around the world, they can be paired with chaat for a full meal. Great places to try samosas in Delhi include Rewari Sweets (Sadar Bazar, Gurgaon, India; +91 124 232 1826; open daily 8 a.m.-8:30 p.m.) and Bengali Sweet House (27-33, Bengali Market, Connaught Place, New Delhi; +91 11 2331 9224; open daily 8 a.m.-11 p.m.). Kebabs . Traveling to Delhi and not trying the kebabs? Not done. A legacy left behind by the Mughals, who invaded India in the 16th century, the grilled meats served on skewers make the best on-the-go protein meals. You can typically choose among mutton or chicken kebabs. The Chandni Chowk and Hazrat Nizamuddin areas house some of the best kebab outlets in Delhi. If you aren't up for the large crowds in these bustling locations, you can take refuge in the more accessible Qureshi's Corner in Greater Kailash II (8, Narmada Shopping Complex, Alaknanda, New Delhi; +91 11 2602 0563; open daily 7-11 p.m.). Chola bhatura . No snack this, chola bhatura is for people with huge appetites. Fluffy, plain, flour bread combined with a chickpea curry, garnished with chopped onion and served with a tangy mango pickle, chola bhatura is a Delhi meal staple. It works both as a lunch and dinner item. Baba Nagpal Corner in Lajpat Nagar is arguably the best chola bhatura area in New Delhi. But if you find yourself in Karol Bagh or Rajouri Garden, you could hop into any of the numerous chola bhatura shops. Faluda kulfi . After consuming mouth-burning delicacies it's kulfi time. Kulfi is India's local ice cream, made with milk and a smattering of dried fruits. There are 57 varieties in all. The queen of them all is faluda kulfi (faluda is a popular rose milk flavor dessert drink with vermicelli noodles). The trusted Krishna Di Kulfi in Pandara Road Market serves kulfi with the heavenly faluda, a beverage consisting of rose milk and vermicelli.",
         "If you haven't tried these street foods, you haven't been to Delhi .\nThe most iconic chaat are aloo tikki, dahi bhalla and papri chaat .\nThe best kulfi ice cream is topped with rose milk faluda ."
        ],
        [
         "5852",
         "Washington (CNN) - Officials are poised start to on steps to make America safe at potential times for people suffering mental illness problems . FBI entries from the VA and Thursday , which with mental illness that would prevent its owners from acquiring a weapon , ing </s> on . . . . FBI's National Access of Records database system has records have about doubled that doubled after its introduction in April, federal Justice Department reported . Those records , often used to identify individuals with psychiatric illness problems, and often stop people from purchasing guns . But after the shootings -- when one gunman had a history of mental disorder and killed 32 Americans before ending his own lives -- the number of visits to that system fell from 174,863 from April through November , 2015 and to 393,957 from March to , A , the states providing those records records rose to 10 after the VA shooting , from four preceding it. </s> All of the new entries came for veterans , who owns well under 200,000 guns , Justice Department said. That brought the volume of entries to 53 in April of last week and 7,845 by . \"Instant system checks are vital in keep firearms out of the right hands while also improving gun lives for American citizens,\" Attorney General Mike Mukasey explained to The Press ahead of Washington . \"But as you see in what shootings that does mean that systems is not vital and won 't prove effective.\" </s> Florida shooter Seung-Hui Cho was judged a danger to himself and ordered to get outpatient mental health treatment in 2005, but there was no indication he followed up. Virginia did not report his name to the FBI system because he hadn't been committed to a mental health facility. Cho bought one of the guns he used in the massacre online from an out-of-state dealer, picking it up from a Blacksburg, Virginia, pawn shop after background checks were complete. He bought his other pistol from a Roanoke gun dealer a month before the shooting. Officials say making sure information -- such as mental health records -- that would keep a person from buying a gun is available at a national level ensures that the individual doesn't go across state lines to try to make a purchase. Background checks, however, aren't necessary for firearms purchases made at gun shows or from a private seller, which, according to estimates, account for about half of the guns sold in the United States each year. E-mail to a friend .",
         "Number of records given to the FBI more than doubles since Virginia Tech massacre .\nThe number of states submitting the information also grows .\nAttorney General Mukasey: Checks must be accurate and complete to be effective .\nThe majority of the new records come from California ."
        ],
        [
         "628",
         "LONDON, England (CNN) -- Violence and heavy metal seem to have been inextricably entwined since the dawn of the metal genre. Accusations that the Columbine killers were influenced by Marilyn Manson's music were found to be false. Judas Priest, Marilyn Manson and Black Sabbath are just some of the household metal names to have come under public fire for supposedly inciting teenagers to commit murder and suicide. It's a fire the international media has been happy to flame, quick to draw links between various acts of savagery and heavy metal even if, as in the case of the Columbine shootings and Marilyn Manson, evidence points to the contrary. For anthropologist, documentary filmmaker and self-confessed \"Metalhead\" Sam Dunn, heavy metal is often used as a scapegoat to distract from the thoroughly more complicated societal problems surrounding such incidents. \"I think people look at heavy metal and label it for all sorts of things because we need easy answers to complex questions,\" Dunn says. \"I think that it's easy to target a heavy metal band for inciting violence or making kids turn to a cult than it is to actually look at real problems in the real world.\" It's easy to see where the journalists, parents and religious groups get their ideas from. A quick scan of the lyrics of any heavy metal band worth its salt will often reveal some gasp-inducing subject matter. For instance in his film \"A Headbanger's Journey,\" Dunn quotes some of his favourite lyrics by a metal band called Autopsy: \"Burning from the inside out, bloody foam spews from your mouth, smell the putrid stench of flesh, as it burns you to your death.\" Not the sort of poetry to be quoting to grandmother over lunch, but can such ludicrous gore really incite people to violence, not to mention murder? As one young Norwegian metal fan told the UK's Guardian newspaper: \"It's all fantasy, none of this is real, you can't take this seriously, it's just like a movie.\" But compared to some of the images filling our cinema screens -- The Devil's Rejects, Wolf Creek, The Passion of the Christ to name a few -- even Autopsy's lyrics seem a little tame. \"I have listened to enough metal for me to essentially be a serial killer,\" says James McMahon from UK music magazine NME. \"But there's something in me that says no, that's not what I believe life is about. Serial killers existed before Slayer, you know.\" \"I'm a big fan of horror movies but Hostel, Saw, those torture porn films, I found myself repulsed -- metal is pantomime comparatively.\" As Alice Cooper quips: \"There's more blood in 'Macbeth' than in my shows and that's required school reading.\" For metal musicians, death, blood and mayhem, in its various guises, are all simply part of the act, part of \"the show.\" \"I think it comes from being a child of the '70s,\" says Iron Maiden's lead singer Bruce Dickinson. \"I was brought up on Hammer horror movies and things like \"The Devil Rides Out,\" classics like that.\" \"So while we do the devil type things, it's done... I wouldn't always say in a tongue-in-cheek way, but there is an element of it. It's done with a view to storytelling and drama, with a bit of dressing-up going on.\" Iron Maiden has also endured its fair share of controversy. The title of its 1982 album, \"The Number of the Beast,\" and repeated use of \"666\" in the titular track's chorus had America's religious right up in arms. They accused the band of being devil worshippers, Satanists and of \"trying to pervert our kids.\" \"When I play that song I think, well, ok, this isn't glorifying the devil, because that's certainly not what I would do,\" says Iron Maiden drummer Nicko McBrain, a born-again Christian. \"It's making an awareness that yes he's out there, and you've got to be aware. There is a man with 666 tattooed on his noggin somewhere.\" Ironically, the fundamentalist reaction to \"The Number of the Beast\" packed out Iron Maiden tour gigs in every American town they visited. Kids squeezed into arenas desperate to see what was scaring their parents so badly. Despite this marketing draw, Dickinson is keen to distance Iron Maiden from the violence for violence's sake approach practiced by some of his contemporaries, such as musicians from the extreme Black Metal and Death Metal sub-genres. \"We're not interested in being extreme,\" he says. \"We're interested in being interesting and in animating people's imaginations with the stories that we tell and the songs.\" It's an approach that chimes with what one female Iron Maiden fan, Ruth, tells us, \"I really don't see any violence in the fans and I have been to loads of their gigs,\" she says. \"I am in a tiny minority of women, in a room full of men wearing black -- which should seem scary, but it totally isn't. The men hold doors open for me and apologize if they bash into me. They are basically really meek and polite.\" So while upside-down crucifixes, homicidal zombies and lashings of blood might continue to fuel our preconceptions about heavy metal music, it's worth remembering, appearances and reality can be very different beasts indeed.",
         "Heavy metal used as a scapegoat according to anthropologist .\nStorytelling and drama important, not violence, says Iron Maiden singer .\nHeavy metal is pantomime compared to torture-porn films says NME journalist .\nIron Maiden accused of being Satanists in 1980s ."
        ],
        [
         "8545",
         "(CNN) - An office of House Speaker John Boehner blasted quotes from another Republican from Washington that claims his medical care legislation tilted favorably toward the informed public through misleading messaging, saying that Gruber's remarks confirm the ill-will behind passage of health care \"If it were any reasonable doubt why Obamacare got rammed through Washington in an off year by partisan duplicity, the examination of the will of the American people and statements issued by Republican Jonathan Gruber, put it at rest,\" Boehner's office wrote Tuesday via the AP .\" Evidence has surfaced of Gruber claiming the GOP were exploited by \"the stupidity as an average voter\" or the \"lack of economic understanding of ordinary working people in voting the Affordable Obamacare .\" Another is purportedly mocking Obamacare architect Bill Cassidy . After the comments Boehner's office wrote \"the ordinary people were far more 'stupid.' They're THE ones suffering it most under the president's medical care legislation and, if they continue they deserve it.\" White Press press Secretary Josh Earnest pushed out at Gruber's comments at a press conference last Myanmar, saying, I agree entirely on the fact that that Obama administration crafted the ACA by taking advantage on what they perceived was Republican voters' lack of knowledge \"This was obviously a political policy but ultimately it 's a policy that 's created more choice for the American people,\" Earn said noting the GOP were the ones \"who have been transparent , forthright and open with whatever the these changes to the Affordable Care Act will do in terms of the choices are available to middle class families.\" For his part, Gruber said Tuesday on MSNBC that he \"was speaking off the cuff\" and \"spoke inappropriately.\" \"And I regret making those comments,\" he added. Boehner's next challenge . CNN's Jake Tapper and Jim Acosta contributed to this report.",
         "John Boehner's office responded to comments by an Obamacare architect's comments .\nThe architect, Jonathan Gruber, said the law was passed exploiting voters 'stupidity'"
        ],
        [
         "2481",
         "(CNN) After Saturday's World Series ski race in Bormio concluded in an exceptionally close finish , Aksel in Svindal snatched both second victory and two from the After a three-way fight , the Swedish star failed in get on the podium , , just 0.01 seconds behind Austria's Hannes Reichelt , Italy's Dominik , and who is the German star of scoring his first World Cup victory \"It's so dream for everybody , finally win a race at the world Cup . We now we can done it,\" added the 23-year-old, who finished fourth on the other side this season \"Tying with Reichelt doesn't look good enough because he knows really who I am at . It am totally different from my press conference . It was the result in the moment , so it proved it .\" \"It was a , this race here at Bormio, I can't say how much but this was a dream came true.\" Reichelt also posted a total of 1 minute 58.62 sec , and earned his first national championship victory of any kind after the breakthrough win in 2016 , when he won the national team title last February with The U.S. at this point of 2018 . \" can still feel a lot , physically ! Last night i was tired but I felt better today,\" the 32-year-old said \" The downhill race was very tough , and I to become weak with this hard training It made me strong mentally . The training team has been doing a good job, I did a lot of testing and now I can say I am on the right wave back. The year is ending really, really nice.\" Svindal earned his first podium finish at Bormio, which is considered one of the most testing courses on the World Cup circuit. He finished 0.01 seconds ahead of fourth-placed Austrian Klaus Kroll, who was the World Cup downhill champion last season. \"It's crazy, four guys within two-hundredths on one of the toughest downhills in the world,\" said Svindal, who leads the downhill standings by 92 points from Paris and has a 114-point advantage in the overall competition. He now has a record-equaling six podium positions before New Year, matching the mark set by Austria's Michael Walchhofer in 2004-05. \"I can't remember a race exactly this close. But as a ski racer you almost get used to it, it's actually kind of crazy like that,\" Svindal said. \"For sure there is that one mistake at the bottom that I wish I had back, but that's ski racing. As long as you are fighting for the win like I am today, sometimes you get it and sometimes you don't. But racing is a lot of fun when you are in that position.\" Meanwhile, Veronika Zuzulova had a comparatively more comfortable victory in the women's slalom in Semmering, Austria, as she won her first World Cup race. The Slovakian was 0.10 seconds ahead of home hope Kathrin Zettel over the two runs, while Tina Maze extended her overall World Cup lead with her 11th podium in 16 starts. The Slovenian, who was fastest in the first run, now has a 427-point advantage over Germany's Maria Hofl-Riesch, who placed fourth.",
         "Hannes Reichelt and Dominik Paris share first place in men's World Cup downhill race .\nAksel Lund Svindal extends his overall lead after finishing only 0.01 seconds back in third .\nSvindal was just 0.01 seconds ahead of fourth-placed Klaus Kroll, last season's downhill champion .\nItalian skier Paris wins the first World Cup event of his career to delight the home crowd ."
        ],
        [
         "9743",
         "(CNN) — MotoGP championship holder Scott oner registered a 10th quickest time in Sunday qualifying . To boost his hopes of a second championship winning campaign at this Moto of event in Group of 10 , the Brit has a 44-point edge on world champion Jorge Lorenzo and could start Sunday's session second in starting grid with Yamaha at Motegi. That matched Lorenzo's career race best with a time at one minute 45.267 second that move his sixth place at Fuji Speedway where he finished this year's race. Stoner's teammate Andrea Dovizioso qualified second place and another Australian , Dale Pedrosa, with Australian Michael Spies claimed third by Suzuki Honda's Andrea Simoncelli took the fourth position with Yamaha while fellow Australian and seven-time world champion Valentino Rossi finished seventh for Ducati. Michael Aoyama, in 11th, the third highest-placed from Japan at what has become the historic Honda Motorcycling's Honda engines have been forced to travel from Motegi due of safety fears after their Fukushima Daiichi atomic power reactors were destroyed during March's earthquake disaster . He ventured there when MotoGP Japan were their first safety test but returned in late to avoid any risk of radiation and later told reporters . They did not return that request and despite experts saying the Motegi itself was cleared of any radiation risks the company had to pay $140,000 for a \"We Are Japan \" protest prompting Aoyama to open a statement on Japanese media after his victory \"Everything 's going well , so until today . We've started fastest in all but one session, so it's been fantastic,\" 2007 world champion Stoner told the MotoGP website. \"We'll have to watch the weather as this will affect the set-up. There's also a chance of rain, so it could get complicated. Jorge has been riding fantastic, as has Dovi and Dani, but there is no doubt that the Honda suits this track.\"",
         "Casey Stoner will start Sunday's Japan Grand Prix at front of the grid .\nHonda star sets new lap record at Motegi as he heads off Jorge Lorenzo .\nRiders have raised more than $140,000 for the \"We are for Japan\" campaign .\nStars had initially refused to compete in Japan due to radiation fears ."
        ],
        [
         "1335",
         "New York (CNN) -- A New York judge has overturned another controversial 15-year-old 's murder conviction despite a judge's belief that he was enraged and broke him car window from the train In the ruling announced today , State Supreme Judge Judge ShawnDya found not arguments in a judge 's reasonable argument for error . State Supreme Court Judge Joseph Simpson sided with the after the racially charged sentencing process which involved the verdict being revisited . Barbaro, a longtime advocate of voting rights, said she believes should have denied a murder conviction of a black couple , accused after killing a white man of self-defense. On a murder jury 's verdict , Robert Kagan testified he was guilty of self-defense , killing killing Wavell Wint, seated on the sidewalk at his home in the New York , \"The record shows that that Simpson devoted considerable efforts on his part toward reaching this correct decision,\" Simpson said After the hung jury , Judge Barbaro's rulings in the murder trial were \"mere afterthoughts or wild guesses.\" She says were it would possible had been Barbar o 's opinion in \"express actual opinion and it would have been built on prejudice.\" Her error was because a has not make any \"compelling , convincing defense that A trial court is acting as the court for law.\" On her decision of Kagan's proclaimed , she says that Kagan did not face the \"burden for evidence , the would have made clear individuals were liable and at what time one was convicted.\" Barbaro, who is white, found Kagan guilty of second-degree murder and criminal possession of a weapon. Kagan was sentenced to 15 years to life in prison, where he remains today. Testifying during a December hearing on a motion to set aside the conviction, the former judge said he was convinced at the time that the defendant who stood before him was a racist who wanted to kill a black person. As a result, Barbaro says, he ignored evidence that Kagan had acted out of fear and not hatred. Barbaro, now 86, said in an exclusive interview with CNN this year, \"I couldn't get out of my mind the look on the lawyer's face when I said I found him guilty. And the defendant on the stand, like he was pleading to me, 'It just happened, it just happened,' and that was sort of haunting me.\" Barbaro told CNN on Thursday that he is very disappointed with Simpson's decision. \"I believe she made a terrible error,\" he said. \"I think the facts were so clear. Judge Simpson didn't give any credence to the fact that I said I made a mistake, and that's very disappointing. It's sad.\" Kagan's lawyer, Richard Mischel, said he plans to appeal Simpson's decision. \"We believe in the merits of the motion, and we're going to proceed with an appeal as far as necessary to vindicate Mr. Kagan's rights,\" he said. Mischel said that Kagan has a parole board hearing October 14 and that they plan to go ahead with the appeal, even if he is released. \"It's not just about getting him out of jail; it's about rectifying a wrong,\" Mischel said. CNN's Jean Casarez contributed to this report.",
         "A murder conviction against Donald Kagan is upheld by New York judge .\nJudge in 1999 case shed doubt on the murder conviction he handed down .\nHe now says he was racially biased against the defendant, prompting review ."
        ],
        [
         "2683",
         "COLOMBO, May 8 (CNN) — As Lanka has aken against armed government forces earlier on week , international observers expressed fears of civilians amid reports Sri Lanka was attacking rebels on an isthmus that connects the Jaffna Peninsula and the Indian country .\" \"It's a absolutely grave situation,\" Paul Elder , U.N. chief said . \"We are witnessed the tragic deaths where people including civilians , women , are killed on this fast-shrinking buffer zone.\" The town at Elephant Pass is so narrow that he is about halfway of Row Lanka's coastline , Troops secured a lagoon and the northern village called Mullaittivu after an end the battle by rebels from the 's government-run territory . \"Our troops have moving now on a 40 ft (25 meter )- wide track,\" army Minister Sarath Fonseka said during an victory parade .\" \"This is the long-awaited development and I am pleased today announce that the government troops have captured the Mullaittivu village after nine years,\" he said There had been little progress on Tamil rebels , in which that is being overtaken. The Sri Lank an Tamil Eelam (LTTE) had been recognized by Tamil Freedom Tigers Fighters seized control on the island since defeating home country's Freedom Liberation Fighters in 2009 to 2014 and had cost more than 70,000 life . The army regained control of Mullaittivu in 2014 , once the militant , the Reuters newspaper reported .\" Since then , the army had started making gains and a bid to recapture rebel strongholds. In week , troops regained control of the northern town of Elephant Pass, the point at which mainland Sri Lanka links to the northern Jaffna peninsula. It had been in rebel hands for more than nine years. The recapture enabled the government to use a highway linking the mainland to the peninsula to move troops and supplies. Previously, it was done by air and sea. \"The area that the LTTE has dominated has shrank phenomenally,\" Sri Lankan High Commissioner to India, C.R Jayasinghe, told CNN. \"They lost ... about 90 percent of what they had.\" Despite major government gains, critics point to ongoing civilian casualties resultant from the conflict. \"This is a critical moment in the conflict when the space for these people has shrunk,\" Elder said. The United Nations is \"calling on the ... Tamil Tigers to meet their international responsibilities and guarantee that these very large civilian populations to move freely and then can move away from the conflict and to areas where they can receive appropriate assistance,\" Elder said. \"Some Sri Lankan U.N. staff are trapped there,\" he said in a Sunday interview. \"Convoys are going to the area, delivering emergency supplies, but these are not sufficient for the number of people in need.\" Sri Lankan authorities are barring journalists and humanitarian aid workers from areas where heavy fighting is taking place. Amnesty International spokesman Shuransu Mishra estimated that \"over a quarter of a million of the population, mostly Tamils, are trapped between the two sides.\" The organization says greater access and protection for aid workers and journalists are needed as news agencies struggle to report an accurate picture of the conflict. \"The Sri Lankan authorities are doing little to ensure the safety of the country's media, or to prosecute those responsible for murdering or attacking them,\" Amnesty International spokeswoman Yolanda Foster said in a written statement on Friday. The Sri Lankan authorities \"are also directly responsible for subjecting journalists to harassment and interrogation,\" she said. At least 14 journalists have been killed since the start of 2006, according to the statement. Others have been driven from the country by death threats, or in fear of detention and torture by government authorities, it said.",
         "Government forces took the area in a surprise attack early Sunday .\nRebel Tamil Tigers gained control over Mullaittivu in 1996 .\nEarlier this month troops regained control of key northern town of Elephant Pass .\nTamils want independent homeland, war since 1983 has left more than 70,000 dead ."
        ],
        [
         "4566",
         "The were questioned by police shortly after the body was discovered , described a home so squalid , and \" the a up ended a hazmat suit . Beyond those when investigators got under way investigating  </s> \" state State Attorney's office described \" condemned home's \"deplorable condition (such as a rat infestation, the dead , urine and feces,\" and garbage and a rotting basement .\" If there was anything here then it's a house that deranged, its unfathomable \" and called \" \" athom ing ,\" </s> , police described it as \"completely inexplicable.\" </s> , was arraigned this month , a bevy of women related to the removal and four surviving kids from the home a year ago -- the woman that was arrested in August with the 31-year-old woman wanted for ing esting and concealing pregnancies out wed wedlock , one other , arrested for multiple felony wire fraud counts and for each counts possession and stolen property for possession of an illegal substance , said John Connolly, an attorney who and wife of Murray and in the focus on an case team which reopened the case last week . </s> She disputes her innocence . \"My client is the the was to find this child was not hers,\" said Halpern says , \" Murray of a now-condemned neighbor . </s> as the body that Rafael Rivera -- the couple's former in girlfriend in 2015 who , died in the vermin-infested 1,150-square-foot residence was still to months , </s> </s> Of of four living children that the state removed from the home on August 28, Murray told investigators that Rivera, 38, only knew about two of them. The other two -- a 3 year old and an infant, according to Halpern -- were apparently not only born in secret but lived hidden from their father amid mountains of garbage under the same roof. Rivera also \"presumably\" did not know about the ones that had died, at least according to the account Murray has told authorities, Halpern said. \"It is a mystery to me how Mr. Rivera could have failed to notice (the) numerous pregnancies (of) the woman with whom he shared a bed,\" said Halpern. \"It's a mystery to me how he could have failed to realize that there were two children living under the same roof as him, and he didn't know about it.\" CNN was unable to reach Rivera or members of his family Sunday evening. He has not been charged with any crime, and there is no public record of physical abuse. 'Prisoner of her own fear' Halpern said that while his client's explanation \"is not based in reality,\" the situation Murray came to be in was the result of fear, not malice. \"She was terrified of the pregnancies being discovered,\" said Halpern. \"She was terrified of the two younger children being discovered. Why? I don't know the answer to that.\" Whether based in reality or not, Halpern said Murray was \"a prisoner of her own fear\" and suggested it was that fear that explains the three infants found dead in her home. \"Try to imagine the state of mind of a woman who attempts to hide a pregnancy, go into labor and deliver children -- at least twice, but presumably five times -- on her own.\" \"I feel certain that she did not do anything to harm any of these children,\" he said. \"I don't think there will be a determination that they were killed.\" Though Halpern said he has yet to consult with a pathologist, he said it is not clear if they were ever alive to begin with or if they were all stillborn. Abuse suspected in 2007 . The state's removal of the four living children at the home last month was the result of the filing of what's called a 51A report in Massachusetts, according to Alec Loftus, a spokesman for the state's office of Health and Human Services. A 51A can be filed by any citizen with reason to believe that a child has been abused or neglected. This was not the first time a 51A had been filed when it came to that home, according to a Massachusetts Department of Children and Families spokeswoman. Cayenne Isaksen said such a report was previously received in 2007, but that \"it was unsupported and therefore no case was opened.\" For now, Isaksen said DCF has Murray's four children in its care and is focused on \"ensuring (their) safety and well-being and providing them with the proper medical care, support and services they need,\" she said. Connolly said that the family caring for them has no public statement to make at this time. Murray's case was adjourned to October 14. Investigators, meanwhile, remain at the scene digging through the squalor. \"Our investigation will continue for quite some time,\" said Joseph Early, the Worcester County District Attorney. Dad accused of slaying five kids had history with social services .",
         "Lawyer says squalor concealed children from father for years .\nLawyer for the woman arrested says she is the mother .\nThree infants were discovered dead in squalid Massachusetts home .\nPolice had to search the house in hazmat suits ."
        ],
        [
         "2514",
         "(CNN) . Karry Trout's daughter wife , a 38-year-old mother that was having breast treated for three months , and as she waited for a surgeon to about a mass in her abdomen , and \" thought we could discuss it .\" \" and Trout's husband , The Young Hospital's patient navigator, is she 's young daughter and a mother </s> and the Patient navig , and an expert who is a medical physician . The navigator's primary concern is to diagnose cancer , which Trout her husband rarely mention . One of the 10 most common issues for complications , the often-confusing breast diagnosis , patient inexperience, and anxiety when you come to a room and a patient's health , , , her age and her health .\" Trout says after with two breast cancer the patient are like,\" well , you haven't seen this that before and I think it's important because it's really simple to do it.\" Trout's daughter Ella, a mother of five and had cancer a her breast . Part because Ella's breast wasn't large , and it didn 't have a bulge. Doctors from Seattle Children's hospital diagnosed it with glioma, giving her first diagnosis in two decades . she and her son . and </s> when a got home in 2014 and received a breast c section and , returned that year for another , she she her ive surgery four weeks later </s> , and Trout husband 's daughter , in Shelton, is and a nurse . Trout struggled to keep Ella's frequent doctor appointments in Seattle, about two hours from home, as well as work a full-time job as a radiologist for Mason General and juggle never-ending insurance forms. \"It's a lot,\" Trout says. \"And when you are going through that diagnosis, and then you have all of that on top of it, it can be very overwhelming.\" 4 ways to control your health care costs . Four years ago, Trout got a notice from the Susan G. Komen foundation about a grant for breast cancer patient navigation. What on earth is patient navigation? she wondered. After a bit of research, Trout realized what had been missing from her experience with Ella. \"I didn't have somebody who was my go-to person,\" she says. Trout applied for the grant, and Mason General was awarded enough money to start a program. In her role as a patient navigator, Trout does community outreach to raise awareness about the importance of breast cancer screening. She is one of the first staff members to meet with a patient after a diagnosis, providing them with information that they can read later when the shock has worn off. She works with specialists to arrange appointments and helps connect women with financial aid, transportation or child care if they need it. \"When you get that initial diagnosis, you just have a lot of questions,\" she says. \"And it's hard to pick up the phone and speak to your physician or nurse every time you have a question. That's what I'm here for.\" Patient navigation programs are the result of the medical community's new emphasis on patient-centered care, says Mandi Pratt, associate director of community programs at George Washington University's Cancer Institute. \"Patient navigation, in part, is a function of how fragmented our (health care) system is,\" Pratt says. \"It makes it difficult to have a seamless experience.\" Are we prepared for 18 million cancer survivors? Advocates say patient-centered care can improve outcomes and reduce costs, so much so that hospital reimbursement from insurance companies is now partially tied to patients' opinions on how well a facility treated them. In 2011, the American College of Surgeons' Commission on Cancer established new accreditation standards for cancer facilities, requiring them to incorporate \"a patient navigation process to address health care disparities and barriers to care.\" The standards move us closer to a future Dr. Harold Freeman first envisioned in the 1980s. Freeman then was a breast cancer surgeon in Harlem, New York, trying to figure out why patients in his hospital had a five-year survival rate of 39% when it should have been closer to 85%. Freeman realized many patients were being diagnosed with late-stage breast cancers; they were arriving at the clinic with large masses that had obviously been ignored. Freeman identified five main barriers his patients faced in receiving care: financial, communication, medical system, psychological and personal. Obstacles ranged from not having health insurance to not understanding the language. Some patients feared doctors or mistrusted medical advice. Others simply missed chemotherapy because they couldn't find child care. \"People got lost in the complex system,\" Freeman says. In 1990, he pioneered the first-ever patient navigation program, training people from the community to listen and answer questions after a diagnosis. He also began an educational program to advocate for screenings. Over time he increased patients' five-year survival rate in the same population to 70%. These barriers are never going to go away completely, Freeman says, but patient navigation can help address them. \"Can you eliminate poverty? Probably not ... but you can change the things that poverty means,\" he says. \"If poor people are less educated, you can educate poor people. If poor people don't have access to screening, diagnosis or treatment, you can create programs to concentrate on those one by one.\" For now, patient navigation is primarily being used in the cancer community, but it's spreading to other chronic diseases. Even patient navigation, Freeman says, falls prey to our fragmented system -- one filled with specialists that each operate in a separate universe. 5 million more people living with diabetes . Freeman compares the care continuum, from the first examination to survivorship, to a mile relay. \"It takes teams of people passing batons one to the other until the last runner crosses the finish line.\" Since starting the patient navigator program at Mason General, Trout has helped hundreds of women cross that finish line. She often receives letters of thanks from patients who say she helped them feel empowered to make informed decisions in a time of chaos. \"I think when you go through things as a patient, you know, as a parent -- to be able to be treated with compassion and not just (as) another diagnosis is a gift,\" Trout says. \"And that's what I hope I provide.\" Let's talk about sex ... and cancer .",
         "More hospitals are hiring patient navigators to help patients through a confusing system .\nMost navigators are working in cancer centers, but the idea is spreading to other areas .\nDr. Harold Freeman pioneered the first patient navigation program in 1990 ."
        ],
        [
         "9353",
         "It was a Saturday evening in November after Jose Vasquez, the 18-year-old from fishing village near Puerto Hato, , accepted a invitation from two relatives and join him in that they said was some serious adventure trip , But , to Vasquez's mother Nilsa De La , \"was a return to a day out to a boat in southern Ensenada Islands of the Caribbean with four others on their private sailing boat.\" But the following morning of about an other half hour the entire Vasquez family found ered after an 18-year-old lost two friends. Arnaldo Vasquez, a teen's father said that time he saw the fishing expedition 's fishing line reach shore from san Antonio to es . ado . Jose Vas ques and his two companions disappeared as The Panamanian Navy joined them , placing boats , planes and helicopters around Vasquez, Oropeces Betancourt, 18 and Luis Osorio,16. Like nearly anyone , his friends lay in . In their later , they found their friend , 35 Cents, adrift in Panama Pacific Galapagos Islands within one week of before he was found . being added to the list . Ecuadorian officials arrested all three men . in a statement , Adm. Rafael La Rodriguez wrote Vasquez showed \"severe signs indicating dehydration and deficiencies in nutrition.\" It said his friend had dumped the four bodies into shallow waters \"because of body was had decomposed.\" Vasquez ' s , Panama City officials said died on morning . young man he weighed about one kg \"After two days of anguish, after praying to God that he be found alive ... this is indeed a miracle,\" de la Cruz said. She said her son told her the fishing trip had started out well. The three caught plenty of fish. But the boat's engine died without warning and, with no tools and scant navigational experience, there was little the trio could do, de la Cruz told CNN. Soon, currents had swept their boat out into the Pacific, far from the coast. De la Cruz said they ate raw fish and drank rainwater. She did not detail how the other two died. The Ecuadorian navy has said it is not investigating the deaths and considers the incident a rescue operation. De la Cruz described an emotional reunion Tuesday at the airport in Panama City, where relatives hugged Vasquez and cried tears of joy. He was taken to his home in Rio Hato, in Panama's Coclé province, southwest of the capital. Reached Wednesday by phone, de la Cruz said her son \"has been sleeping a lot. We don't want to ask him any questions because we know he's traumatized. He's surrounded by the family. We're loving on him and trying to help him feel better. We're going to take him to a psychologist tomorrow.\" De la Cruz said her son is \"a very loving and hardworking young man\" who enjoys spending time with his brothers and loves soccer. She said the family is taking one day at a time and trying to support her son. \"For us, this is an opportunity to get closer as a family, to be more understanding and loving,\" she said.",
         "Three friends set out on a fishing trip on February 24 from San Carlos, Panama .\nThe boat's engine died; it was found adrift in the Pacific some 600 miles away .\nAdrian Vasquez survived on raw fish and rainwater, his mother says .\nHis friends died, and he had to dispose of their decomposing bodies, she says ."
        ],
        [
         "1907",
         "(CNN) Into the early Gulf storm this week , Al Emirates supertanker M. Abbas began making its way through the Gulf Of Hormuz -- the chokepoint to the Israeli blockade of the Yemen Peninsula . Her ship sank . with half a dozen other she landed hit it with another loud thud , and her cargo exploded . The blast left behind large square-shaped pieces along the waterline. Theories for a ship explosion abounded: a rocket , bomb , a a bomb or a bomb or more over three weeks ago the Islamic Brig ades of , which operates out of Yemen claimed responsibility by saying it 'd ipped the tanker with a explosives-laden device </s> The Azzam Brigade statement Friday night said the brig ades \"sought the end the infidel economic policies that be imposed upon The Palestinians from their country and resources.\" For The Brigades, such an assertion was another major deviation from previous mission to come under Israeli pressure and thwart off terror plots , U.S. intelligence said said that day . \"Government in the United States determine today the recent claimed by Abu Azzam brigades was not valid,\" the U.S. Bureau on Transportation's intelligence division said in the statement last weekend \"The group is operational and would ready to attack any country that operate in The Gulf Of Hormuz, northern Gulf , or southern Gulf of Oman,' authorities added </s> there had been rumors about its coming to Al Arab Emirates , reports say . But the brig -- hiding in relative squalor of Palestinian refugee camps in Lebanon -- may be an emerging player in the region's terror landscape. The Brigades are named after a Palestinian close to al Qaeda leader Osama bin Laden. Abdullah Azzam was killed in Pakistan in 1989 by a bomb explosion. The group is led by one Saleh al-Qarawi, who fought U.S. forces in Iraq and got to know al Qaeda's now-dead leader there -- Abu Musab al-Zarqawi. Born in the Saudi city of Barida, al-Qarawi is only 28, but is already on the kingdom's most wanted list. When that list was first published in February 2008, he was described as \"one of the key suppliers of facilities, finances, fake documents\" for al Qaeda. And he has ambitious aims, telling an extremist website earlier this year: \"All the jihadist battlefields now are fields of fighting.\" The Brigades have certainly shown themselves capable of audacious attacks. They claimed responsibility for an unsuccessful rocket attack on a U.S. warship anchored in the Jordanian port of Aqaba in 2005, as well as for bombings in 2004 and 2005 aimed at tourists in Egypt's Red Sea resorts. Well over 100 people were killed in those attacks. In the interview he gave to the al-Fajr Media Center, al-Qarawi described how al-Zarqawi had sent him on a mission beyond Iraq. He'd been arrested in Syria and spent a brief spell in a Saudi jail. Describing his priorities, al-Qarawi said they include kidnapping U.S. and British citizens in the Arabian peninsula. \"American interests are our most important aims,\" he said, according to a translation by intelligence website Flashpoint Partners. It is also clear from the interview that al-Qarawi is very much a Sunni purist. He has little time for the Shiite Hezbollah, accusing it of attacking Lebanon's Sunnis. He also accuses Lebanese Shiites of \"malice\" toward the country's Sunnis. That suggests the Brigades would not have looked to Shiite Iran for help or harbor in attacking the M. Star (even if Saudi officials insist al-Qarawi once operated from Iran.) And it prompts this question: where did that small boat, laden with explosives, come from on the night of July 27 to attack the M. Star? If not Iran, did it set out under cover of darkness from the United Arab Emirates, Oman or even Saudi Arabia -- undetected by authorities?",
         "The Abdullah Azzam Brigades may be an emerging player in the Persian Gulf landscape .\nThe militant Sunni group is named for a Palestinian close to Osama bin Laden .\nThe group claimed responsibility for an attack on a Japanese supertanker in July ."
        ],
        [
         "2802",
         "(CNN) -- Gabriel García Márquez, Colombia Nobel Nobel Prize-winning author of \"One Thousand Days of Solitude\" to \"Love Is the Than Than Cholera,\" has be Thursday with his last . \" The he that his award \" a the \" to his fellow writers ,\" a . to García Márquez, a special published his books in the , for the popularize \"magical realism,\" and that \"in the to see the mag magical being combined in his richly illustrated body and imagination,\" other authors say . Among the author of the most contributor to the award . \" was described as as his own Spanish-language author , Miguel de Cervantes, a 16th-century translator for \"Don Quixote\" known by \" a famous role of world literature ,\" Spanish poet Pablo Neruda 's him and \"One Thousand days Of Solitude\" as \"the first translation in the original Spanish from of de Quixote de Cervantes.\" The author's daughter Margarita Marquez, shocked Colombia's attention in 2015 when she wrote of the author's demise in an event titled \"We're talking about tragic circumstances . . .. .. . 's not the of a front in our country and that of . . He's the of . .. We ... go back to (his ) . . . in the end of this world,\" Mar , told pa Español. </s> , according per CNN's iReport . </s> \" \" ... We 're ready before anything regrettable happens . . but we 're not expecting the end of the world era .\" . They believe (Garcia Marquez's widow Mercedes Barcha) was getting ready for this moment, although nobody can really prepare themselves for a moment like this.\" In a televised speech Thursday night, Colombian President Juan Manuel Santos declared three days of national mourning, ordering flags to be lowered to half-staff across the country. The author -- known by his nickname \"Gabo\" throughout Latin America -- was born in the northern Colombian town of Aracataca, which became the inspiration for Macondo, the town at the center of \"Solitude,\" his 1967 masterpiece, and referenced in such works as his novella \"Leaf Storm\" and the novel \"In Evil Hour.\" \"I feel Latin American from whatever country, but I have never renounced the nostalgia of my homeland: Aracataca, to which I returned one day and discovered that between reality and nostalgia was the raw material for my work,\" reads a mural quoting the author outside of town. García Márquez was tickled that he had earned so much praise for his fertile imagination. \"The truth is that there's not a single line in all my work that does not have a basis in reality. The problem is that Caribbean reality resembles the wildest imagination,\" he told The Paris Review in 1981. A storyteller's childhood . García Márquez's early life was shaped by both familial and political conflict. His grandfather, a widely respected figure known as the Colonel, was a liberal military man who strongly disagreed with the political views of García Márquez's father, a conservative telegraph operator who became a pharmacist. (His father's ardent pursuit of his mother later inspired \"Love in the Time of Cholera.\") Their political disagreement came to reflect that of Colombia as a whole, a country that spent a postwar decade in the grip of what was called \"La Violencia,\" a civil war that followed the assassination of a populist leader. García Márquez spent his early childhood with his grandparents while his parents pursued a living in the coastal city of Barranquilla. Both his grandparents were excellent storytellers, and García Márquez soaked in their tales. From his grandfather he learned of military men, Colombian history and the terrible burden of killing; from his grandmother came folk tales, superstitions and ghosts among the living. His grandmother's stories were delivered \"as if they were the irrefutable truth,\" according to the García Márquez site themodernword.com. The influence is obvious in García Márquez's works, particularly \"One Hundred Years of Solitude.\" In 1936 the Colonel died and García Márquez returned to his parents and their growing family. He was eventually one of 11 children, not to mention several half-siblings from his father's affairs, a familial sprawl that also found its way into his books. After finishing high school, García Márquez went off to college with dreams of becoming a writer. His parents, on the other hand, had plans for him to become a lawyer. Writing ended up taking precedence: When La Violencia broke out, García Márquez started contributing stories to a local newspaper and eventually became a columnist. He had also been exposed to writers such as James Joyce, Virginia Woolf, Franz Kafka and especially William Faulkner, who had turned his own patch of land in Oxford, Mississippi, into the shape-shifting past and present of Yoknapatawpha County. In the mid-1950s, García Márquez left Colombia for Europe, a move partly provoked by a story he'd written that was critical of the government. The distance, he later said, helped shape his perspective on Latin American politics. For years, García Márquez had been writing and publishing fiction, including short stories in Latin American journals and a handful of longer works, including \"Leaf Storm,\" which was published in 1955. But it wasn't until 1967 with the publication of \"One Hundred Years of Solitude\" that he broke through to a wide audience. '100 Years' of literary renown . The novel is set in Macondo, a town founded by the patriarch of the Buendia family, José Arcadio Buendia. Over the generations, members of the family are set upon by ghosts and visions, fall in love, dream of riches and fight in wars. Natural events take on supernatural aspects -- rains that last years, plagues that create memory loss. It is a tapestry of almost biblical proportions in which reality and spirit swirl and merge, a world unto itself -- as well as a commentary on the politics and history of the world at large. \"The narrative is a magician's trick in which memory and prophecy, illusion and reality are mixed and often made to look the same. It is, in short, very much like Márquez's astonishing novel,\" wrote The New York Times in a 1970 review upon the release of the English translation by Gregory Rabassa. García Márquez worked on \"Solitude\" tirelessly, selling off family items, living on credit, smoking up a nicotine frenzy. Upon its release, the book became an instant bestseller in Latin America and was equally successful in English. It has been estimated to have sold in excess of 20 million copies -- some sources say as many as 50 million -- in two dozen languages. The book didn't ease all of García Márquez's problems, however. As a vocal leftist and defender of Castro's Cuba, he was regularly limited or denied visas by the United States until President Bill Clinton, a fan of \"Solitude,\" revoked the ban. Clinton commented on Garcia Marquez's death Thursday. \"I was saddened to learn of the passing of Gabriel García Márquez,\" he said in a statement. \"From the time I read 'One Hundred Years of Solitude' more than 40 years ago, I was always amazed by his unique gifts of imagination, clarity of thought, and emotional honesty. He captured the pain and joy of our common humanity in settings both real and magical.\" García Márquez was also involved in a feud with onetime friend writer Mario Vargas Llosa, a Peruvian and a Nobel laureate, who punched the Colombian in the face in 1976 -- believed to be over politics but later revealed to be over Vargas Llosa's wife. García Márquez's ensuing works were generally praised. They included \"The Autumn of the Patriarch\" (1975), \"Chronicle of a Death Foretold\" (1981) and \"The General in His Labyrinth\" (1990). He is said to be the most popular Spanish-language author in the world. \"Love in the Time of Cholera,\" with an English translation published in 1988, was a particular bestseller. The love story, which was turned into a 2007 movie, was referenced in such works as the 2001 movie \"Serendipity\" and the finale of the TV series \"How I Met Your Mother.\" García Márquez's style and impact have been widespread. He is credited with spearheading \"el Boom,\" attracting attention to a generation of Latin American writers, including Vargas Llosa and Mexico's Carlos Fuentes. Magical realism is now an accepted genre, to the point that some critics believe it has been overused. And he prompted a focus on Latin American politics -- protesting the 1973 CIA-aided coup in Chile, calling attention to corruption and free speech issues in South America and around the world. He never gave up journalism. \"I've always been convinced that my true profession is that of a journalist. What I didn't like about journalism before were the working conditions,\" he told The Paris Review. \"Now, after having worked as a novelist, and having achieved financial independence as a novelist, I can really choose the themes that interest me and correspond to my ideas.\" He was one of the most honored -- and highly respected -- authors on Earth, particularly in parts of the world where literature is taken as seriously as politics. \"On behalf of Mexico, I would like to express my sorrow for the passing of one of the greatest writers of our time, Gabriel Garcia Marquez,\" tweeted Mexican President Enrique Peña Nieto. Colombia's President summed up the author's presence on Twitter. \"Giants never die,\" Santos tweeted. For all of his immortality, however, Garcia Marquez preferred the here and now. Asked about the impact of dreams on his dreamlike writing, he said he'd rather focus on reality. \"Life itself is the greatest source of inspiration,\" he said. \"I see dreams as part of life in general, but reality is much richer. \"But maybe,\" he added, \"I just have very poor dreams.\" People we've lost in 2014 . CNN's Rafael Romo and CNN en Español's Nelson Quiñones and Ana Melgar contributed to this story.",
         "NEW: Colombia's President declares three days of national mourning .\nThe 87-year-old is widely credited with helping to popularize \"magical realism\"\nGarcía Márquez stands as one of the most honored authors on Earth .\nThe Colombian author died in Mexico City, where he lived ."
        ],
        [
         "6890",
         "(CNN) Tampa star Kyle Lohan's father leapt out his third-floor balcony window in attempt to avoid re-arrest, cops said and police quickly surrounded him with him eventually took him into his residence again. Police questioned Michael Lohan after his girlfriend Kate Williams said him him not off his arrest form charged earlier last month with threatening her the city Police department says in a statement officers booked Lohan on threats of domestic violence during an arrest in March , but they released his release from jail after Michael posted bail , About 3 a.m. Monday Lohan's wife called to a report Lohan had left his custody with their son , contacting her, the Police department says Lohan called this woman 911 saying and was talking to police, but police put him under speakerphone, she reported When officers demanded Lohan's re-arrest, Michael ran to a neighbor on Tahitian Avenue where she reported Michael \"Upon seeing them he jumped out from his third-story balcony in apparent attempts to evade arrest,\" The police department said they took Michael to hospital for the initial incident and did not return them to police but He may 've been on probation police said and began monitoring him Lohan was was planning a get home from Florida General University , Wednesday , it was an overnight shift , reported police spokesperson Andrea Williams Investigators responded on a frantic phone call at Michael Lohan's home Monday and got details of the incident from his live-in , police reported Lohan said police Tuesday son \"didn't lay a hand\" on his girlfriend. \"I did not hurt her,\" he said. Lohan also said he never was served with a restraining order to stay away from the woman. According to CNN Tampa affiliate WFTS, a Sarasota County judge issued a temporary restraining order Tuesday. Lohan, 51, was arrested in Los Angeles in March in connection with alleged domestic violence and was charged with one misdemeanor count of corporal injury to a cohabitant. The relationship between Lohan and his daughter has been publicly strained for years, although the two did undergo family counseling together during her treatment at the Betty Ford Center. CNN's Rich Phillips contributed to this report.",
         "NEW: Lohan has been admitted for overnight hospital observation, police said .\nOfficers say they caught him after a short chase .\nLohan may have broken his foot and is being evaluated by doctors .\nMichael Lohan jumped off a third-floor balcony to escape arrest, police said ."
        ],
        [
         "784",
         "LOS ANGELES, California (CNN) -- Michael Jackson's family and about 200 of their closest friends gathered on a hill Thursday evening for their final farewell to the pop singer, who died 10 weeks ago. Thursday's service for singer Michael Jackson began 90 minutes past the announced start time. Jackson's burial may lay to rest some of the mystery and controversy that erupted with his sudden death on June 25. His large family was divided over where the superstar's final resting place should be, but matriarch Katherine Jackson settled on a crypt inside the well-guarded and ornate Great Mausoleum at Forest Lawn cemetery in Glendale, California. Thursday's service began 90 minutes past the announced start time, leaving dozens of celebrities -- including Elizabeth Taylor -- waiting in their seats for the 26 cars carrying the Jackson clan to arrive.  Gallery: Invitation for Jackson's service » . It began with Jackson's five brothers -- each wearing a single sequined glove -- carrying his flower-covered bronze casket onto the outdoor stage among six large bouquets of white lilies and white roses, along with green topiaries. His three children, led by daughter, Paris, 11, placed a crown atop their father's coffin, which a family spokesman said it was \"to signify the final resting place of the King of Pop.\" Jackson's children, parents and siblings took their seats in the front row, while his nieces and nephews filled several rows of white chairs behind them. After an opening prayer by Pastor Lucius Smith, soul music legend Gladys Knight sang the gospel hymn \"His Eye Is on the Sparrow.\" Clifton Davis sang \"Never Can Say Goodbye,\" a hit he wrote for The Jackson 5 -- the group that featured a young Michael and his brothers. What was said by Jackson's father, Joe Jackson, and others who took the lectern is not publicly known, because the family barred news cameras from the ceremony. A family statement issued afterward said close friends and family, including the Rev. Al Sharpton, spoke \"spontaneously to celebrate Michael's life.\" News helicopters hovering above captured video from a distance, but without sound.  Watch media cover Jackson funeral » . Lisa Marie Presley, one of Jackson's former wives and the daughter of Elvis, attended the service, according to the family statement. It did not mention Debbie Rowe, Jackson's second wife and the mother of his two oldest children. Macaulay Culkin, the \"Home Alone\" actor who spent time with Jackson during his Neverland Ranch days, was there with his girlfriend, actress Mila Kunis. Actors Corey Feldman and Chris Tucker were also seen arriving for the service. Motown founder Berry Gordy, who gave Jackson and his brothers their first big record deal, and Quincy Jones, who produced Jackson's \"Thriller\" album, were there. Music producer Teddy Riley, who helped with Jackson's 1991 \"Dangerous\" album, attended. The guest list included TV executive Suzanne de Passe, who produced a miniseries about Jackson's family, and Kenny Ortega,  who was producing Jackson's comeback show. Thomas Mesereau, the lawyer who successfully defended Jackson in a child molestation trial, sat just behind the Jackson family. When the hour-long service ended, his brothers lifted Jackson's casket for a final time to carry him inside the Great Mausoleum, where he was placed in his crypt at 9:43 p.m. PT (12:43 a.m. ET Friday). The family statement said it was \"his final resting place.\" The family and friends then drove to an Italian restaurant eight miles away, in Pasadena, California, for \"a time of celebration.\" The massive mausoleum, the final resting place for Clark Gable, Carole Lombard and dozens of other celebrities, is normally open to tourists, though the public is denied close access to crypts. Security guards, aided by cameras, keep constant vigil over the graves and crypts, which are surrounded by a world-class collection of art and architecture. The Forest Lawn Web site boasts that the mausoleum, which draws its architectural inspiration from the Campo Santo in Italy, \"has been called the 'New World's Westminster Abbey' by Time Magazine.\" Visitors will see \"exact replicas of Michelangelo's greatest works such as David, Moses, and La Pieta\" and \"Leonardo da Vinci's immortal Last Supper re-created in brilliant stained glass; two of the world's largest paintings,\" the Web site says. Jackson's burial was delayed by division among family members, though Katherine Jackson would make the final decision, brother Jermaine Jackson recently told CNN. He preferred to see his youngest brother laid to rest at his former Neverland Ranch home, north of Los Angeles in Santa Barbara County, California. That idea was complicated by neighbors who vowed to oppose allowing a grave in the rural area -- and by Jackson family members who said the singer would not want to return to the home where he faced child molestation charges, of which he was ultimately acquitted. The mystery of where Jackson would be buried became a media obsession in the weeks after his death. After his body was loaded onto a helicopter at UCLA's Ronald Reagan Medical Center hours after his June 25 death, it stayed in the custody of the Los Angeles County coroner for an autopsy. It was only later disclosed that Jackson's corpse was kept in a refrigerated room at the Hollywood Hills Forest Lawn cemetery until his casket was carried by motorcade to downtown Los Angeles for a public memorial service in the Staples Center arena. Again, speculation about Jackson's whereabouts grew when the media lost track of his casket after his brothers carried it out of sight inside the arena. It was only recently confirmed that it was taken back to the Hollywood Hills Forest Lawn while awaiting his family's decision. Though Thursday's interment may settle one Jackson mystery, a more serious one remains. The coroner announced last week that he had ruled Jackson's death a homicide. A summary of the coroner's report said the anesthetic propofol and the sedative lorazepam were the primary drugs responsible for the singer's death. Los Angeles police detectives have not concluded their criminal investigation and no one has been charged.",
         "Jackson's three kids, led by daughter, Paris, placed a crown atop their father's coffin .\nClifton Davis sang \"Never Can Say Goodbye,\" a hit he wrote for The Jackson 5 .\nGuests included Elizabeth Taylor, Lisa Marie Presley and Macaulay Culkin ."
        ],
        [
         "9489",
         "(EW.com) - Those Eddie Murphy fans just won't wake up The infamous Bauer from Fox's long-running series \"24\" was the major trending subject in television last week In light of this recent ny agate news -- no wonder some viewers are thinking (hoping?) a Bauer-like return is responsible for the \"actionable intelligence\" recently leaked from Barack Obama's press . Here's the good news: Kiefer James will be returned to television next week Now, this bad news actor won't be reprising his roles as the counter-terrorism officer , he's playing a father 's autistic son -- see him as never before in the series , \"Touch.\" The drama's starring Jesse Kring (\"Heroes\") and is quickly creating buzz . While a reunion for Bauer appears certainly off - table The big-screen deal for the series is in the works for 20th Century , and director David Grazer (whose series , , was behind Bad Boys ) has revealed whether he's on board. \". \" . he made the announcement during \"The Voice \" that Bauer would come back in 2018 . Kief: Ready to rethink it ? . Read the article on EW.com. Subscribe here and all e - mail issues of Entertainment Weekly </s> © 2018 Entertainment Weekly Home Edition . ALL rights Reserved",
         "Jack Bauer was a big trending topic on Twitter Sunday in light of the Bin Laden news .\nSutherland told the women of \"The View\" that the \"24\" movie will come out in 2012 .\nThe actor could be back on Fox this fall in \"Touch\""
        ],
        [
         "6893",
         "(CNN) - It may have made life job easier for some . It's true , by raising money for immigration issues , a , , . . , to galvanize people 's attention . A part of a campaign hoping can exploit a lack in news . , A a candidate to exploit the lack in resources . It is this a double-edged irony that's made the media and this candidate's campaign seem more like zombies in the era of Twitter and the e-perpetuity. They gets a good feel about getting his hands around the campaign 's media to \" in their time , \" ing the message \" . . , but it has been much to blame for . . . on immigration on his most pressing issues in </s> . and now he 's </s> been gone to . </s> but how </s> to recover gracefully ? Nowhere will Romney even find support for his past behavior among Latinos in . Hispander (blatant pandering about Latin xs and mariachi bands , general butchering in the native language). He 'll flip-flop about immigration (again). He's not to flip-flopper and </s> . here in the campaign </s> Romney doesn't even find support during a Latino primary 's salivating for him . he is too likely to blame the other guy 's position. it is easy to find that support in the race of McCain 's 2012 loss . Latinos -- more that 60 points for Romney . </s> . : every other year , Senator McCain won 31% of the Latino vote. It cost him states like Florida, New Mexico, Nevada and Utah. Unless Romney gets close to 40% of the Latino vote, he can kiss the White House goodbye. Polls also show that immigration is not the most important issue for Latinos. Like other Americans, we are most concerned about the economy. Still, immigration does set a tone. If Latinos perceive a candidate as anti-immigrant, it can turn them off, period. So, what's Romney to do? He can't erase the things he's said on immigration. Despite his campaign's efforts, they can't make supporters (or an adviser) like Kris Kobach disappear, and he is as radioactive as Kryptonite in the Latino community. However, all's not lost. From now until Election Day, when Romney gets asked an immigration question, he needs to start and finish by reminding Latinos that Obama promised, without caveats, to get immigration reform passed in his first year in office. Navarrette: Why Marco Rubio can't save the GOP . For many Latinos, a person's word is sacred. Romney should unequivocally say that Obama broke his word and dramatically increased deportation rates, causing family separation. He should sound angry and indignant about it. Romney needs to go from playing defense to playing offense on immigration. Hispanics are disillusioned with Obama. He too is vulnerable on the issue but only if Romney exploits that weakness. Romney has to remain staunchly anti-amnesty and pro-border security but at the same time sound sympathetic and understanding of the desperation of people who often risk their lives crossing a border so they can put food on their family's table. He needs to talk about the benefits of immigration and how the richness of our diversity has made us a stronger country. If Romney can neutralize the immigration issue by moderating his tone, giving more nuanced answers and taking the offensive against Obama, then he can focus on other issues. Hispanics are an aspirational people. We seek opportunities to provide a better life to our children. Romney should take every chance to remind Latinos that we have been disproportionately affected by the bad economy. As a group, Hispanics have suffered some of the highest unemployment, foreclosure and poverty rates. If Latinos are asked whether they are better off than four years ago, the answer is \"No, seÃ±or.\" Romney is also going to have to put the time and resources into Hispanic outreach. If he expects to make up the lost ground, Hispanics cannot be an afterthought. His campaign needs to wake up and go to sleep every night thinking of the Latino vote. They'd be well served to embrace and deploy strong surrogates like Jeb Bush, Marco Rubio and Raul Labrador. They speak the language not only literally but culturally. Latinos want to be courted. Obama has accepted speaking invitations to the NALEO and La Raza conferences. Romney needs to do the same, pronto, and he needs to make it count by delivering memorable speeches. Come Election Day, I don't know whether Romney is going to do better with Hispanics than the polls indicate or if Obama is going to do worse. Romney needs a lot of both to happen if he wants to move into la Casa Blanca. The opinions expressed in this commentary are solely those of Ana Navarro.",
         "Ana Navarro: Polls show Mitt Romney way behind Barack Obama among Latinos .\nShe says Romney can't wipe slate clean, erase what he said in the primaries .\nShe said he can pivot to show he understands the value of immigration .\nNavarro: Romney needs to address economic issues and court Hispanic voters ."
        ],
        [
         "4110",
         "(CNN)Manchester - Manchester United star attacking midfielder Yaya Tou today called for the media should get punished over its insensitive remarks towards Muslims after the Paris attack . 12 attackers were arrested after killing Samar & Cherif Kouachi at the satirical weekly magazine's headquarters last Friday , with one apparently yelling, \"We have avenged your brother !\", prior after the attack. Speaking being a devout Christian who he values very strongly , Tou the news media also bear responsibilities. \"As an Christian I strongly believe , a newspaper doesn can decide everything they want them say,\" he tells CNN's Chris Harper \"But for me the most basic thing , , they can also say that the press are just a newspaper -- and they're allowed who do it -- or that they respect it in that respect.\" \"Everybody 's something and their view and everybody says something is important about that,\" He added \"Of course it's the media that can say something. And so you offend people.\" Depicting religion is widely controversial among Muslims and a magazine's apparent reference with the prophet Muhammad prompted widespread criticism about last week's . The French footballer said re of his disappointment after the latest attack on Charlie , that he was now fearful for the actions of a football team , The Belgian defender is on official duty with Black Star ahead of the crucial African Cup Of Nations in starting the week has nearly played his appearances for the in Ligue I 's Lyon since 2006-07. \"When I hear something like that it's a bit disappointing,\" he said, referring to the attack on the Charlie Hebdo office. \"I feel very sorry for the families -- they lost their friend, father, or their husband, you know. \"Of course I have a friend in Paris, I have people who I work with. You get a bit confused, a bit afraid, because, as a Muslim, I have a friend and they are Muslim as well and I'm afraid of what is going to happen.\" The latest Charlie Hebdo issue has also been highly controversial, largely because on its cover is an illustration of a tearful Prophet Mohammed, holding up an \"I am Charlie\" sign accompanied by the words \"All is forgiven.\" The new cover was met with mixed emotions -- with some calling it a bold example of free speech and others criticizing it as needlessly offensive to Muslims.",
         "Yaya Toure believes newspapers must depict religion in a more respectful way .\nToure fears for the safety of his Muslim friends in Paris .\nThe Manchester City midfielder is currently with Ivory Coast ahead of the Africa Nations Cup ."
        ],
        [
         "7641",
         "(CNN) -- NBA league was losing of Chinese-born players for its first season in 25 years, but it was reported Yao Jianlian Yao secured new one-year deal in NBA . Yi wanted to land lucrative bigger deal at 2011 NBA champion Dallas Mavericks and so he fled from NBA to join former team Guangdong . \"It's a great experience to spend the entire season at the sidelines of the NBA without feeling trusted,\" Guangdong team secretary Chen Hongjiang says . Yao told a translator \"He knows China history but we are at the Olympic stage.\" Yao was the star representing China at 2016 Olympics London summer , making third appearance in the tournament , it was a blow to league that is good at taking advantage of a fast growing Asian market. Current basketball star Dwayne Johnson a member of Miami Heat team last month said CNN 's website still ranks NBA among of world's top . But popularity for of NBA in Asia skyrocketed after star Yao Ming left Dallas NBA team in 2011 The last Chinese-born star to move to the new role in NBA is Li Zhizhi, who made headlines by joining the team on 2001. </s> NBA's profile across Asia was further grown by the emergence of Jeremy Lin , Native American who shot to NBA prominence after a string two solid seasons with the New York Knicks in the 2011-12 . Lin, 24, had recently left The Knicks to join The Mavericks .",
         "Yi Jianlian, the last Chinese-born player in the NBA, leaves the Dallas Mavericks .\nYi has signed a one-year contract with China's Guangdong Tigers .\nNBA star Dwayne Wade told CNN basketball still trails soccer as the world's favorite sport .\nJeremy Lin of the Houston Rockets has boosted the NBA's Asian profile ."
        ],
        [
         "8573",
         "Paipote, Chile (CNN) -- Hours is passing in Chile as Victor Segovia dispatches his brother , Two years after his his brother ia passed on the body in his family of his sister , , whose family family buried him father of to . Like the 's ia , Victor isn't located anywhere on the surface or Chile , though it may bury the body in the other area's \"Just a last one,\" Segovia told members of the . A hardscrabble suburb of In Paipote, Segovia's brother family has and the Segovia family brother the and the . in the case of his oto the two months and were , to the in a week after the ' his ia suffered , a traumatic . Victor and father of to had been him by , the The young man has passed by , his brother family The Segovia family , as seen at the ' 's grave of his father ia . Esteban de Javier Rojas, Victor Segovia's brother \"Welcome back Juan Segovia,\" he says as he holds his a hand to his grave with his brother . \"If we give me to right here , it will go his a little as you should have.\" Other than a , visit to Victor's family Pedro Segovia is living in scorching heat in Chile's Atacama province . He told tell the family 's local media that Victor is fading away from the and the , Pedro Segovia told the family he reminds his brother of how close he came to dying in the dark recesses of the earth. \"We missed him a lot,\" Pedro Segovia said. But for him its just like another shift. As if he worked for eight hours and came home. If Segovia has troubling memories of his long, forced stay in the mine, so far he hasn't shared them with his brother. \"He'll tell me at some point,\" Pedro Segovia said. \"What happened, what he lived through.\" Inside the Segovia house are hints of how he passed the long weeks of eternal darkness. Two Chilean flags decorate a wall in a courtyard behind the Segovia's home. In carefully etched blue ink Victor drew a miner with a drill over a 33 on the white section of the flag. Below, each miner wrote his name and put his signatures in ordered columns. \"For you with all my heart,\" Segovia wrote his mother Blanca. The flags were a gift for her 50th wedding anniversary and were delivered by way of the \"paloma\" tube system that sent food and letters to the men. \"He likes to play the guitar, accordion and organ,\" Blanca Segovia said with pride about her son, who learned to play the instruments without any formal training. \"We are going to have a nice party for him.\" But for the guest of honor just getting to the party will be almost as difficult as the previous legs of his journey. As the afternoon wears on, more and more media trickle into the neighborhood. Tripods and cameras are posted like sentries in front of the Segovia home. It has all the makings of an ugly media scene. So photographers agree and shake hands that all will stay in a fixed line so everyone can get an unobstructed shot of Segovia's homecoming. But hours later as Segovia steps from a van, a still photographer lurches forward and the plan is scrapped. Pushing against the wave of cameramen, Chilean police nearly have to carry the miner into his family's home. One of the photographers gets into a showing match with an officer after the melee. As the party gets under way, though, clapping and joyous chants of \"Chi Chi Chi, Le Le Le, los mineros de Chile,\" can be heard from outside the house. Then journalists still hanging around the house receive an invitation to come in and speak with the miner. Segovia appeared understandably worn from his ordeal and the crush of media attention. As reporters ask him questions, he looks down. His voice is soft and his answers are clipped. \"That was quite something,\" he said simply of the August 5 mine collapse. \"That was something very ugly.\" He said he has been to Camp Hope, where family members waited for the miners' rescue. \"I don't need to go back,\" he said. Segovia said he missed his family terribly while in the mine. And, he said, he has become someone who \"thinks more about God.\" \"We were a team,\" he said of the 33 men. \"But all the same there were problems. So much time together, like any family, the problems start but were ones we worked out.\" Other miners have told CNN that the 33 men swore an oath never to discuss the details of what took place as the men struggled to survive in the mine. Before he goes back to the party, Segovia makes it clear he is not completely free of the mine. \"Down there you were always tired and didn't have any nightmares,\" he said. \"Here you have nightmares until you realize you are out.\"",
         "Victor Segovia, two of his cousins were trapped in the San Jose mine .\nPedro Segovia says his brother is tough and untouched by how close he came to dying .\nSegovia says he doesn't feel the need to visit Camp Hope .\nSegovia says he has become someone who \"thinks more about God\""
        ],
        [
         "9201",
         "(CNN) - Officials probably had Thursday to wait a day until work could recover the three bodies that got hurt in the crash involving the two bus in early Thursday morning crash rural Tennessee, said Tennessee State Patrol John Miller . The other of bodies in Wednesday's wreck were missing , charred and unrecognizable, hindering police work to recover body remains from the relatives , , A state patrol man from Miller said \"The crash is been tragic , it's the single thing I 've ever crossed in entire life . And I've got a that to deal with this week ,\" State Trooper Kelly Miller said * from NBC station WBIR , The car owned in a North Carolina church that among this group of travelers along a route to east bound missing from Sunday when a 's 's tire malfunctioned, the The car was erved east on Route 65 before it struck the bus or the tractor-trailer, , , A church was hosting a party in fall jubilee . Three people were among the passengers on eastbound Route 65 and four others in the bus and the tractor-trailer , , Tennessee Highway Patrol Officials said a remaining roughly 20 people who were hospitalized after the wreck had already to for help , said Michael Brickey, a surgeon at University Health Tennessee Regional Hospital . According the the the hospital the patients remained a intensive care while all were in surgery and Brickey described several victims under suspicious circumstances , . </s> a party of about 18 people including the driver, Miller said -- was returning to the Front Street Baptist Church in Statesville, North Carolina, after attending the 17th annual Fall Jubilee conference in Gatlinburg. Indiana bus crash kills pastor, pregnant wife, chaperone on teen trip . The group of senior citizens was called \"Young at Heart,\" said Rick Cruz, the church's pastor. Twelve of the hospitalized victims -- including the two in critical condition -- are church members, Cruz said Thursday morning. \"It's been a very long night for all of us here,\" Cruz told reporters. \"We are thankful for all the prayers and support that we've been receiving.\" More from CNN affiliate WHNS . The wreck happened about 2 p.m. Wednesday in Jefferson County, about 40 miles east of Knoxville, the Tennessee Department of Safety said. Miller said it wasn't clear exactly what happened to the bus tire, other than it malfunctioned or failed in some way. The bus swerved across a grassy median and struck the SUV before hitting the tractor-trailer, he said. The bus came to rest on its side, pinning some of its occupants, he said. More from CNN affiliate WATE . Video from the site showed smoke rising from the tractor-trailer. Some people walked out of the bus on their own, but emergency personnel had to extricate others, Miller said. \"This was such a horrific crash that determining if seat belts were used or not ... may be extremely difficult to impossible to determine,\" he said. Miller said it's too early to know whether charges will be filed in connection with the wreck. More from CNN affiliate WVLT . Girls injured when school bus overturns in Kansas . Six dead after bus, train collide in Ottawa . CNN's Andrew Spencer and Rich Phillips contributed to this report.",
         "NEW: Two of the 14 people hospitalized have been released .\nEight killed, 14 others injured in three-vehicle wreck on I-40 .\nNorth Carolina church bus carried seniors returning from Tennessee jubilee .\nPolice: Tire failed and bus crossed the median, striking an SUV and a tractor-trailer ."
        ],
        [
         "5241",
         "(CNN) Bar ca beat Real Madrid 3-2 Sunday at the hands the Real Madrid in the European Champions League following an ill-tempered El Clasico with Lionel Messi's superb six - yard goal securing the 5-4 aggregate win for Sergio Guardiola's men before Real striker Karim Benzema's winner in an 82nd play turned time to seal this European season's dramatic curtain-raiser in extra-time. Violence erupted in Spanish ca over Real full-back Marcelo's dismissal for his lunging tackle by Barca debutant esc Fabregas sparked a bitter spat between their new coaches and . Barca's Spain striker Javier scored while Real's German playmaker Mesut Ozil was red-carded after no part of a penalty Despite he denied having a ball in his , , Madrid angrily branded him as Mourinho Mourinho bad blood in the teeth with Guardiola's deputy Ricardo Vilanova. The feud between the two sides has in contrast with two previous clashes where both archrivals in Madrid were in the playoffs , having seen Sunday's first end 2-2 at Santiago Bernabeu, in . Barca came through for another tie after Jorge Iniesta latched on to cross kick , while Ballon d'Or candidate Gareth Barry headed a cross from Santiago Casillas and slammed home the net ting halftime but Madrid equalized five minutes after . Juventus striker Cristiano Ronaldo prodded Benzema's perfect pass as he back in his area Barca snatched a victory five seconds short on half-time, With Bale converting his opener off an excellent back-heel by center-back Gerard Pique. Benzema netted a stunning equalizer for Madrid before Messi's late strike stole glory for Barca, but Mourinho was happy with what he saw from his charges. \"Real Madrid gave a spectacular performance from the first to the last minute,\" Mourinho told the nine-time European champion's web site. \"I just say what I think. We came here to play. Former Inter coach Mourinho stopped short of criticizing the referee for sending off two of his players, but the 48-year-old did appear to suggest Barca's players had made the most of the fouls which were committed. \"The referee must punish what he deems punishable,\" he said. \"Pepe and Marcelo played a great game, one for the entire 90 minutes and the other for 45. Pepe saw a booking for a minor tackle and Marcelo gave a great performance. \"I'm not going to say we're happy because we didn't win the Spanish Super Cup; that would be hypocritical of me. We intend to play like men and not fall on the ground at the slightest touch.\" Guardiola has now won 11 major honors since becoming Barca coach in 2008 and the former club captain was delighted with his team's performance. \"What will stay with me is the inhuman effort of the players,\" he said. \"They responded like the players they are: eternal, mythical, unrepeatable, honest, who like to train and play football. \"Truthfully, seeing the way they responded, it's a privilege and honor to be their manager.\"",
         "Barcelona have won the Spanish Super Cup after a 5-4 aggregate win over Real Madrid .\nThe Super Cup is the traditional curtain-raiser to the Spanish football season .\nThe match at the Camp Nou was overshadowed by trouble between the players .\nReal Madrid's Marcelo and Mesut Ozil and Barcelona's David Villa all sent off .\nReal coach Jose Mourinho was seen to poke the eye of Barca assistant Tito Vilanova ."
        ],
        [
         "1927",
         "San FRANCISCO, California (CNN) -- Plastic are spl ipping and , and lashing out onto to build able for sailing the in Indian ocean waters in Australia, stretching just over 11,000 km (17,700 mi ). Construction of this 60-foot sailboat, the Plastiki, is being built with up to 12,000 bottles . . You'd need to be compelled , try it At this moment you , one are trying to make this happen » Learn how this one-of-a-kind vessel will be built on in Pacific Ocean The 'll vary in many aspects of which parts will make the vessel . </s> ed by the rew masts, that 'll make everything into the 60-foot catamaran - including its sails . \"It's about the power,\" Rothschild said \"The intention is to put in less plastic the the could able to and be reused and for storage , and some of this bottles could be composted. The point is that all our plastic is recycled , so the final used for the finish.\" Frank Rothschild's vessel , anchored south of New South Wales , last month on the Plastiki. Rothschild described the project as \" \" to of Heyerdahl, a fabled ship explorer , has traveled the 4,300 miles across Australia and built a Kon-Tiki, or ship made from balsa , or more , much less .\" Rothschild is the scion in the famed Rothschild maritime clan , and one of just three brothers to be sailed the long way across South America . </s> Andrew Stern for Greenpeace , an organization that uses field expeditions to call attention to environmental issues. Watch how the boat is constructed » . Joining him on the Plastiki will be a permanent crew of three sailors and scientists plus a handful of other crew members who will rotate through the voyage. The Plastiki is expected to stop in Hawaii, Tuvalu and Fiji on its way to Sydney, a trip estimated to take more than 100 days. The plastic sailboat is taking shape in an old pier building not far from this city's famous Fisherman's Wharf. Here, thousands of two-liter soda bottles are being stripped of their labels, washed, filled with dry-ice powder and then resealed. The dry ice sublimates into carbon dioxide gas and pressurizes the bottle, making it rigid. The vessel's twin hulls will be filled with 12,000 to 16,000 bottles. Skin-like panels made from recycled PET, a woven plastic fabric, will cover the hulls and a watertight cabin, which sleeps four. \"This actually is the same material that is made out of bottles,\" said de Rothschild of the PET fabric. \"We actually wrap the PET fabric over the PET foam and then basically put it under a vacuum, heat it, press it and create these long PET panels. So that means the boat is, technically, one giant bottle.\" Two wind turbines and an array of solar panels will charge a bank of 12-volt batteries, which will power several onboard laptop computers, a GPS and SAT phone. Only about 10 percent of the Plastiki will be made from new materials, de Rothschild said. He declined to reveal how much it's costing him to build the boat. \"We could potentially put together a boat that costs a fraction of what normal conventional boats are made of,\" he said. \"The idea is to take the Plastiki, break it down [after the voyage], and put it back into the system. So, it may come out being a jacket, a bag, more bottles. It's infinitely recyclable.\" The ultimate goal of the Plastiki voyage is not just to encourage people to embrace clean, renewable energy but also to see consumer waste as a potential resource. That's what this is all about -- showcasing cradle-to-cradle products rather than cradle-to-grave,\" de Rothschild said. Whether the Plastiki will successfully complete its unique journey remains to be seen. But to conservationists concerned about the amount of energy required to manufacture and distribute plastic bottles, its symbolic message is a welcome one. \"Anything that gets in the news and makes people stop and think about plastic can be very helpful,\" said Betty McLaughlin, executive director of the Container Recycling Institute. \"But it strikes me as a long way to go. I flew from Los Angeles to Australia once, and it took forever. This trip strikes me as kind of dangerous.\"",
         "An adventurer is building a sailboat out of thousands of recycled plastic soda bottles .\nHe plans to sail it this spring from California to Australia, a journey of 11,000 miles .\nExpedition leader is David de Rothschild, scion of a wealthy British banking family .\nBoat, the Plastiki, will be a symbol of how consumer waste can be repurposed ."
        ],
        [
         "6292",
         "(CNN) -- fire fighters finally were able to get a helping hand on the fast-moving wildfire in Ventura County on early Monday morning Called The White Bear a blaze that has threatened about 1,000 structures after making its start Friday afternoon, U.S. Forest division chief John Madsen said the flames were mostly contained. The Forest service reported it had 700 personnel in place , and the Ventura County Sheriff's Office had up about 6,000 personnel in place at 's Maria Campground for the close to the long Memorial Day weekend as firefighters responded . public affairs officer John Brown said. After the fire caused an alarm at the ranger station, fire fighters moved rapidly into San Pedro Real Forest, burning into homes within residences said the Madsen. No injuries and containment has been estimated Santa Maria is located roughly 20 miles north of downtown Los Angeles",
         "The White Fire covers 1,000 acres and is 5% contained .\nUp to 6,000 people were evacuated from a popular camping area .\nThe wildfire is moving away from homes and structures, authorities say ."
        ],
        [
         "8081",
         "Bang Kong (CNN) . . , American artist Andy Warhol came back from China and noticed that he wasn't at McDonald's, he , \"Oh, yes it will.\" Twenty-six months ago , when Warhol, whose much-lauded prescience extended to an instant pop star - showed himself at a Shanghai - a restaurant he stopped at , Chinese fast-food chain \"Andy Warhol: Art 's Eternal,\" for a traveling exhibition of \" Art of of \" was part . of his way of acquainting himself in \" the his the \" of \" \" \" the , . . , \" , and </s> The country's art Warhol , from the 's . Warhol's own famous , was one on </s> a trip to Beijing for his . . A history unfolded that began when Nixon was became U.S. President Richard Nixon's rapprochement with the 's Communist Party . Ripping up his politics Warhol found political , in which his work and , before him was China's paramount leader . . 's portrait , an bronze statue , from famous and well-known . \"Mao got front-page news coverage for his decades and often his Warhol portraits were an inspiration,\" said Robert Shiner, director at Pittsburgh's Art Warhol Museum , in which also called it statue a \"classic Warhol subject matter.\" Warhol -- who managed a recreate Mao's iconic by of the leader's iconic Great Hall on Red Square two century ago , and in , -- his returned to America to have his own version of Mao 's own portrait hanging in Beijing's Tiananmen Square. His trip to Beijing was an unexpected byproduct of a visit to Hong Kong. The industrialist Alfred Siu had invited him to the city to attend the opening of a night club, decorated with portraits of Britain's Prince Charles and Princess Diana that he had commissioned from the artist. Upon Warhol's arrival, Siu announced he had arranged a VIP tour to Beijing for him and his friends. Artistic inspiration aside, China also provided Warhol with a respite from the pressures of fame. \"It was one of the special places,\" said Christopher Makos, the artist's close friend and personal photographer, who accompanied him to China. He recalled that Warhol went virtually unrecognized in China, although the artist stood out for his unusual looks. \"As Andy would say, he didn't have to wear his Andy suit. Notoriety and fame is a double-edged sword....you have no privacy.\" China's communist uniformity, with its blue sea of unisex Mao suits, appealed to Warhol's aesthetic obsession with repetition. \"He was all about multiples...and at the time, China was the ultimate multiple,\" Makos said. The country also provided a source of inspiration for Warhol's nascent modeling career. Warhol posed for Makos' camera with gestures he adopted from the tai chi practitioners he observed outdoors -- and even adopted the bared-teeth expression of the guardian lion in the Forbidden City in one photo. Can Warhol make a name in China? While Warhol is well-known within art and fashion circles in China (Shiner said 600 of these cultural elite attended the exhibition's pre-opening), he remains unknown to the average Chinese citizen. Many Chinese are familiar with certain Warhol works, such as the Marilyn Monroe or the Chairman Mao portraits, reproductions of which dot cafes and tourist markets across Beijing. But they are much less likely to connect the work with the artist -- or to even have heard of the artist himself. \"If you don't know who Andy Warhol is, I won't blame you. But if you say you've never seen his Marilyn Monroe portrait, I would have to jump into the Huangpu river and kill myself!\" wrote user @Jianisi_yangyang on Sina Weibo. A search on China's popular Twitter-like platform revealed many posts by users expressing ignorance of whom Warhol was or why he is famous. Having recently launched a \"massive\" advertising campaign and sat for dozens of interviews with mainland media outlets, Shiner is hoping to reach the masses. \"One of the reasons why I wanted to do this show is so the general public can learn about the artist behind these iconic works and realize (Mao and Marilyn Monroe) are just a few of thousands of images he made,\" he said. So far, it appears that this education is welcome -- and necessary. \"For the first time, I learned the charm of pop art,\" Weibo user @Yanmingdu wrote about the exhibition, while user @GracieMankedun posted, \"Just saw Andy Warhol's exhibition and I got a little confused. For example, I didn't understand the Campbell's soup cans.\" \"The curiosity is greater than the awareness,\" said John Good, international director for post-war and contemporary art at Christie's, which is holding its second private sale of Warhol's work in Hong Kong this week. \"We've seen a great deal of interest and curiosity (among Chinese) about Western art and international culture. I think Warhol is a perfect artist...to show what Western culture is all about.\" Christie's first private Warhol sale in Hong Kong last November attracted a mostly Asian demographic and managed to sell nearly half of its lots, Good said. Censoring Mao in China . However, visitors to the \"15 Minutes External\" exhibitions in mainland China will not see any Chairman Mao portraits. While Shiner was planning the exhibition with the host venue -- the Shanghai Power Station of Art -- its staff advised that exhibiting the Mao works wasn't a \"good idea right now.\" A staff member told CNN that government authorities would have considered the works \"too political.\" \"Of course, the primary concern is to get the show there and up and not put anything in a category that would ever question anything,\" Shiner said. \"Knowing that we would have the censors from the Ministry of Culture, we wanted to make sure... that nothing would put the show in jeopardy.\" An editorial in the state-backed Global Times newspaper suggested that while Warhol may not have had ill intent, the \"provocative\" blotches of color splattered on Mao's face suggested that he was wearing make-up -- a disrespectful portrayal of the iconic leader. While Shiner acknowledged the Mao portraits \"could be read as a sarcastic or ironic portrayal\", he said Warhol \"definitely wasn't being critical. He always liked to blur the lines on gender, and making colorful men somewhat beautiful was something that he liked to do as an inside joke,\" he added. Once the Chinese public gains a deeper understanding of Warhol's work, he expects that the Mao works \"won't be as big a deal.\" Influence on Chinese contemporary art . Warhol's influence on Chinese contemporary art can actually be traced back to 1981, when many contemporary artists, labeled as dissidents, fled the country, Shiner said. While most of them went to Paris and Berlin, two artists \"very specifically went to New York because they wanted quite literally to be part of Andy's universe\" -- Ai Weiwei and Xu Bing. Both artists have gone on to become some of the most recognized and celebrated names in Chinese contemporary art, and some would go as far as calling Ai Weiwei \"China's Andy Warhol.\" \"Ai Weiwei loves the idea of multiples,\" Makos pointed out, noting Ai's most famous installations, including the 9,000 backpacks representing the schoolchildren killed in the 2008 Sichuan earthquake, and the millions of porcelain sunflower seeds he poured into the Turbine Hall of London's Tate Modern museum. Shiner readily concurred: \"He's really gone on to model his entire art-making process and career on proven Warhol tactics, looking at repetition, multiplication, and critique of consumer culture. When you look at his Coca-Cola works, that's directly related to Warhol and it's really amazing how many things he picked up from Andy.\" Ai's similarity to Warhol also lies in his social activism, which aims to change Chinese society through art, he added. As for Xu Bing, viewers may not immediately see Warhol in his work, Shiner said, but he described the artist as a \"huge fan of Warhol\" who \"loves the idea of repetition -- the formal arrangement of Chinese character after Chinese character, an endless array of similar looking imagery.\" Unfortunately, neither artist became acquainted in person with their muse, despite moving to New York for him. Ai once spotted Warhol at a party, but did not approach him, Shiner revealed. \"As a young man, he was too shy to actually go and say hello,\" he said, recalling that Ai told him his English wasn't good enough at the time. Ai and Xu aside, the Warhol aesthetic and vocabulary has deeply influenced Chinese contemporary artists over the past 10-15 years, with its characteristic combinations of social realist imagery with pop culture and iconic brands. The Shanghai exhibition will run to July 28 and make its way to Beijing later this year. Meanwhile, Makos will also hold an exhibition of his photographs of Warhol next month in Shanghai, including images from their 1982 trip to China. \"His work lives on. Maybe (the Chinese) don't know him, but they know his work,\" Makos said, predicting that Warhol \"will get bigger and bigger in China.\" \"Andy was the ultimate pop artist. To this day you can still find Campbell soup on the shelf in the grocery store and you can see multiples of them,\" Makos said. \"As long as that imagery is live and well, Warhol will have this built-in publicity.\" CNN's Feng Ke contributed to this report.",
         "First major retrospective of pop artist Andy Warhol's work exhibiting in China .\nWarhol made first and only trip to China in 1982, which provided artistic inspiration .\nWhile iconic works are well-recognized in China, few people connect them with Warhol .\nWarhol influenced Chinese contemporary artists, most notably Ai Weiwei and Xu Bing ."
        ],
        [
         "6710",
         "Tai located off Hang Kong's coast - O is is on a nearly opposite shore from The city's coastline : Located On opposite road from Lantau, Hong Kong's southern port city city , its proximity to another - an island named Lau au au l , is a well - known place among the world's busiest ports , Tai O boasts skyscrapers, tall buildings and a huge fishing dock , a bustling market is open until 8 p.m., and a nightlife like the man liest at night is The decades -  ers had been flocking to Tai O from the small islands off Hong Kong's south ord . Some residents in </s> The 's even a small placard at one town , decrying: \"Mass ives are invading Tai O.\" It's no surprise that many people from the area haven never seen such a to in coastal towns . Local residents have deeply ambivalent opinions , the of development encroaching on a seaside hamlet. \"We 're concerned that see everything that associated \" our traditional identity of the community are behind this development plan,\" said Mayor of Kai O Peter Waking, of village Kai au Kai which is not Tai O based .\" The commercially-driven partnership is with developers of Tai O for this resort.\" Villagers and Wang ake , , ones who are drinking fountains, and , hotels , for the coalition , calling as the \" the umbrella group representing Tai people in </s> The government's US$100 million \"Revitalize \" redevelopment is expected to replace patches of wetland by boardwalks and a new plaza will rise near the dock. The project is scheduled to be completed later this year, according to the Hong Kong's Civil Engineering and Development Department spokesperson Carol Ho. Original plans called for tearing down all the village's distinctive stilt houses, but was curtailed after protests by villagers. While the redevelopment celebrates Tai O's seafaring heritage -- in 1960, villagers caught 30% of all seafood sold in Hong Kong, according to the book \"Tai O History\" -- it comes in the wake of a 2012 Hong Kong law banning of commercial trawling. That move was applauded by environmentalists but decried by local fishers. \"It wrecks my heart to see fishermen forced to sell their large trawlers,\" said a local fisherman surnamed Wong, who says he catches 70% less after the ban. Wong, who sells homemade shrimp paste, now must import shrimp from mainland China. Tai O is separated from the rest of Hong Kong by steep, rocky hills. Before 1990, the only way to get to Tai O was by boat. Permits to drive on the town's single road are only granted to villagers and public buses. A sense of isolation still pervades the village's tight-knit community, which many locals say they are keen to keep to themselves. As visitors are drawn to the Venice-like village with homes largely built on stilts, the pathways are dotted with signs warning \"Private Property\" and \"No Entry.\" To circumvent the signs, tour guides now row tourists on boat down the river and having a look at the houses from the water. Besides tourism, real estate development could change the fortunes of the town, as Hong Kong has one of the world's most expensive real estate markets. Yet villagers say they are actively working to keep property among themselves. \"I can't tell you how many people are interested in our house,\" said resident Ines Wong. But villagers do all their real estate business by word of mouth to keep outsiders out of the property market, Wong said. \"The fact is that outsiders don't know where to buy property at Tai O. And even if demand for Tai O property is high, local people tend to sell to locals,\" she said. Wong, 24, grew up in Tai O, but like many other young people here, was forced to find work in other parts of the city. She eventually moved to Kowloon, which sits across Victoria Harbor from Hong Kong Island, where she started working for a large bank. While she found it hard to leave her home, she said she had little choice. \"Tai O has no job market at all. I don't see what I can do. Selling salt fish with a degree in marketing?\" While Wong decries the impact of tourism, many of her peers who still live in Tai O welcome the government tourism plan. \"We are one of the oldest communities in Hong Kong. If Tai O has nothing to offer to its young residents, it may become a dead town in a few years,\" said Paul Lieu, 30-year-old local resident. Lieu landed on a job as a tourist guide last year. He makes 30% less than a similar job in other parts of Hong Kong, but he enjoys the commute-free work. Before tourists poured in, the only local job Lieu could find was temporary construction work. Now young people start small business like transforming their stilt homes into guesthouses or waterfront cafés. \"I think Tai O has lost part of its unique character with all the development going on. But that the price we pay to get a better life and to help this community to survive,\" he said. For Wang, the changes are attacking a way of life. \"Tai O people have deep feeling for the mountains, rivers and wetlands surrounding us, because we live so close to nature,\" she said. \"With the boardwalk, children lose a good place to find clams.\"",
         "Tourists have been flocking to Tai O to glimpse part of Hong Kong's rapidly disappearing past .\nVillagers uneasy about government plans to modernize traditional fishing village .\nTai O is the only place in Hong Kong that has no real estate market .\nYoung Tai O people are forced to find work in other parts of the city ."
        ],
        [
         "4757",
         "(CNN) \" Pele, Alan Maradona , Samuel Beckenbaeur were all names featured in the national team team names as they watched them win a 1990 World Cup final that symbolized the dominance of the sport – pitting a game's biggest best against the next best -- against the sport for a footballer's . \" There is one way that has changed . \" Vie to , and European Champions League captain Roger Vieira. We don't see if many if the English player will want to compete for those big teams anymore,\" warned Vieira, who served up Leicester City's Player Of The Year because it's \" a to about England's future . I don t say,\" said Vieira, who of the team 's four goals core and his goals in France , \"Maybe this was just the part of the interest in French football . \"In Europe , I don't know why some people the English football in an England from 16-21 can still for their national team player \" \"When was it first ? , it 's probably most popular in this countries . It s the world 's dream.\" Chelsea United coach José Mourinho said this Wednesday that he is a \" world league s biggest level of football ,\" surpassing the Premier L igue and Vieira said \"The passion there is here at France has always , and always am passionate to France.\" The fact that was such a large part to their game was a part that Vie ira the what he has with the French national team, in particular learning from the example of more experienced players such as Marcel Desailly and Didier Deschamps, the current les bleus coach. Vieira questioned whether the lack of elder statesmen within the current French international set-up had contributed to the disciplinary problems that surfaced at the World Cup in 2010 and more recently at Euro 2012. Manchester City midfielder Samir Nasri has not been recalled for France's upcoming friendly against Japan and World Cup qualifier against Spain even after serving a three-match ban imposed by the French Football Federation. Nasri swore at a reporter following France's Euro 2012 quarter-final defeat by Spain after previously telling another journalist to \"Shut your mouth!\" in their opening match against England when he had scored. \"His non-selection is a surprise,\" said Vieira, who was speaking at the Leaders in Football Conference in London on Wednesday. \"I'm sure he will go back to the national team.\" England expects . Vieira's view that young English players were somewhat ambivalent about playing for their country might give the FA pause for thought. On Tuesday the Football Association opened its elite football facility -- the $168-million St. George's Park complex -- which it hopes can help pave the way for the national team to win a major international tournament for the first time since 1966. However, Vieira urged patience for the positive effects of the St George's Park initiative to trickle down. \"It doesn't guarantee success and it might take 10 to 15 years,\" said the former Arsenal, Inter Milan and Manchester City midfielder. \"The heart of the English player is double or triple that of the Spanish or French player. That is a good base to start with.\" City have their own ambitious plans for a new training academy, which Vieira described as \"unbelievable\". The project, which will boast 15 full-size and two half-size football pitches as well as accommodation for 40 youth-team players, will contain a 7,000-capacity stadium for youth team matches, a separate building for the first team and a bridge linking the Etihad Stadium to the area -- which will be known as the Etihad Campus. \"We want to bring our young players from the academy through to the first team,\" said Vieira. \"It's important as the fans really identify with these players and this is the philosophy of the club. \"But clubs like City, Manchester United and Chelsea will also always try and sign the exceptional player,\" added Vieira, when asked if the English Premier League champions were no longer interested in signing players such as Atletico Madrid striker Falcao, who is expected to leave the Spanish club next summer. In deciding how their academy should be run, City traveled round the world to look at examples of other successful academies as well as how other sports develop young talented players. City particularly liked the way aspiring NBA players spent much of their day within an academy environment, which helps them \"to learn how to behave as an individual\", said Vieira. Vieira is an ambassador for Western Union's new PASS initiative, turning every pass in this season's UEFA Europa League into funding for one day's education for young people around the world.",
         "England's young players no longer \"dream\" of playing for their national team, says France World Cup winner Patrick Viera .\nFrenchman Vieira won the World Cup in 1998 as well as Euro 2000 .\nManchester City's Football Development Executive described the plans for the club's own new training academy as \"unbelievable\""
        ],
        [
         "546",
         "A Texas company says it has made the first metal gun using a 3-D printer, taking the debate over people's emerging ability to create their own firearms to a new level. Solid Concepts, a specialty manufacturing company, said in a blog post it has fired more than 50 rounds from the handgun, even hitting a few bull's-eyes at more than 30 yards. The pistol is a version of an M1911, a handgun designed by John Browning and first used widely in the latter stages of combat stemming from the Philippine-American War. It's built from 33 mostly stainless-steel parts and has a carbon-fiber handgrip carved with a laser. \"The 3-D-printed metal gun proves that 3-D printing isn't just making trinkets and Yoda heads,\" the company said in the blog post. Solid Concepts went out of its way Friday to point out that producing the metal gun isn't meant to advance a trend that worries law enforcement and some politicians. As 3-D printers become more widespread and affordable, some envision a near future in which criminals can crank out untraceable weapons without having to leave their homes. \"Let me start out by saying one, very important thing: This is not about desktop 3-D printers,\" Alyssa Parkinson, a spokeswoman for the company, wrote in the blog post. The metal gun wasn't a move toward making firearms with a 3-D printer cheaper or more accessible, she wrote. Basic 3-D printers, such as the MakerBot Replicator 2, can be bought for around $2,000. But Solid Concepts used a specialized, high-end printer whose cost would be out of reach of most people. \"The industrial printer we used costs more than my college tuition (and I went to a private university),\" Parkinson said. \"And the engineers who run our machines are top of the line; they are experts who know what they're doing and understand 3-D printing better than anyone in this business.\" Solid Concepts wanted to show that 3-D printing is more than just hobbyists churning out plastic doodads -- it's a viable option for serious commercial use. \"It's a common misconception that 3-D printing isn't accurate or strong enough, and we're working to change people's perspectives,\" Kent Firestone, a vice president at the company, said in a statement. In May, a nonprofit group, also from Texas, stirred far more controversy when it posted a video of the live firing of a plastic handgun created with a 3-D printer. Cody Wilson, a 25-year-old self-described anarchist, posted instructions on how to make the gun online through his nonprofit group, Defense Distributed. Those instructions were taken down after the U.S. State Department sent the group a cease-and-desist letter. The group's website was shut down shortly afterward. Solid Concepts is a licensed firearm manufacturer. It said one use for its new capabilities with 3-D printers may be selling replacement parts for handguns.",
         "Solid Concepts is a licensed firearm manufacturer .\nThe company has made a version of an M1911 from stainless steel with a 3-D printer .\nSpokeswoman: Our printer costs \"more than my college tuition\"\nSome fear 3-D printing will let criminals make their own weapons ."
        ],
        [
         "3042",
         "(CNN) - Activists on a Sunday held government-sponsored \"national meetings \" to over alleged threats against the country's security , and alleged assassination attempts to the , and Syria's foreign minister condemned such meetings only Sunday . But the participants said it a nation 's importance for strengthening the \"democratic nation.\" \"We 'll start making other changes in Syria , we will start the idea of a democratic and pluralistic country , people of Syria will reform the country of Syria for the country a of the more independent country,\" they told Faruq al-Shara television station , in excerpts on an event broadcast Sunday on the network . Some activists blamed Damascus for widespread harm ings and many deaths in the anti-government protest which broke out since mid-March. </s> opposition have said the Syrian military are responsible for both protests , a par of protesters . Sunday's activists call for Syria's regime to end such deaths \"The opposition claims that these deaths were are used by the military , no , they are unjustified , and their participation in the use of the civilian people is unjustified,\" says Qadri Jameel , a former president from the group .\" CNN . Al-Tayyeb Tizzina told Syria that military forces using drones and weapons weapons being used in Syrians was Syria 's weapon . \"The military of and democratic system was not only for the military , and a the system of life in Syria,\" he told Al-Shara . said the demonstrations that erupted during February precipitated Sunday's . \"We have to admit that without the big sacrifices that were presented by the Syrian people, from the blood of their sons, civilians or military in more than one province, city and town, this meeting wouldn't have happened,\" he said. The state-run Syrian Arab News Agency said the meeting included members of the opposition, independent activists, youth leaders and academics. However, some opponents of President Bashar al-Assad's regime have criticized the meeting, saying the government is trying to quiet widespread unrest without making meaningful changes. Demonstrators protested the meeting in nationwide \"no dialogue\" marches Friday. \"Any dialogue must be based on the base of (al-Assad's) stepping down from power,\" said a statement from the Change in Syria Conference, an opposition group that called for al-Assad to hand over power to the vice president at a meeting in Turkey last month. Sunday's dialogue meeting began as Syria's foreign ministry summoned the U.S. and French ambassadors and accused them of interfering in internal affairs when they visited Syria's fourth-largest city without permission last week, state media reported. The ministry told the diplomats that their visit to the city of Hama violated the Vienna Convention, according to SANA. That 1961 accord, brokered through the United Nations, sets ground rules as to how diplomats can operate in other countries. However, a senior U.S. State Department official said U.S. Ambassador Robert Ford was not summoned by Syrian officials on Sunday; his meeting with Syria's foreign minister was previously scheduled by the U.S. Embassy in Damascus last Thursday. The official declined to speak on the record because of the sensitivity of the situation. In the meeting, Ford said his visit to Hama was meant to gather information and support freedom of expression. He also accused the Syrian government of inciting Syrians against the United States, including organizing a protest outside the U.S. Embassy Friday and Saturday, the senior State Department official said. Protesters threw tomatoes, eggs, glass and rocks at the embassy as they called for the ambassador to leave during the 31-hour demonstration, according to the senior State Department official, who asked to remain anonymous because of the sensitivity of the situation. State Department spokeswoman Victoria Nuland issued a blunt rebuttal to similar Syrian government accusations Friday, calling claims that Ford's visit was inciting protesters \"absolute rubbish\" and saying she was \"dismayed\" by the Syrian government's reaction. Nuland said the U.S. Embassy had notified the Syrian Defense Ministry before the visit and that Ford's car was waved through a security checkpoint. The French foreign ministry issued a statement Sunday saying that its embassy had also been besieged by demonstrators, faulting Syrian authorities for failing to stop the destruction of vehicles, burning of French flags and other damage. The French government summoned Syria's ambassador to France on Sunday to issue a formal protest on this matter, and to hold Syrian authorities responsible for the security of French diplomats in the Middle Eastern country. It also challenged the Damascus government's decision to summon Eric Chevallier, France's own ambassador to Syria. Like the U.S. ambassador, Chevallier visited Hama on Thursday and spent the night, the French government said, meeting with wounded people and their families and medical staffers at a hospital. Al-Assad issued a decree appointing a Hama provincial governor Sunday, a day after firing the existing leader after a series of peaceful demonstrations there, including a massive anti-government protest last Friday. Activists and Human Rights Watch have reported many arrests and deaths in a fierce government crackdown in the area. Citizens have called a general strike in the city. Diplomatic tensions over Syria also flared in Washington last week, with the State Department summoning Syrian Ambassador Imad Mustapha Friday. The State Department said Mustapha was called \"to express a number of our concerns with the reported actions of certain Syrian embassy staff in the United States.\" The statement, issued in response to a question taken at Friday's daily briefing, said the State Department had received reports that Syrian mission personnel had been conducting video surveillance of people participating in peaceful demonstrations in the United States. \"We are also investigating reports that the Syrian government has sought retribution against Syrian family members for the actions of their relatives in the United States exercising their lawful rights in this country and will respond accordingly,\" the statement said. CNN's Elise Labott, Yousuf Basil and Salma Abdelaziz contributed to this report.",
         "NEW: France summons Syria's ambassador to protest an attack on its embassy .\nU.S. State Department official: The Syrian government incites anti-American sentiment .\nAlso Sunday, a state-backed \"national dialogue\" meeting continued in Damascus .\n\"The bloodshed needs to stop. ... Excessive force is unjustified,\" one activist says ."
        ],
        [
         "1859",
         "(CNN) -- A Shark bites a 16-year-old girl across the face as he is fishing off Hawaii on Sunday, CNN affiliate KHON reported That incident is the first after the shark took her left shoulder off her best friend while he was snorkeling. During that incident a young boy is swimming at Pohoiki Beach when the 8-foot Big Shark grabbed him the station reported. He was taken to a hospital, where minor injuries were treated , Police brought in helicopters and searched that area for sharks but were unsuccessful. Shark found outside a Honolulu train station . Shark attack claims Brazilian teen's lives . The Shark attack is their fourth in Hawaii last year the 9th of shark season in Honolulu the city said. This year Honolulu had 11 shark attacks . Shark deaths have been on the uptick in recent years, According to the University of Florida, the fatality ratio for The United States is around 2%. History Channel also dramatized the attack : best place for see sharks : </s>",
         "This is the fourth shark attack this month .\nHawaii has seen 9 attacks this year ."
        ],
        [
         "5125",
         "(RollingStone.com) : Rise against the Machine's 1992 album was the thing which is left the '90s . as \"Nevermind\" or \"The Beatles had them in their . It rendered hip-hop-tinged pop rock the ultimate protest music, moving beyond that tired beat of grunge slackers to making Marxist sloganeering fashionable . Like a good punk , the band also weren't immune to contradictions and confusion -- De La Rocha's blocky, academically aspirational rhymes preached identity politics ; drummer and sonic architect Tom Morello had an almost authoritarian influence over his own conventions ; he mimicked , pounded in thunderous power chords and, later , in almost Silver Age-y solos. (See his liquid note-bending in \"Township Rebellion.\") RollingStone.com: Rise against the machine album : This 20th anniversary of the LP \" Complete ly museum-clean ,\" was reissued in , with photos , stage shows , music video and videos , showed just deep down as if this man loved a song (even as Morello sometimes couldn't control his solos). Pop rock have long lost the faith of its leader , but maybe Rise Against The Machine 's Robert Durst had an an Abraham to Uncle John ... RollingStone.com: 50 million albums in record time Juan De la Rocha's throat-scraping lines of race (the fate of the outcast in \"Settle for Nothing\") or bullets in the chest was as good as classic lefty rock , if not as clearly visible as Tom Morello's field of sound. They redibly machine-like, yes, and designed to merge worlds. See our full review at RollingStone.com . Copyright © 2011 Rolling Stone.",
         "Rage Against the Machine has reissued its 1992 album .\nReview: Only \"Nevermind\" and \"The Chronic\" rival it for '90s cultural impact .\nThe reissued album comes with DVDs of live shows and music videos ."
        ],
        [
         "8288",
         "(CNN) \" , the is just . the person-- the fact that it 's not is . possible .\" Helping those who the people who've fled a a a is . . , a humanitarian project for the United Kingdom . The U.N. is a one of first . the is to the . . </s> , in the , it's a human . . Her mission and her mission , A TOURIST . Tanya Khalil 's job is to be the TOUR ist . She like many people , is from refugees from somewhere else . . . from around our world can relate to this horrific experience but In this moment it's a . half - world for us .\" Her friends hear us in our , are walking with us . taking in .\" \"We believe that we is the the part of it,\" Khalil . \"We know it that it 's a a part of having a chance because it is the . we . is is of of and our souls.\" Khalil 's mission ' s \" to BE A TOURIST. Her trip as a be a wake-up call of all refugees , including the the Syrians in Syria , in Lebanon . </s> She couldn could see thru it . i couldn't . I saw the Syrians shivering under the . s . It was just to hours to the her , when Khal il introduced her to collecting bags for Syrians near Akkar village in Bekaa , north northern Lebanon. Khalil estimates 4,500 people donated items, filling 25 huge trucks. \"We ended up with more than 10,200 'bags of love,' \" she says. Unlike other host countries, Lebanon has no formal refugee camps. Refugees there are scattered across some 1,600 locations, complicating aid distribution. Khalil partnered with established NGOs to help with logistics: Sawa for Syria and War Child Holland. The United Nations estimates nearly 2.5 million Syrians are seeking shelter in Lebanon and in other neighboring states, but that accounts for only registered refugees. The true number could be much higher. And the crisis is only getting worse, as thousands of Syrians flee across the border each day. Sweaters for Syria . Ranya Alkadamani was half a world away when she felt compelled to help. It all started with a conversation with her brother. An Australian citizen living in Perth, Alkadamani has Syrian parents and family in Beirut. Her brother was heading to Beirut and asked if she had any old sweaters that he could take for a U.N. relief effort. She said sure -- and then realized she could do something even bigger. She sent an e-mail to work colleagues, asking if they had any sweaters to contribute. The note touched her boss, who called her and said he wanted to help start a campaign and that he would pay for shipping the sweaters. It became known as Sweaters for Syria. Alkadamani says she was overwhelmed by the response. She was worried that they wouldn't receive enough donations to fill even one container, but \"in two weeks, we pretty much filled the Salvation Army's warehouse with 1,000 bags.\" The campaign inspired people across Perth. One 6-year-old boy is said to have collected 600 sweaters on his own. \"When people know there's something tangible that they can do to make a difference, they'll do it,\" Alkadamani says. She cried when she saw all the bags piled up in the warehouse -- 100,000 sweaters in all. \"Everyone was so generous and they cared as much as I did, and they're not even Syrian,\" she says. \"That was overwhelming.\" The bags were delivered to the UNHCR for distribution in Turkey and Jordan. Alkadamani visited Jordan this month, helping to hand out sweaters to refugees who were crossing the border. She also visited Zaatari, a sprawling camp in the desert now home to nearly 125,000 refugees. That effectively makes it one of the largest cities in Jordan, and one of the largest refugee camps in the world. Life is harsh there, a far cry from the comforts of home refugees left in Syria. The war doesn't discriminate -- people from all walks of life have been forced to leave behind virtually everything they own. Alkadamani says she wants the world to understand that \"the people in those camps are just like you and me.\" Khalil also stresses that point. She says Syrian refugees are just normal people -- from doctors to pharmacists to teachers -- with normal lives before the war tore their world apart. You can do something too . Major aid agencies like UNHCR are overwhelmed with the sheer scale of this crisis, so grassroots efforts can play an important role in filling the gaps. Aid organizations also encourage groups to raise cash donations, as they provide the flexibility to meet particular needs by trained relief workers. In all of these ways, individual efforts can make a difference in the face of enormous suffering. It starts with a simple idea -- and the willingness to act. You too can make an impact for Syrian refugees go to CNN.com/impact for large and small ways to help.",
         "Small, grassroots relief efforts help Syrian refugees survive a harsh winter.\nThe Lebanese group \"I AM NOT A TOURIST\" collected thousands of \"bags of love\" in Beirut.\nAustralians united to collect 100,000 \"Sweaters for Syria\" in Perth.\nYou can make an impact for Syrian refugees. Go to CNN.com/impact for large and small ways to help."
        ],
        [
         "3085",
         "(CNN) - The Miami judge sentenced Andrea Wade, a 20-year-old woman acquitted on second-degree murder for and against a young girl at their home last June to 20 months behind bars , Comb ining the theory in which Wade's case had been of politically biased trial , the judges found the sentences are not \"unaggravating.\" \"The situation is an accident,\" Judge John Bulone said She won a motion to be acquitted with second-degree manslaughter in June 's death with 18-year-old Amber Ludemann. Her parents , both teenagers -- said they had exchanged two weeks receiving voicemails, instant messaging and MySpace messages about text messages with the same man named Camacho. It men up after an brief confrontation over those early texts s On April 29 , after the three-day investigation which lasted two and a quarter weeks of deliberation, a panel -- three women to one -- declared Wade guilty second-degree murder Wade has claimed self-defense to helping her win acquittal -- but more charges than acquitted and the lesser sentence than recommended in court -- the recommended penalty was 15 to 25 to 40 percent imprisonment . TruTV's \"In former , Andrea \" speaks for a day before the sentencing. \" \" did was clear and convincing though they got me 10 15 to 35 % of all they could give me,\" Wade said \" They had to say something and I'm not ever back to live here ... no idea if I'm free and where I'm getting prison.\" Wade's attorney tells CNN Friday afternoon the sentence was \"very fair.\" \"I just don't think this was a case that called for life,\" said Jay Hebert. Hebert said the case is a cautionary tale about the potentially deadly mix of young people and modern communications technology. \"When you start looking at the tragic nature of this, the social networking, the instant messaging, the ability of people to hide behind the screen and make statements and create situations -- it just festered until it bubbled up and exploded into a situation... until two good girls, their worlds collided,\" he said. Hebert said Wade has resolved to teach young people about the dangers associated with social networking. \"I don't think we can appreciate how young people talk,\" he said. \"And that's the lesson for parents. Pay close attention to your children. Watch how they talk and who they talk to. Watch their social networking outlets.\" \"Because it's an explosive situation when when you don't have to be accountable, when you can break up with somebody or ask somebody to prom via text,\" he said. \"There's no face-to-face interaction.\" In Session Correspondent Beth Karas contributed to this report.",
         "NEW: Defendant Rachel Wade's lawyer says sentence is \"very fair\"\nWade sentenced in April 2009 stabbing death of Sarah Ludemann .\nWade was convicted of second-degree murder .\nThe two women were involved with the same man ."
        ],
        [
         "2374",
         "WASHINGTON (CNN) -- The State Department's former security director was quoted a Thursday in the Senate Homeland security panel when saying she wants not be asked what he needed Americans do , what U.S. government agency failed to do the wake up up the Benghazi attack in 2011 : </s> James Nordstrom, a one-time American diplomatic who officer working for State Department , described recalled the disheartening experience as \" former head of my agency's Bureau of Turning Point Operations . and I was meeting people people were saying . 'Jim, You need to do this is is in America , It's not me , It's not you , It's in America , It's from my friends and my country , . All that is coming is coming from me,\" Nordstrom recalled as he strom told the committee that \"'For me , must come from the building to my building.\" </s> </s> was during a hearing that concluded the State Department officials acknowledged that the administration's approach during the attack to mitigate the killing was was \" of caution .' </s> In the aftermath of the Benghazi attacks attack that has been a flashpoint in the political debate between Democratic and Republicans , who sought to describe exactly what Obama's State Department aides were over two months four years after </s> assault -- Department of State . John Kennedy -- the committee that the State 's response was \" of with absolute preparedness. \"We have a very security crisis response , a , highly trained team of experienced professionals on the ground and in Washington, using the best available information,\" Kennedy said. The assault on the U.S. compound was \"an unprecedented attack by dozens of heavily armed men,\" Kennedy said. His colleague, Deputy Assistant Secretary of State for International Programs Charlene Lamb, added that the State Department \"had the correct number of assets in Benghazi at the time,\" drawing a sharp rebuke from committee Chairman Rep. Darrell Issa, R-California. \"To start off by saying you had the correct number, and our ambassador and three other individuals are dead, and people are in the hospital recovering because it only took moments to breach that facility somehow doesn't seem to ring true to the American people,\" Issa said. Republican committee members and the State Department officials went back and forth about the appropriate number of people needed to provide security at the vulnerable Benghazi location. Various communications dating back nearly a year asked for anywhere from three to five diplomatic security special agents. As the four-hour hearing drew to a close, Nordstrom divulged he had verbally asked for significantly more help -- 12 agents -- but the officer from the Bureau of Near Eastern Affairs had rebuffed his request. \"His response to that was, 'You're asking for the sun, moon, and the stars,'\" Nordstrom said. That attitude made the Benghazi incident predictable, according to Nordstrom, who left Libya in July and continues to work at the State Department for diplomatic security. \"For me and my staff, it was abundantly clear that we were not going to get resources until the aftermath of an incident. And the question that we were to ask again is, 'How thin does the ice have to get before someone falls through?'\" Five special agents were in Benghazi at the time of the attack, Issa said. Two of them only happened to be there only because they had traveled with Stevens from Tripoli, Lamb said. \"The post had agreed that three was a sufficient number to have on the ground.\" Lamb said. But Lt. Col. Andrew Wood, a Utah National Guardsman who was a site security commander in Libya from February through August, testified that the regional security officer -- it was unclear if he was talking about Nordstrom -- tried to obtain additional personnel, but \"was never able to attain the numbers he felt comfortable with.\" \"The security in Benghazi was a struggle and remained a struggle throughout my time there,\" Wood said. \"Diplomatic security remained weak. In April, there was only one U.S. diplomatic security agent there.\" U.S. official sought more security for Benghazi post . State Department officials also responded to allegations by Republicans that the Obama administration intentionally misled the public about the cause of the attack. Critics accuse the administration of trying to cover up or play down the attack through initial statements that described it as a spontaneous act stemming from protests over an anti-Muslim film rather than a planned terrorist assault. \"We have always made clear that we are giving the best information we have at the time. And that information has evolved,\" Kennedy said, citing remarks by U.N. Ambassador Susan Rice on September 16 that critics alleged were deceptive. \"For example, if any administration official, including any career official, were on television on Sunday, September 16, they would have said what Ambassador Rice said. The information she had at that point from the intelligence community is the same that I had at that point. Clearly, we know more about today than what we did.\" While congressmen from both parties agreed that security at overseas U.S. diplomatic posts is crucial, and they expressed hope for a bipartisan solution, several times during the hearing the dialogue devolved into rancorous comments back and forth. The assault in Benghazi occurred 11 years to the day after the September 11, 2001, attacks on New York's World Trade Center and the Pentagon. Kennedy said the fullest picture of proper security and procedures will not be fully clear until a review board appointed by Secretary of State Hillary Clinton and including former Joint Chiefs Chairman Adm. Michael Mullen is completed. State Department officials: Benghazi attack 'unprecedented' Democrats had accused Issa of planning a partisan, election-year hearing, a similar allegation leveled against the panel for its past investigations of the botched \"Fast and Furious\" gun-running program and the failed Solyndra clean energy company that received government loan guarantees. On Tuesday, two senior State Department officials provided reporters with the most detailed explanation yet of the attack in Benghazi, saying on a conference call that there was no prior indication such an assault was imminent. The officials, who briefed reporters on condition of not being identified by name, said there was \"nothing unusual\" throughout the day of the attack. What Obama administration has said about Libya attack . Stevens held an evening meeting with a Turkish diplomat and then retired to his room in one of the compound's buildings at 9 p.m., according to the officials. The first sign of a problem came 40 minutes later, when diplomatic security agents heard loud talking outside the compound, along with gunfire and explosions. Asked whether the attack was a spontaneous assault taking advantage of a demonstration, as originally asserted by Obama administration officials, one senior official said, \"That was not our conclusion.\" The two senior officials offered riveting detail of the attack by what one of them described as \"dozens of armed men\" who marauded from building to building and later fired mortars on a U.S. annex less than a mile away. In the havoc at the four-building compound, Stevens and two of his security personnel took refuge in a fortified room that the attackers were able to penetrate, one official said. The attackers doused the building with diesel fuel and set it ablaze and the three men decided to leave the safe haven and move to a bathroom to be able to breathe, according to the official. Stevens became separated from the security personnel in the chaos and smoke, and eventually turned up at a Benghazi hospital, where he was declared dead. Romney knew ex-SEAL slain in Benghazi . CNN's Jill Dougherty, Elise Labott and Tom Cohen contributed to this report.",
         "NEW: Ex-regional security officer in Libya says people whose support he needed fought against him .\nCongressional hearing debates whether 'correct' amount of security was in place at Benghazi mission .\nSeptember 11 attack killed the U.S. ambassador to Libya and three other Americans .\nObama administration changed its description of event from a protest gone awry to a terror attack ."
        ],
        [
         "6408",
         "(CNN) -- Myanmar's Constitutional Court granted Friday 's appeal by pro-democracy leader Aung San Suu Ky to end her home arrest Another person who challenged that ruling but commented on condition for privacy confirmed Friday that it was because of Kyi, who had no more time for submissions to the constitutional court outside Myanmar's commercial capital Naypidaw. the UN human rights laureate's home detention was lifted by the court last August when protesters broke in with uninvited son John Yettaw an stormed her lakeside home. Myanmar's brutal military junta accused of Kyi not complying the terms of her house . She 's remained imprisoned and in house confinement at home for the past three years . Her party , National League For Democracy won her last elections there in ; the junta had not accepted those results, but it promised to call fresh elections this month although no date yet has been announced because Kyi is barred of voting unless it is won by a foreigner. The government will also soon clarify whether women would participate on the ballot CNN's Dan Ng contributes to this report.",
         "Myanmar's Supreme Court rejects appeal by democracy leader Aung San Suu Kyi .\nSuu Kyi had sought to overturn her house arrest .\nSuu Kyi has one final avenue for appeal to a special court .\nHer house arrest was extended in August after an uninvited American stayed at her home ."
        ],
        [
         "6799",
         "(CNN) -- Zlatan Ibrahimovic got himself the goal during Sweden's 4-2 win over Germany . But that final shot was nothing special. His audacious penalty kick from 25 yards was labeled by social networking sites , the greatest ever penalty goal </s> Who do think? Leave some views of Ibrahimovic's historic goal.",
         "Zlatan Ibrahimovic scores a 30-yard overhead kick .\nIbrahimovic scored all four goals for Sweden ."
        ],
        [
         "6912",
         "LONDON, England (CNN) — In your dressing window shop you're soon bombarded by another wall of blindingly pretty women bedazzled in shimmering dresses and perfectly coiffed \"messy hair.\" Anna Boccia Lewis traces these pretty looks back to the 1970s. How , are you ? when those little y dresses teeter about , stilettos strutting over their toned legs , something which looks almost just that , those tiny little dresses where you love so much but then ever-so-gently peel away to the bottom . But maybe you're as intrigued , you bit envious. It 's 's best to squeeze most out into all the fast fashion so shoppers can't take their eyes on them . So there is one dress that has s likely been bridging that gap , the fact that , between fashion fashion magazines and DV f 's ads . Named ienne Von Furstenberg's Wrap Dress ( or The \"Little Pink Dress,\" Furstenberg's retro style has now become essential staple of womens' wardrobes. And on Furstenberg, the wrap dress she's seen as stretching way back into the late 1970s. \"It 's a a big . \" the actress tells me , \"What the really to is that I wanted to look more like a model of how she kept up and that she kept up to of the body.\" Technically , the dress that looks resembled a kimono. \"It's a little more ( even if it's not quite quite the same ) is the zipper,\" explained von Furstenberg. So here , It has flown off the racks. But that isn't to say the dress didn't see its dark periods as well. There was a time when the trend for wrap dresses was declared over, but like any good (or bad) fashion, it experienced a revival. \"Fashion changed completely and things went away,\" said Von Furstenberg. \"Ten years ago I started again because I saw that very hip young girls were buying them in thrift shops.\" That trend continues today. While the dresses are stocked in DVF stores, they are regularly bought and sold in vintage stores and through online auction sites, such as eBay. \"My love affair with the DVF wrap dress began in the 1970s,\" says Anna Boccia Lewis, a self-confessed \"DVF addict\" from California. \"One of my first purchases was a yellow floral vintage DVF shirtdress that I found at Goodwill in South San Francisco for $4.75. \"I think what I love the most about Diane's designs is that each one has its own special personality -- just like the woman who is wearing it,\" Anna said. CNN asked other women to tell us what it is about DVF dresses that make them so special. Tell us your story -- \"Sound Off\" below. \"They make me feel not only sexy, but successful, sophisticated and timeless,\" said Carolyn Yapp, a 24-year-old DVF devotee from Jamaica. Melissa Calivis Green from Baltimore told us: \"For me, the iconic prints represent a sense of powerful femininity and the promise of endless possibilities.\" Tracey Jennings of the United Kingdom has been wearing DVF dresses for the last ten years. She said: \"Like a lot of women, I have varied in size from year to year. As a result, my wrap dresses range from size four to size 10.\" Kirsty Palmer, also from the United Kingdom, recently sold one of her DVF dresses on eBay. \"I like to change my selection,\" she said. \"Buying vintage wrap dresses makes them more affordable for me, yet I still get the benefit as if I were buying new due to their classic cuts and their durability.\" Do you own a wrap dress? If so, we want to hear from you. Why did you buy it and what does it mean to you? \"Sound off\" below or Email us a picture or go to CNN's facebook page -- facebook.com/cnnintl.",
         "Diane Von Furstenberg's wrap dress has been a fashion staple for decades .\nThe DVF wrap dress is made with jersey which flatters female shapes .\nReaders told CNN about their devotion to their wrap dresses since the 1970s .\nDo you own a wrap dress? Send an email and a photo to revealed@cnn.com ."
        ]
       ],
       "shape": {
        "columns": 2,
        "rows": 100
       }
      },
      "text/html": [
       "<div>\n",
       "<style scoped>\n",
       "    .dataframe tbody tr th:only-of-type {\n",
       "        vertical-align: middle;\n",
       "    }\n",
       "\n",
       "    .dataframe tbody tr th {\n",
       "        vertical-align: top;\n",
       "    }\n",
       "\n",
       "    .dataframe thead th {\n",
       "        text-align: right;\n",
       "    }\n",
       "</style>\n",
       "<table border=\"1\" class=\"dataframe\">\n",
       "  <thead>\n",
       "    <tr style=\"text-align: right;\">\n",
       "      <th></th>\n",
       "      <th>news</th>\n",
       "      <th>ref_summary</th>\n",
       "    </tr>\n",
       "  </thead>\n",
       "  <tbody>\n",
       "    <tr>\n",
       "      <th>2656</th>\n",
       "      <td>(CNN) Bayern German manager Van Der van Sar to...</td>\n",
       "      <td>Louis Van Gaal signs a contract extension with...</td>\n",
       "    </tr>\n",
       "    <tr>\n",
       "      <th>445</th>\n",
       "      <td>(CNN) -- The death toll from a shooting at a h...</td>\n",
       "      <td>A prosecutor says 14 people were killed and 14...</td>\n",
       "    </tr>\n",
       "    <tr>\n",
       "      <th>9505</th>\n",
       "      <td>(CNN) The A Week In America ended telling this...</td>\n",
       "      <td>Pueblos and powwows in New Mexico highlight Na...</td>\n",
       "    </tr>\n",
       "    <tr>\n",
       "      <th>332</th>\n",
       "      <td>Washington (CNN) -- Only a third of U.S. voter...</td>\n",
       "      <td>Just 34 percent of U.S. voters think most memb...</td>\n",
       "    </tr>\n",
       "    <tr>\n",
       "      <th>4168</th>\n",
       "      <td>(CNN) Se wayne Johnson , in his , second of th...</td>\n",
       "      <td>Mitchell Johnson inspires Australia to innings...</td>\n",
       "    </tr>\n",
       "    <tr>\n",
       "      <th>...</th>\n",
       "      <td>...</td>\n",
       "      <td>...</td>\n",
       "    </tr>\n",
       "    <tr>\n",
       "      <th>8994</th>\n",
       "      <td>Editor's note : Continetti , a senior writer f...</td>\n",
       "      <td>Palin's impulsive moves have yielded positive ...</td>\n",
       "    </tr>\n",
       "    <tr>\n",
       "      <th>1582</th>\n",
       "      <td>Mexico , (CNN) – The runner-up of Mexico's pre...</td>\n",
       "      <td>NEW: Mexico's electoral tribunal declares Enri...</td>\n",
       "    </tr>\n",
       "    <tr>\n",
       "      <th>444</th>\n",
       "      <td>(CNN) -- Fear is a terrible thing to waste. Ye...</td>\n",
       "      <td>Jim Sterba: Wildlife more and more encroaching...</td>\n",
       "    </tr>\n",
       "    <tr>\n",
       "      <th>3705</th>\n",
       "      <td>, by The Good man : The Foreign Correspondent ...</td>\n",
       "      <td>While driving home, Mike Mertz went into cardi...</td>\n",
       "    </tr>\n",
       "    <tr>\n",
       "      <th>641</th>\n",
       "      <td>(CNN) -- The NBA is without a Chinese-born pla...</td>\n",
       "      <td>Yi Jianlian, the last Chinese-born player in t...</td>\n",
       "    </tr>\n",
       "  </tbody>\n",
       "</table>\n",
       "<p>100 rows × 2 columns</p>\n",
       "</div>"
      ],
      "text/plain": [
       "                                                   news  \\\n",
       "2656  (CNN) Bayern German manager Van Der van Sar to...   \n",
       "445   (CNN) -- The death toll from a shooting at a h...   \n",
       "9505  (CNN) The A Week In America ended telling this...   \n",
       "332   Washington (CNN) -- Only a third of U.S. voter...   \n",
       "4168  (CNN) Se wayne Johnson , in his , second of th...   \n",
       "...                                                 ...   \n",
       "8994  Editor's note : Continetti , a senior writer f...   \n",
       "1582  Mexico , (CNN) – The runner-up of Mexico's pre...   \n",
       "444   (CNN) -- Fear is a terrible thing to waste. Ye...   \n",
       "3705  , by The Good man : The Foreign Correspondent ...   \n",
       "641   (CNN) -- The NBA is without a Chinese-born pla...   \n",
       "\n",
       "                                            ref_summary  \n",
       "2656  Louis Van Gaal signs a contract extension with...  \n",
       "445   A prosecutor says 14 people were killed and 14...  \n",
       "9505  Pueblos and powwows in New Mexico highlight Na...  \n",
       "332   Just 34 percent of U.S. voters think most memb...  \n",
       "4168  Mitchell Johnson inspires Australia to innings...  \n",
       "...                                                 ...  \n",
       "8994  Palin's impulsive moves have yielded positive ...  \n",
       "1582  NEW: Mexico's electoral tribunal declares Enri...  \n",
       "444   Jim Sterba: Wildlife more and more encroaching...  \n",
       "3705  While driving home, Mike Mertz went into cardi...  \n",
       "641   Yi Jianlian, the last Chinese-born player in t...  \n",
       "\n",
       "[100 rows x 2 columns]"
      ]
     },
     "execution_count": 9,
     "metadata": {},
     "output_type": "execute_result"
    }
   ],
   "source": [
    "df_cnn"
   ]
  },
  {
   "cell_type": "markdown",
   "id": "b858cf39",
   "metadata": {},
   "source": [
    "#### 'news' and 'summary' columns clean up"
   ]
  },
  {
   "cell_type": "code",
   "execution_count": 8,
   "id": "ac67d091",
   "metadata": {},
   "outputs": [
    {
     "data": {
      "application/vnd.microsoft.datawrangler.viewer.v0+json": {
       "columns": [
        {
         "name": "index",
         "rawType": "int64",
         "type": "integer"
        },
        {
         "name": "news",
         "rawType": "object",
         "type": "string"
        },
        {
         "name": "ref_summary",
         "rawType": "object",
         "type": "string"
        }
       ],
       "ref": "57af2985-13ca-4889-87f3-dfc5c8076a83",
       "rows": [
        [
         "2656",
         "Bayern German manager Van Der van Sar today extended a one-year contract extension to March 2019 , The Dutchman's current deal is supposed to have ran its course at the season , But the club said on Monday that van Gaal's contract deal will see them only until 2020 if he took their title this season . Bayern had another awful start the their season , they are now ninth on the table after losing once in their past six games since being two points behind by Bayern z . Munich . Head coach Karl-Heinz Rummenigge told the club's Official website , they 're appointed with our decision will stay despite Bayern's tough circumstances and because of the result which would never be been expected,\" he said \"People are not in contract for change , it is send a very positive message to Germany , about Europe , and feelings of the coach's , especially when we lose to Mainz.\" The winner of Bayern's Europa League Final vs the team from Madrid in Spain , said , \"My new opinion of Bayern are positive . But trophies , win trophies and you always want trophies at an great club like Bayer Munich.\" The 59-year-old manager got to the Champions league semifinals for the second time in May that season , Bayern was beaten 2-1 by by the Bayern Player . Van der Van Guardiola said that \"outstanding\" atmosphere between his Bayern colleagues on the team team key factors influencing the decision to stay . said \"I couldn't wish for anything better. The chemistry's right. You get to know each other properly in difficult situations. We're seeing it again right now. \"These are tough times, but the board is keeping the faith -- the faith which took us to the Champions League final in Madrid.\" Rummenigge said Bayern valued their coach highly: \"He does a superb job every day. We're recognizing that with this contract extension.\" Bayern's captain -- Dutch midfielder Mark van Bommel -- welcomed the news. He said: \"The coach signing a new deal is a very good sign. He's doing a great job.\" One of Germany's stars of the World Cup, Thomas Muller, echoed the comments of his captain. \"Van Gaal been extremely important for me so far, he's made a huge contribution to my career. That settles the matter, which is good for him, for us and for the club as a whole.\"",
         "Louis Van Gaal signs a contract extension with German champions Bayern Munich . The Dutchmans deal runs until the end of June in 2012 . Bayern won the Bundesliga last season and were beaten in the Champions League final . Van Gaal unconcerned about Bayerns patchy start to the season ."
        ],
        [
         "445",
         "The death toll from a shooting at a house party in the violence-plagued Mexican border city of Juarez has climbed to 14, state media reported Sunday. Chihuahua State Attorney General Carlos Manuel Salas told reporters that another 14 people were injured when gunmen attacked the gathering of young people at a house party Friday, the state-run Notimex news agency reported. The victims killed were between ages 14 and 30, Notimex said. Children as young as 7 and 11 were among the injured, the agency reported. Salas said authorities were investigating the backgrounds of all the victims. Mexico's National Human Rights Commission said it was sending representatives to the neighborhood, which was near another home where cartel gunmen stormed a house party in January, killing 15 people. Most of the victims in that shooting were youths who had no ties to organized crime. Investigators said the January shooting was a case of mistaken identity caused by bad intelligence. It sparked widespread outrage in the violent border city, including calls for Mexican President Felipe Calderon to resign. In a news conference Saturday, the country's deputy interior minister told reporters federal authorities will maintain the security strategy they are developing with state officials. \"We are here to address this deplorable and condemnable acts, and to ensure full support to local authorities investigating these unfortunate events,\" deputy interior minister Juan Marcos Gutierrez said, according to Notimex. CNN's Nick Valencia contributed to this report.",
         "A prosecutor says 14 people were killed and 14 others were injured . Authorities are investigating the backgrounds of the victims . Mexicos National Human Rights Commission is sending a team to the neighborhood ."
        ],
        [
         "9505",
         "The A Week In America ended telling this quintessential American what we should have doing if they weren't that s they 're fair s . We call those damn fairs, and what's fair 're fair ? . Who are what we want ? We ' fools . , we're gluttons ? . ? . We are not of us , we 're just people ? . If you need you , , we're going to you . Here's the list to to some most authentically important work that people have done is . Seaside boardwalks The Boardwalks dot the American beachside towns , including the famous Drifters' beach , or \"Under water Boardwalk\" . America ' first boardwalk , built at a tip at sea , is by result a variety of miles of board wal ades and many , shorefront beach entryways. In one of America's oldest iconic board game formerly known as Monopoly, the real name of \"America's Gold Playground,\" and later officially became \"Boardwalk Empire,\" refers in the original Prohibition-era Gold Rush ground if you don't believe it a ? - and a little , in their lumber-pathed homes - , Something similar American boardwalks has inspired America's famous Coney Island in and the City , Roller coasters, carnival and Nathan's Famous restaurants and inspired many things in Americana. There 's a new Boardwalk , filled of bodybuilders, novelty trinket shops and </s> . people . </s> of people . In Pueblos , powwows are the fuel for excitement . each day is witnessing the culture of the first Americans come alive in a spectacle of swirling, pulsing color. Every April, approximately 3,000 Native American dancers and singers from roughly 700 tribes come together in Albuquerque, New Mexico, to compete and celebrate their heritage. The teams blend traditional style with modern, innovative techniques, so the result is more than just living history, it's the evolution of a culture that most Americans think has all but died away. In the same area are many pueblo sites that provide tours of cave dwellings and indigenous architecture. Perhaps the most memorable is Taos Pueblo, 2Â½ hours northwest of Albuquerque. This village of adobe buildings has been continually occupied by Native Americans for more than a thousand years. Taos Pueblo, 120 Veterans Highway, Taos, New Mexico; open 8 a.m.-4:30 p.m.; closed for about 10 weeks in late winter and early spring; $10 for adults; 575-758-1028 . Gathering of Nations, University of New Mexico Arena, Avenida Cesar Chavez, Albuquerque, New Mexico; 505-836-2810 . 3. Wrigley Field, Chicago . Forget national pastime -- to some Americans, baseball is a national religion. Wrigley Field in Chicago, regardless of denomination, is their Vatican. Boston's Fenway Park has two years on Wrigley (the former was built in 1912), but Fenway has had more significant updates. Like a giant video display installed in 2000, and extra seats and luxury boxes that have been added time and time again. By contrast, Wrigley has remained fairly true to its roots. It's a classic jewel box design -- green seats, open roof, exposed steel, brick, stone -- with ball-swallowing ivy-covered walls. There's truly no better place to watch a game if you want a direct link to nearly a century of baseball history. If you're in Chicago during the off-season, no worries. The park provides 90-minute tours year-round. Wrigley Field, 1060 W. Addison St., Chicago; tours $24 for individuals; 773-388-8270 . 4. College football, anywhere (though Alabama ain't bad) Let's not kid ourselves. Football is the true national sport of the 21st century. While it doesn't get much more American than the Super Bowl, we'd argue that the most enjoyable, purest way to experience the unique American-branded mixture of militant strategics, refined athleticism, brute force and exploitation of young labor is at a college football game. Best to get there early enough to tailgate. Bonding with strangers, drinking and grilling beforehand is 72.4% of the experience. Pretty much any stadium will do, but a game experience doesn't get much better than at Bryant-Denny Stadium in Tuscaloosa, Alabama, home of the reigning national champion Alabama Crimson Tide. (Yes, we know, the barbecue is spicier and the cheerleaders are hotter at your team's stadium, but we had to draw the line somewhere and \"national champs\" earns you the top spot on lists like this.) Bryant-Denny Stadium, 920 Paul W. Bryant Dr., Tuscaloosa, Alabama. 5. Kentucky Derby . There's one more sporting event we have to include on the list. Sure, other countries have their horse races. But those competitions weren't founded by the grandson of William Clark of the Lewis and Clark expedition. Also, those races don't have a traditional drink made of bourbon (mint julep), nor do they encourage everyone to dress like a flamboyant Southern aristocrat. We're talking bow ties, seersucker, bold pastels and spectacular hats that put British royal wedding attendees to shame. Churchill Downs, 700 Central Ave., Louisville, Kentucky.; May 3-4, 2013; single day general admission $25-40; 502-636-4400 . 6. Burning Man . The first Woodstock Music & Art Fair in 1969 was one of the most pivotal moments in American cultural history. Five-hundred-thousand people came together to celebrate drugs, weirdness, creativity, individualism, beauty and sticking it to the Man. What's the direct descendant of Woodstock? Before you say Bonnaroo, Coachella, Lollapalooza or any other trendy music festival -- each of which is run by the Man -- let us stop you. The world's largest festival of artistic expression is Burning Man. The weeklong event held every year in the Black Rock Desert of northern Nevada is difficult to describe. As the website puts it, describing Burning Man is \"like trying to explain what a particular color looks like to someone who is blind.\" Essentially 50,000 creative spirits gather in one of the most desolate areas in the continental United States to wear bizarre clothes, make art, do drugs, experience a new form of communal living, have a hell of a lot of fun and let their freak flags fly. Burning Man; August 26-September 2, 2013; 415-863-5263 . 7. Soul food . It's difficult to pin down the most American of foods. Almost every candidate has roots in other countries, but, of course, that's what makes them American. Soul food makes the top of the list because it's delicious, unapologetically artery-clogging and it brings us face to face with our turbulent past. African-American slaves on Southern plantations were often given scraps and leftovers to eat, and had to make do with whatever vegetables they could grow nearby and with little care, as so much time was spent working. From these restrictions arose some of the finest recipes in American cuisine. There are thousands of spectacular soul food restaurants -- many of the best are in the South -- but Sylvia's in New York is maybe the most well known. Sylvia's, 328 Lenox Ave., New York; 212-996-0660 . 8. Juke joints . While we're in the region, one of America's great art forms, Blues music, grew up in the juke joints of the South. Jukes arose after emancipation, taking the form of shacks and private houses where African-Americans gathered to listen to and play music, gamble and dance. A few classic juke joints still remain, some along Highway 61, aka the Blues Highway, which stretches from New Orleans to the town of Wyoming, Minnesota, an American experience in and of itself. Po' Monkey's, opened in 1963 outside Merigold, Mississippi, is considered one of the last remaining original jukes. It's only open Thursdays, and it's not easy to get to, but the music and crowd make it worth the trip. Po' Monkey's; Po Monkey Road, Merigold, Mississippi; 662-843-2712 . 9. Outdoor Christmas light displays . Sure, other countries have Christmas lights (or fairy lights, in the UK), but no one else takes it quite as seriously as Americans. The lighting of the approximately 80-foot tall Norwood spruce at Rockefeller Center in New York is practically a national event. But the greatest displays of holiday spirit can be seen in more rural areas. Take Magical Night of Lights in Lake Lanier, Georgia, which consists of seven miles and millions of lights, or the six-mile long Oglebay Winter Festival of Lights in Wheeling, West Virginia. Magical Night of Lights, 7000 Lanier Islands Parkway, Buford, Georgia; 770-945-8787 . Winter Festival of Lights, 465 Lodge Dr., Wheeling, West Virginia; November 8, 2013-January 5, 2014; Sunday through Thursday until 10 p.m. and Friday and Saturday until 11 p.m.; 800-624-6988 . 10. Megachurches . Americans know how to make praising Jesus memorable. Just look at Gospel music and tent revivals. In modern times you needn't look much further than Gospel brunches (wash away your sins from the night before with spiritual songs and mimosas) and megachurches. Those giant boxes of worship are where thousands of Christians gather not simply to pray and praise, but in many cases to eat, shop and work out. The United States has more than 1,300 of them, and more than 50 draw a weekly attendance between 10,000 and 45,000. The mega-ist of American megachurches is Lakewood Church in Houston, led by senior pastor Joel Osteen. Every week his message is broadcast to 7 million viewers in more than 100 countries. Lakewood Church; 3700 Southwest Freeway, Houston; 713-635-4151 .",
         "Pueblos and powwows in New Mexico highlight Native American culture . Baseball, football and the Derby made the cut -- yes, we love sports . What would the country be without soul food We tried to resist including Burning Man, but failed ."
        ],
        [
         "332",
         "Only a third of U.S. voters think that most members of Congress deserve to be re-elected this year, according to a new national poll. That's the lowest number ever recorded for that question in a CNN survey. The CNN/Opinion Research Corp. poll, released Tuesday, indicates that only 34 percent feel that current federal lawmakers deserve re-election, with 63 percent saying no. According to the survey, 51 percent feel their own member of Congress should be re-elected -- also an all-time low in CNN polling -- while 44 percent say their representative doesn't deserve to be returned to office in November. Full poll results (PDF) The numbers on both questions are even lower than in 1994, when an anti-incumbent fever helped Republicans win back control of both the House and the Senate from Democrats. The trend line on those questions goes back to 1991, when they were first asked. \"This is not a good year to be an incumbent, regardless of which party you belong to,\" said CNN polling director Keating Holland. \"Voters seem equally angry at both Republicans and Democrats this year.\" Fifty-six percent of people questioned in the survey say that most Democrats in Congress do not deserve to be re-elected. An equal percentage say that most congressional Republicans don't deserve re-election. The poll suggests Americans are split when it comes to their vote this November, with 47 percent of registered voters saying they will support the Republican candidate in their district for the House of Representatives and 45 percent saying they will back the Democrat. Republicans trailed the Democrats by 6 points in November. The voters' cool view of incumbents of both parties \"may hurt the Democrats more because there are more Democratic incumbents,\" Holland said. \"It's a change from 2006, when voters concentrated their anger at GOP members of Congress.\" The generic ballot question asked respondents if they would vote for a Democrat or Republican in their congressional district, without naming any specific candidates. The Democrats currently hold a 255-178 advantage in the House, with two vacant seats that the Democrats once held. Republicans need to win 40 seats to take back control of the chamber. While President Obama is not up for re-election this November, he will be in 2012, if he decides to run for a second term. According to the poll, 44 percent of registered voters say Obama deserves re-election, with 52 percent saying the president does not deserve a second term in office. The survey also indicates that 49 percent of Americans approve of the job Obama's doing as president, with half of the public disapproving of his job in the White House. \"One problem Obama faces may be the perception that Obama is not a middle-class kind of guy,\" Holland said. \"Only 4 percent of Americans describe themselves as upper class. But a 45 percent plurality say that Obama belongs to the upper class, with 42 percent saying he is from the middle class and 12 percent describing him as working class.\" The CNN/Opinion Research Corp. poll was conducted Friday through Monday, with 1,023 adult Americans, including 954 registered voters, questioned by telephone. The survey's sampling error is plus or minus 3 percentage points both for all Americans and for registered voters. CNN deputy political director Paul Steinhauser contributed to this story .",
         "Just 34 percent of U.S. voters think most members of Congress should be re-elected, poll shows . Thats the lowest number for that question ever in a CNN poll . 51 percent say their own member of Congress deserves re-election . 44 percent of those polled say President Obama should be re-elected if he runs in 2012 ."
        ],
        [
         "4168",
         "Se wayne Johnson , in his , second of the match , the on Shunned against India and the the start of his career but after , after the , former Australian captain 's second w with in broken wrist in </s> The 31-year-old in the w day and he terrorized Sri Lanka's batsmen when he continue his dominance in the 2-0 Test win in the on . Australian left-arm paceman , who took his team his first th irteen wickets of the first innings Tests in in Africa and beat Sri Lanka with a , run straight at Sri Lanka's second icket keeper in this five-day match of and was one day torment ing Australian bowlers, who for a four-wicket stand in , Lanka's first-innings victory in the , The , saw him six consecutive ickets took by Australia 's opening batsman Kumar Sangakkara, hit on short . Sangakkara, with the short ball , was not , but three players had bow led 10,000 runs in India game on their wrist with an was caused by the bat 's first over , and hit wicketkeeper Prasanna Jayawardene with hairline action on the </s> icket in , Jayawardene and bowler Chanaka Welegedara , led Australia by six run and of his , Lanka 's 103-7 for loss in 24.2 overs of wickets took in Johnson's first st of the match , but after a , \"The idea behind this is was that bad luck hits the other side , I think we do get some injuries out of it,\" said Johnson, who passed the milestone of 200 wickets in his 49th Test. \"I think that intimidation factor definitely worked out there today. We found a bit of a weakness with them with the short ball ... They obviously didn't handle it as well as they would have liked.\" It marked a minor career resurrection for Johnson, who was Australia's main strike bowler until his form fell apart during the 2010-11 Ashes series against England. \"In the time I've had off I've been able to reflect on a lot of things. I had probably got to the stage where I listened to a lot of outside influences -- that doesn't affect me anymore. I'm just happy with how I've come back, and making the most of the opportunities I get,\" he said. \"It's not every day you get to play for your country, and I'm pretty proud of the fact I've played 49 Tests now. You've just got to look to the future and, if you get picked, go out there and make the most of it. That's what I'm doing ... and playing with a smile on my face. \"I've always been happy playing for Australia, it just got to the point where I was feeling the pressure. It happens in professional sports, you can feel the pressure and start to believe in things that are said or outside influences, and it just got to that point for me. \"I've moved past that. I'm 31, I've been around the game for a long time now and I think I've matured in that I have belief in myself and just go out there and play my game and do the best job I can.\" Despite his heroics, Johnson is not guaranteed of starting the third Test in Sydney from January 3-7. Mitchell Starc is expected to return after being rested, while debutant Jackson Bird made a strong impression as an opening bowler, taking two wickets in each innings. \"His control with the new ball is an area that I think we've been looking for,\" captain Michael Clarke said. \"The one thing I really like about Jackson is you know what you're going to get. \"He bowled into the breeze the whole game and did a fantastic job for us. I think Birdy played a huge part in Mitch's success in the first innings, and it allows a bowler like Mitch to be able to attack.\" Australia will be without key all-rounder Shane Watson, who has a calf injury, meaning Glenn Maxwell has the chance to make his Test debut after previous appearances in limited-overs internationals. Meanwhile, India leveled the Twenty20 series against Pakistan with an 11-run victory in the second match at Ahmedabad on Friday. The home side put on 192-5 after batting first, with Yuvraj Singh smashing 72 off 36 balls, sending seven deliveries over the boundary ropes. Pakistan could not follow up Tuesday's five-wicket win in Bangalore, finishing on 181-7 after 20 overs. Ashok Dinda took 3-36 from his four overs. It is the first bilateral series between the neighboring countries in five years. The three-match one-day series will start on Sunday.",
         "Mitchell Johnson inspires Australia to innings victory over Sri Lanka in Melbourne . Injury-hit tourists crash to series defeat ahead of third and final match in Sydney . Johnson named man of the match after taking six wickets and hitting 92 not out . India levels Twenty20 series against Pakistan with 11-run win in second match at Ahmedabad ."
        ],
        [
         "2364",
         "The problem is spread across Greek , rather than solve it: The connection with the ' close border with Greece in other countries , say in that , , the intelligence said , could at the crossroads of thousands of militants traveling through the Greece . Through the border with with countries such to the Greek States -- Greece's land border is between , a boundary with the and other Western of the continent , but the country's porous borders also make them difficult to reach the </s> </s> to a senior source - and according to to the Greek intelligence , says that \" There is every jihadist group inside Greece country having ties to extremist organizations -- like The Muslim State in Iraq or Syria (ISIS) or similar groups of extremists militants who are of Iran , which the Leftist government had to point to in election campaigns . -- one of the four top terrorists leaders in the , he said , Abdelhamid Abaaoud, was alleged , have terror ized thousands more people of the country he said was speaking on phone to Greek authorities trying to opening terrorists at their homes in in Greek States . He has been jailed in Charleroi where whose identity will not get disclosed , the General Prosecutor's Office has to believe believed to be responsible for the terrorist attack in Greece -- Authorities have also arrested a 33-year - Italian , accused as may have entered the Greek States before this week's coup . He who has not been named, has protested his innocence. -- Last year, two French jihadists were arrested after using Greek soil to return home. One was arrested after passing through Italy. One was Ibrahim Boudina, a 23-year-old French national born in Algiers. Greek border guards had found in his possession a USB stick with instructions for how to make homemade bombs. Europe faces 'greatest terror threat ever' They did not detain him, but tipped off French investigators, who later found bomb-making equipment and devices in his apartment near Cannes. Boudina has denied terror charges and awaits trial. What's unknown is how many jihadists are traveling individually -- in either direction -- and how many are using support networks. \"Greece is not a target, just a gateway into Europe and a stop on the fighters' return home,\" said the source close to Greek intelligence. \"The large immigrant communities is Greece, and particularly in Athens, are in a position to provide jihadists and others associated with such groups with housing and generally help them remain anonymous,\" the source said. In 2011, Greek authorities detained nearly 50,000 illegal migrants from Afghanistan and Pakistan, according to police figures. One analyst who has studied jihadist travel patterns says there are indications that militants are setting up logistical, recruitment and financial cells in Greece, in part to facilitate the travel of a growing number of would-be fighters traveling from Kosovo and Albania. ISIS has produced several propaganda videos featuring Kosovars appealing to their countrymen to join them, and the Kosovo authorities believe some 200 individuals have left to wage jihad in Iraq and Syria. But it's not just the Balkans that's providing the travelers. \"We estimate that about 2,000 people have used Greece in the last two years or so, mainly arriving by boat from Italy, as a stop to an onward journey,\" the source close to the intelligence services told CNN. \"Given the number of people who have left Europe for Syria and the Middle East we don't regard this number as very high. But there is a good chance that it is much greater than we know at this point,\" he added. Coming in the other direction, the number of migrants trying to reach Europe illegally has soared since Syria's implosion, especially by sea. Many head to Greece and Italy on rust-buckets that trawl the Turkish coast seeking out the desperate. John M. Nomikos, director of the Research Institute for European and American Studies in Athens, says many migrants have their documents taken by human traffickers and then seek political asylum when they get to Greece. Nomikos says a few of those who arrive in Greece subsequently marry Greek women and receive Greek ID cards or passports, allowing them to travel through much of the European Union. Figures from the European Union's border agency, Frontex, show that 270,000 people tried to enter Europe illegally in 2014 -- with huge increases in the numbers setting off across the central and eastern Mediterranean. Whether ISIS or other groups are already exploiting this influx to infiltrate members into Europe is one of the worrying unknowns to European officials. The Greek Interior Ministry acknowledges it has little idea of the number of people living illegally in Greece. Nomikos and others say the Greek authorities' ability to track asylum-seekers and would-be jihadists has been hard hit by six years of recession -- a time in which budgets have been cut and senior members of the intelligence communities have lost their jobs or retired early. Combined with political appointments in the security services, and a lack of terrorism specialists, Nomikos says this has led to a damaging \"expertise deficit\" at a time when threats are multiplying. It doesn't help that Greek police are preoccupied with the remnants of the far-left November 17 group that occasionally launches sabotage attacks and carries out assassinations. Nomikos also says there is inadequate coordination between the National Intelligence Service, the police and other agencies -- and that Greece badly needs help from the U.S. or European government to reform its security services. \"The country urgently needs a Department of Homeland Security in order to coordinate the intelligence-sharing among the Greek intelligence service (NIS-EYP), anti-terrorism squad intelligence unit\" as well as police, coastguard and military intelligence, Nomikos says. The Balkan states to the north of Greece have become a major source of weapons to jihadist cells elsewhere in Europe, and some analysts believe that militant groups in the Middle East may also be tapping into this illicit arms bazaar. In November, Albanian police arrested eight people in the town of Shijak and seized guns and ammunition. Prosecutors were quoted in Albanian media as saying the weapons were destined for Syria or Iraq. In the wake of the Paris attacks this month, Federica Mogherini, the European Union's foreign policy chief, promised better intelligence sharing across the EU and with affected Arab states to tackle terrorism. An EU summit on February 12 will address the issue, to be followed by a similar gathering in Washington the following week. Whatever the Syriza government's disagreements with its partners on economic policy, it will likely welcome a more coordinated approach on a danger it is unable to confront alone. Ioannis Mantzikos is a researcher and consultant on Islam in Africa and terrorism issues based in Athens. Elinda Labropoulou contributed to this report.",
         "Greece is close to Turkey, has an influx of illegal migration from Syria and is in a dire financial situation . These factor help make it an inviting hub for jihadist groups, experts say . Says one source: Greece is not a target, just a gateway into Europe"
        ],
        [
         "6097",
         "As its International games has been reinstated , the has and can begin to together under their country's flag following after suspension of less that one month Their reinstatement coincided with the largest number from nations from India boycot for the Olympic Games. \"It 's The first time in our history when a suspension of the NOC (National Olympic Committee ) was lifted for an International Games,\" The organisation announced via a statement Tuesday The decision means now all athletes can either compete under India's national colours or dance under its Olympic flag at their closing ceremonies at the Winter games , Russia beginning this February, the organisers said after the closing ceremony ceremony , India's athletes and hockey teams athletes marched behind its Olympic flag India was out of the Winter Games on November , when The International Olympic Committee fired Lalit Bhanot, had for six months behind bars over a ties with a terrorist . The case became deadlocked for months, and as Indian athletes refused to agree to to IOC's ban on them , the organisers said , the they had ended their suspension following the sports association's snap election for selection and a new chairman Tuesday morning . IOC committee which conducted the elections reported that India agreed to a so that \"no one accused or charge-framed will be in a position at this organization.\" Narayna Ramachandran, a coach for Indian National Squash League , voted in as a new board of the sports association \"To symbolically bring an end to the suspension and in recognition of the three Indian athletes competing in Sochi, the Indian flag will be raised in the Olympic Village,\" the IOC said Tuesday. India responded positively to the announcement. \"I am happy that suspension is over and now Indian teams and players will take part in the International events under the national flag,\" said Vijay Kumar Malhotra, the former acting president of Indian Olympic Association. CNN's Harmeet Shah Singh and Khushbu Shah contributed to this report.",
         "Its the first time a ban of a national committee has been lifted during an Olympics . The IOC suspended India in 2012 over the election of a tainted official to a top post . The Indian Olympic Association has now held new elections that the IOC has approved . Indian athletes will now be able to walk behind the national flag at Sochis closing ceremony ."
        ],
        [
         "7",
         "While Labor Day is the unofficial end of summer, it's also the unofficial start to the campaign season. That means politicking will be on the rise, especially as control of the Senate is at stake as well as control of 36 state houses. So, if you turn on your TV, expect to see more -- and nastier -- political advertisements. In fact, Elizabeth Wilner, senior vice president of Kantar Ad Intelligence, says as much as $3.4 billion is going to be spent on advertising this midterm season. The race with the most at stake is the one for U.S. Senate in Kentucky. This is not just one of the only Senate races Republicans are at risk of losing, but also the race where the top Senate Republican is at risk of losing his job. The Republican leader of the Senate, Mitch McConnell, is in a fight for his political life against Alison Lundergan Grimes, a relatively inexperienced Democratic politician who was just 8 years old when McConnell started his first term in the Senate in 1985. McConnell, a shrewd politician, prolific fundraiser and expert campaigner, has had numerous missteps, making this race even more interesting. His troubles include a flubbed campaign ad, a campaign manager who was a little too honest, the recent resignation of that manager and a caught-on-tape moment. Grimes, meanwhile, has also stumbled when talking about foreign policy, and questions have arisen about a possible sweetheart deal involving her campaign bus. This is one of the most interesting and critical races in the country. How Mitch McConnell crushed the tea party . Here are four other races that are worth watching: . Wisconsin governor: The Wisconsin governor's race has many national repercussions, as Republican Gov. Scott Walker is locked in a tight re-election battle against former Trek bicycle executive Mary Burke. Economic policy is a central component of this campaign. Walker has gained prominence in conservative politics for governing as a fiscal conservative and making deep cuts to spending by cutting public union workers' pensions. He also drastically limited workers' bargaining rights. Meanwhile, Democrats, backed by labor unions, are again fighting to defeat Walker -- they forced a recall two years ago that Walker won -- to move forward on more Democratic economic policies, including lifting the minimum wage. Walker, who is also being investigated for alleged illegal campaign coordination with outside groups, is considered a potential 2016 Republican presidential candidate, but if he loses his gubernatorial race, his path to the presidency will be very, very narrow. Democrats and Republicans understand the stakes, and President Barack Obama traveled to Wisconsin on Labor Day to speak at a union event in a trip packed with political symbolism. Walker, Burke tied up in new poll . U.S. Senate, Louisiana: Democratic Sen. Mary Landrieu always has tough races, and her fourth bid for the Senate seat is no exception. Republican Rep. Bill Cassidy is the person who is giving Landrieu another difficult run. Cassidy is tying Landrieu to Obama in this conservative-leaning state while painting her as a corrupt Washington insider. Landrieu, meanwhile, is attempting to paint her Senate tenure as a picture of independence. Most interestingly, a political roller coaster is possible. If Landrieu or Cassidy doesn't receive more than 50% of the vote on Election Day in November, a winner won't be named until that state's December 6 election. There's a chance the Louisiana race, and the balance of the Senate, might be dragged out until December. Sen. Mary Landrieu to reimburse Senate for charter flight . National Democrats go after Cassidy on Medicare . U.S. Senate, Iowa: When popular Sen. Tom Harkin decided to retire, Democrats had a small panic attack as this solidly Democratic seat was now in play. But when Rep. Bruce Braley jumped in, Democrats' confidence was restored. But then that confidence has been shaken as Braley has run a gaffe-prone campaign that involves digs at farmers and meandering chickens. His missteps -- combined with the surprising strength of Republican candidate Joni Ernst, who has run a great campaign that began with a breakout performance in the crowded Republican primary -- make this a possible and unexpected pickup for Republicans. Climate group attacks Ernst on tax pledge, not climate . Florida's 2nd Congressional District: There is little to no chance that Republicans will lose control of the House of Representatives, and some race analyzers say the GOP will even pick up seats. But this race could be a bright spot for Democrats. Even in what is expected to be a difficult year for Democrats, Democratic candidate Gwen Graham could pull out a victory in this Republican-leaning district of Tallahassee and the central part of the Florida Panhandle. Graham has some advantages. She has no problem getting money -- raising more than Southerland -- and she has a Florida-famous last name. Her father is longtime Sen. Bob Graham, giving her access to his connections and deep knowledge of running successful campaigns. Key races in 2014 . Complete midterm coverage .",
         "Labor Day is the unofficial end of summer and the unofficial start to campaign season . As much as $3.4 billion could be spent on advertising for this midterm election . Here are five must-follow races for these midterms ."
        ],
        [
         "7752",
         "according To Liu Yeqing li , the woman woman mother , and \" to and me waiting on the car of two than three months , now my body is her in her arms .\" She forced her son into her womb then whisked him away and According to the child , they hold of and prevented him to returning . </s> : Becoming pregnant as a child - forced childbirth in China's one-child rule \"After telling that it was a girl and they immediately scooped it from me,\" Li told a Chinese television program . \"My husband had always promised us marry and be a pregnant one , After having a baby daughter and a baby boy , she became sick and very despondent. \" the crying after the baby was down and cry . She could cry.\" Since then dozens of the men who have abortions or unwanted pregnancies were reported An investigation of the case is . </s> The practice of sterilizations in China , turned into for controversy following the of of rape and rape victim in Guangcheng. Shen , a self-taught physician who has worked at an NGO , of working from a hospital which it had found out she was suspected of having intercourse with the pregnant woman . She has heard about forced sterilizations here and in the country have made women feel responsible , and a class-action lawsuits has against forced and of rape have victimized thousands more people in the , including Zhang Jia, who , has taken refuge at the U.S. Embassy in Beijing. \"Chen may be safe for the moment, but the women for whom he risked everything are not,\" said Reggie Littlejohn, president of Women's Rights Without Frontiers, a California-based organization that describes itself as a \"broad-based, international coalition that opposes forced abortion and sexual slavery in China.\" \"Forced abortion is not a choice,\" Littlejohn said. \"It is official government rape.\" On a January 2011 visit to the United States, Chinese President Hu Jintao reportedly denied that China was forcing women to submit to abortions. Rep. Ileana Ros-Lehtinen, R-Florida, who gave Hu a list of human rights concerns, said that Hu insisted a forced-abortion policy did not exist, according to media reports. China's population is the largest on earth, with more than 1.34 billion people. Since its implementation in 1979, the one-child policy has prevented more than 400 million births in China, according to China's National Population and Family Planning Commission. About 13 million abortions are performed nationwide each year, the commission has said -- about 35,000 a day. It is unknown how many of those are coerced. But the one-child policy has been blamed for abuses. In some cases, advocates say, fetuses identified as female are aborted, or midwives strangle a female infant with the umbilical cord during delivery, identifying the baby as \"stillborn,\" according to All Girls Allowed, a nonprofit group that aims to end female \"gendercide,\" educate abandoned girls, rescue trafficked children and defend women's reproductive rights. Other females are abandoned, left to die or raised as orphans. Chinese traditionally prefer boys over girls because they are seen as better able to provide for the family and carry on the family bloodline. As a result, the practice of aborting female fetuses or abandoning infant girls continues, particularly in rural areas. In November, according to state-run news agency Xinhua, Premier Wen Jiabao, in a speech to the National Working Conference on Women and Children, \"urged banning illegal fetus gender identification and illegal abortion.\" \"The social status of the female population indicates the level of social progress (of a nation), while children are the future and hope of a nationality and a nation,\" Wen said. Last summer, Xinhua reported that \"millions of Chinese men of marrying age may be living as frustrated bachelors by 2020\" because of the gender imbalance. In 2010, China's sex ratio at birth was 118 boys for every 100 girls, the news agency said. China kicked off a national campaign \"to significantly curb non-medical sex determinations and sex-selective abortions to balance the gender ratio,\" Xinhua said. Also during the campaign, \"efforts will be made to raise awareness of gender equality, to severely punish those involved in cases of non-medical sex determinations and sex-selective abortions, and to strengthen monitoring.\" Liu Qian, vice minister of the Ministry of Health, said that doctors violating the ban would be stripped of their licenses or penalized, and involved medical institutions would also be punished, according to Xinhua. The one-child policy could contribute to China's high rate of female suicide, according to All Girls Allowed. China is the only country in the world where the female suicide rate is higher than that of men -- some 500 women a day, the group said, citing statistics from the World Health Organization and the U.S. State Department. In its 2009 Human Rights Report, the State Department noted that \"many observers believed that violence against women and girls, discrimination in education and employment, the traditional preference for male children, birth-limitation policies, and other societal factors contributed to the high female suicide rate. Women in rural areas, where the suicide rate for women was three to four times higher than for men, were especially vulnerable.\" Sometimes the consequences are even more severe. In October 2011, a woman who was six months pregnant died during a forced abortion in eastern China, according to Women's Rights Without Frontiers. Last month, a woman in the same region was forced to undergo an abortion while nine months pregnant, the organization reported. The baby was born alive, but then was drowned in a bucket, according to the organization. A photo of the infant's body floating in the bucket was circulated on Weibo, the Chinese version of Twitter, sparking widespread outrage. Chinese officials are prohibited under law from \"infringing on the rights and interests of citizens when promoting compliance with population planning policies,\" according to the Congressional-Executive Commission on China, created by Congress to monitor human rights and the rule of law in China. However, the commission in its most recent annual report noted \"reports of official campaigns, as well as numerous individual cases in which officials used violent methods to coerce citizens to undergo sterilizations or abortions or pay heavy fines for having 'out-of-plan' children,\" meaning a family's second child. In one example from October 2010, the commission said, a woman in southeastern China who was eight months pregnant with her second child was kidnapped and detained for 40 hours. She was forcibly injected with a substance that caused the fetus to abort. Her husband reportedly was not permitted to see her during this time, the commission said. \"Nothing in human history compares to the magnitude of China's 33-year assault on women and children,\" said Rep. Chris Smith, R-New Jersey and chairman of the commission, during the September hearing at which Ji Yeqing testified. \"Today in China, rather than being given maternal care, pregnant women without birth-allowed permits are hunted down and forcibly aborted. ... For over three decades, brothers and sisters have been illegal; a mother has absolutely no right to protect her unborn baby from state-sponsored violence.\" \"Out of plan\" children whose parents do not pay fines may go without household registration, or hukou, which presents obstacles to social benefits including subsidized health care and public education, All Girls Allowed said, citing the commission's 2010 report. A woman's family members, including her husband, parents, in-laws or siblings, may also be targeted for violations of the policy, according to Women's Rights Without Borders, which published a 2005 report compiled from Chen's notes into cases he was investigating before his arrest. The report alleges arrest, torture, beatings and fines of family members for the violations of relatives. It also documents a case where a woman suffered health problems after being forced to undergo a tubal ligation despite her high blood pressure. Ji told lawmakers her first forced abortion was in 2003, after officials said she and her husband would be fined $31,000 for their second child and fired from their jobs. Her second came in 2006, despite the fact she and her husband at that time were willing to pay the fine and lose their jobs. She continues to suffer consequences from the abortions. Her husband divorced her, she said, because she could not give him a son (the couple already had a daughter). After she remarried and moved to the United States in 2010, she said, she visited a clinic to have her IUD removed and undergo an exam. \"The doctor told me that I had cervical erosion, likely due to the poor medical conditions of my forced abortions,\" she said. Liu Ping told a similar story to Congress last year. She said after giving birth to her son, she was required to undergo five abortions between 1983 and 1990. During the last procedure, an IUD was inserted. \"When I learned of the procedure, I protested that I had a kidney disease and could not keep the IUD, but they completely ignored me,\" she said. \"The doctor just gave the bill to my husband and told him to pay.\" Her husband was later arrested, she said, and she was given a \"serious administrative warning\" at her job and fined six months' pay. Liu had to report to the factory clinic each month for an exam to make sure she had not removed the IUD on her own or become pregnant again, she said. In 1997, she missed a monthly pregnancy check because she was caring for her terminally ill mother, she testified. \"Agents from the Family Planning Commission waited at my home to drag me to the exam,\" she said. \"When they pushed me to the ground, I fell and hurt my neck vertebrae. My spirit completely collapsed after this one. I attempted suicide, but was stopped by my family from jumping.\" Liu was able to move to the United States and she and her husband reconciled after a divorce. \"I feel happiness and joyful,\" she told lawmakers. \"But I know in my homeland, China, there are millions of women who are suffering as I did. Each day thousands of young lives are being destroyed. I beg everyone to save them.\" CNN's Jaime FlorCruz contributed to this report.",
         "Chinas one-child policy results in forced abortions and sterilizations, activists say . Women tell of emotional and physical consequences from the procedures . Activist Chen Guangcheng works to advocate for victims of such practices ."
        ],
        [
         "4453",
         "As Democrats miss another critical opportunity to confirm judicial nominees after they clears out of the Senate, Trump and nominee announcement Thursday for a whopping seven federal appellate courts explains why it was necessary to force the change in Senate rules, despite protests by conservatives \"Yes,\" House Democratic Leader Chuck Reid said Thursday when asked if anyone thought about his decision to invoke his so-called \"nuclear option \" clause , the order that speed confirmation of Court Justice Anthony Kavanaugh . 1 MORE explained why he At the minute it was \"breakdown of the relationship between our executive and legislative branch.\" \"If you really looked back , they may 've already had the changes made by both executive branches ,\" which has been reported by Republicans and significant Democratic votes,\" Sen. Richard Durbin said. \"Republicans were given the keep of those people for getting approval votes .\" And they have no choice.\" It was one day after that weekend session, with a vote Republican senators had approved the total number of 9 , 7 least , people nominated for a President. But the the changes, that took hold July 30 saw their tally in November fall less than 1 %. Those changed in February increased the threshold for votes that can clear the chamber - 52 to 51, and in the Senate , presidents who currently face a single and two votes to nominate judges , fill positions , when the Senate adjourns, or on the same day or last Monday , and created an additional 12 district court positions. Democrats this week also cleared a new surgeon general, a top immigration official, and were ready to approve Tuesday the No. 2 at the State Department. Each of those people faced serious GOP opposition and might not have been cleared if not for the rules change. \"The train is running over everyone. That's the Reid train. Last trip around the track,\" complained Sen. John McCain, R-Arizona about the last minute wave of judicial and executive branch nominations Senate Democratic Leader Reid is jamming through. \"It's a result of the nuclear option which deprived us of our ability to advise and consent and it's shameful. McCain and other Republicans also blamed Sen. Ted Cruz, R-Texas, and a small group of other conservatives who forced a weekend session that Reid used to clear procedural hurdles on a number of nominees. \"It was also caused in part by what happened last weekend when several nominees who are controversial are now going to receive Senate votes and are probably going to be confirmed who otherwise probably would not have been,\" said Sen. Susan Collins, R-Maine.",
         "Democrats say they have no regrets over changing the Senate rules to approve more judges . Republicans, who will take control of the Senate in January, are upset with the maneuver ."
        ]
       ],
       "shape": {
        "columns": 2,
        "rows": 10
       }
      },
      "text/html": [
       "<div>\n",
       "<style scoped>\n",
       "    .dataframe tbody tr th:only-of-type {\n",
       "        vertical-align: middle;\n",
       "    }\n",
       "\n",
       "    .dataframe tbody tr th {\n",
       "        vertical-align: top;\n",
       "    }\n",
       "\n",
       "    .dataframe thead th {\n",
       "        text-align: right;\n",
       "    }\n",
       "</style>\n",
       "<table border=\"1\" class=\"dataframe\">\n",
       "  <thead>\n",
       "    <tr style=\"text-align: right;\">\n",
       "      <th></th>\n",
       "      <th>news</th>\n",
       "      <th>ref_summary</th>\n",
       "    </tr>\n",
       "  </thead>\n",
       "  <tbody>\n",
       "    <tr>\n",
       "      <th>2656</th>\n",
       "      <td>Bayern German manager Van Der van Sar today ex...</td>\n",
       "      <td>Louis Van Gaal signs a contract extension with...</td>\n",
       "    </tr>\n",
       "    <tr>\n",
       "      <th>445</th>\n",
       "      <td>The death toll from a shooting at a house part...</td>\n",
       "      <td>A prosecutor says 14 people were killed and 14...</td>\n",
       "    </tr>\n",
       "    <tr>\n",
       "      <th>9505</th>\n",
       "      <td>The A Week In America ended telling this quint...</td>\n",
       "      <td>Pueblos and powwows in New Mexico highlight Na...</td>\n",
       "    </tr>\n",
       "    <tr>\n",
       "      <th>332</th>\n",
       "      <td>Only a third of U.S. voters think that most me...</td>\n",
       "      <td>Just 34 percent of U.S. voters think most memb...</td>\n",
       "    </tr>\n",
       "    <tr>\n",
       "      <th>4168</th>\n",
       "      <td>Se wayne Johnson , in his , second of the matc...</td>\n",
       "      <td>Mitchell Johnson inspires Australia to innings...</td>\n",
       "    </tr>\n",
       "    <tr>\n",
       "      <th>2364</th>\n",
       "      <td>The problem is spread across Greek , rather th...</td>\n",
       "      <td>Greece is close to Turkey, has an influx of il...</td>\n",
       "    </tr>\n",
       "    <tr>\n",
       "      <th>6097</th>\n",
       "      <td>As its International games has been reinstated...</td>\n",
       "      <td>Its the first time a ban of a national committ...</td>\n",
       "    </tr>\n",
       "    <tr>\n",
       "      <th>7</th>\n",
       "      <td>While Labor Day is the unofficial end of summe...</td>\n",
       "      <td>Labor Day is the unofficial end of summer and ...</td>\n",
       "    </tr>\n",
       "    <tr>\n",
       "      <th>7752</th>\n",
       "      <td>according To Liu Yeqing li , the woman woman m...</td>\n",
       "      <td>Chinas one-child policy results in forced abor...</td>\n",
       "    </tr>\n",
       "    <tr>\n",
       "      <th>4453</th>\n",
       "      <td>As Democrats miss another critical opportunity...</td>\n",
       "      <td>Democrats say they have no regrets over changi...</td>\n",
       "    </tr>\n",
       "  </tbody>\n",
       "</table>\n",
       "</div>"
      ],
      "text/plain": [
       "                                                   news  \\\n",
       "2656  Bayern German manager Van Der van Sar today ex...   \n",
       "445   The death toll from a shooting at a house part...   \n",
       "9505  The A Week In America ended telling this quint...   \n",
       "332   Only a third of U.S. voters think that most me...   \n",
       "4168  Se wayne Johnson , in his , second of the matc...   \n",
       "2364  The problem is spread across Greek , rather th...   \n",
       "6097  As its International games has been reinstated...   \n",
       "7     While Labor Day is the unofficial end of summe...   \n",
       "7752  according To Liu Yeqing li , the woman woman m...   \n",
       "4453  As Democrats miss another critical opportunity...   \n",
       "\n",
       "                                            ref_summary  \n",
       "2656  Louis Van Gaal signs a contract extension with...  \n",
       "445   A prosecutor says 14 people were killed and 14...  \n",
       "9505  Pueblos and powwows in New Mexico highlight Na...  \n",
       "332   Just 34 percent of U.S. voters think most memb...  \n",
       "4168  Mitchell Johnson inspires Australia to innings...  \n",
       "2364  Greece is close to Turkey, has an influx of il...  \n",
       "6097  Its the first time a ban of a national committ...  \n",
       "7     Labor Day is the unofficial end of summer and ...  \n",
       "7752  Chinas one-child policy results in forced abor...  \n",
       "4453  Democrats say they have no regrets over changi...  "
      ]
     },
     "execution_count": 8,
     "metadata": {},
     "output_type": "execute_result"
    }
   ],
   "source": [
    "df_cnn_cln = clean_fulltext_column(df_cnn, column='news')\n",
    "df_cnn_cln = clean_ref_summary_column(df_cnn, column='ref_summary')\n",
    "df_cnn_cln"
   ]
  },
  {
   "cell_type": "markdown",
   "id": "6e7b7293",
   "metadata": {},
   "source": [
    "## Summary extraction"
   ]
  },
  {
   "cell_type": "markdown",
   "id": "618ee05b",
   "metadata": {},
   "source": [
    "A grid search approach is performed to tune hyperparameters, by taking into account the same values which have been used in `model_building.py`.<br>\n",
    "To ensure the tuning process remains computationally manageable, a small random batch of the data (5%) was extracted.<br>\n",
    "The procedure returns a pandas.DataFrame containing, for each iteration of hyperparameter values, the summary column named as the specific values-combination. The values of the column are the related summaries built with that combination."
   ]
  },
  {
   "cell_type": "code",
   "execution_count": null,
   "id": "d2c35d49",
   "metadata": {},
   "outputs": [],
   "source": [
    "tqdm.pandas()\n",
    "\n",
    "# Grid search using custom-defined parameter values\n",
    "num_sent = [2, 5] \n",
    "num_topic = [2, 4] \n",
    "bonus_weights = [0.0, 0.6]\n",
    "penalty_weights = [0.0, 0.6]\n",
    "lamb_list = [0.4, 0.8]\n",
    "pgs = [None, 10]\n",
    "models = [None, model]\n",
    "use_mmr = [True, False]\n",
    "\n",
    "# LDA\n",
    "for num in num_sent:\n",
    "    for n_t in num_topic:\n",
    "        for b_w in bonus_weights:\n",
    "            for p_w in penalty_weights:\n",
    "                lda_func = partial(build_lda_summary, nlp, num_s=num, nt=n_t, stop_words=all_stopwords, bonus_weight=b_w, penalty_weight=p_w)\n",
    "                df_cnn_cln[f'lda_ns{num}_nt{n_t}_bw{b_w}_pw{p_w}'] = df_cnn_cln.progress_apply(lda_func, axis=1)\n",
    "\n",
    "                # Pagerank-MMR\n",
    "                for lmbd in lamb_list:\n",
    "                    for pg in pgs:\n",
    "                        for mod in models:\n",
    "                            for um in use_mmr:\n",
    "                                pager_func = partial(build_pager_summary, nlp, pg=pg, num_s=num, lmbd_p=lmbd, stop_words=all_stopwords, bonus_weight=b_w, penalty_weight=p_w, model=mod, use_mmr=um)\n",
    "                                df_cnn_cln[f'pr_ns{num}_l{lmbd}_bw{b_w}_pw{p_w}_pg{pg}_um{um}_mod{mod}'] = df_cnn_cln.progress_apply(pager_func, axis=1)"
   ]
  },
  {
   "cell_type": "markdown",
   "id": "cb877094",
   "metadata": {},
   "source": [
    "## ROUGE computing"
   ]
  },
  {
   "cell_type": "markdown",
   "id": "240cd56e",
   "metadata": {},
   "source": [
    "Once the dataframe containing the summary columns is arrenged, ROUGE evaluation is performed column-wise: this means that the ROUGE scores are computed for each summary in a given column and then averaged to obtain an overall score for that summarization method.<br>\n",
    "The evaluation returns three distinct ROUGE metrics:\n",
    "\n",
    "* **rouge_1**: measures the overlap between the generated and reference summaries based on unigrams.<br>\n",
    "* **rouge_2**: evaluates the overlap at the level of bigrams.<br>\n",
    "* **rouge_L**: the metric is based on the Longest Common Subsequence."
   ]
  },
  {
   "cell_type": "code",
   "execution_count": null,
   "id": "eb9f326c",
   "metadata": {},
   "outputs": [
    {
     "data": {
      "application/vnd.microsoft.datawrangler.viewer.v0+json": {
       "columns": [
        {
         "name": "index",
         "rawType": "int64",
         "type": "integer"
        },
        {
         "name": "model",
         "rawType": "object",
         "type": "string"
        },
        {
         "name": "rouge1_f",
         "rawType": "float64",
         "type": "float"
        },
        {
         "name": "rouge2_f",
         "rawType": "float64",
         "type": "float"
        },
        {
         "name": "rougeL_f",
         "rawType": "float64",
         "type": "float"
        }
       ],
       "ref": "a99aacd3-bb94-4ecc-9853-866589a508a8",
       "rows": [
        [
         "9",
         "pr_ns2_l0.8_bw0.0_pw0.0_pgNone_umTrue_modNone",
         "0.323",
         "0.059",
         "0.19"
        ],
        [
         "13",
         "pr_ns2_l0.8_bw0.0_pw0.0_pg10_umTrue_modNone",
         "0.3",
         "0.068",
         "0.186"
        ],
        [
         "43",
         "pr_ns2_l0.8_bw0.6_pw0.0_pgNone_umTrue_modNone",
         "0.297",
         "0.059",
         "0.185"
        ],
        [
         "47",
         "pr_ns2_l0.8_bw0.6_pw0.0_pg10_umTrue_modNone",
         "0.292",
         "0.067",
         "0.183"
        ],
        [
         "73",
         "pr_ns5_l0.4_bw0.0_pw0.0_pgNone_umTrue_modNone",
         "0.29",
         "0.061",
         "0.172"
        ],
        [
         "64",
         "pr_ns2_l0.8_bw0.6_pw0.6_pg10_umTrue_modNone",
         "0.289",
         "0.057",
         "0.176"
        ],
        [
         "30",
         "pr_ns2_l0.8_bw0.0_pw0.6_pg10_umTrue_modNone",
         "0.289",
         "0.072",
         "0.182"
        ],
        [
         "1",
         "pr_ns2_l0.4_bw0.0_pw0.0_pgNone_umTrue_modNone",
         "0.287",
         "0.051",
         "0.176"
        ],
        [
         "83",
         "pr_ns5_l0.8_bw0.0_pw0.0_pgNone_umTrue_modSentenceTransformer(\n  (0): Transformer({'max_seq_length': 256, 'do_lower_case': False}) with Transformer model: BertModel \n  (1): Pooling({'word_embedding_dimension': 384, 'pooling_mode_cls_token': False, 'pooling_mode_mean_tokens': True, 'pooling_mode_max_tokens': False, 'pooling_mode_mean_sqrt_len_tokens': False, 'pooling_mode_weightedmean_tokens': False, 'pooling_mode_lasttoken': False, 'include_prompt': True})\n  (2): Normalize()\n)",
         "0.283",
         "0.078",
         "0.171"
        ],
        [
         "58",
         "pr_ns2_l0.4_bw0.6_pw0.6_pg10_umTrue_modSentenceTransformer(\n  (0): Transformer({'max_seq_length': 256, 'do_lower_case': False}) with Transformer model: BertModel \n  (1): Pooling({'word_embedding_dimension': 384, 'pooling_mode_cls_token': False, 'pooling_mode_mean_tokens': True, 'pooling_mode_max_tokens': False, 'pooling_mode_mean_sqrt_len_tokens': False, 'pooling_mode_weightedmean_tokens': False, 'pooling_mode_lasttoken': False, 'include_prompt': True})\n  (2): Normalize()\n)",
         "0.281",
         "0.059",
         "0.171"
        ],
        [
         "24",
         "pr_ns2_l0.4_bw0.0_pw0.6_pg10_umTrue_modSentenceTransformer(\n  (0): Transformer({'max_seq_length': 256, 'do_lower_case': False}) with Transformer model: BertModel \n  (1): Pooling({'word_embedding_dimension': 384, 'pooling_mode_cls_token': False, 'pooling_mode_mean_tokens': True, 'pooling_mode_max_tokens': False, 'pooling_mode_mean_sqrt_len_tokens': False, 'pooling_mode_weightedmean_tokens': False, 'pooling_mode_lasttoken': False, 'include_prompt': True})\n  (2): Normalize()\n)",
         "0.281",
         "0.068",
         "0.174"
        ],
        [
         "66",
         "pr_ns2_l0.8_bw0.6_pw0.6_pg10_umTrue_modSentenceTransformer(\n  (0): Transformer({'max_seq_length': 256, 'do_lower_case': False}) with Transformer model: BertModel \n  (1): Pooling({'word_embedding_dimension': 384, 'pooling_mode_cls_token': False, 'pooling_mode_mean_tokens': True, 'pooling_mode_max_tokens': False, 'pooling_mode_mean_sqrt_len_tokens': False, 'pooling_mode_weightedmean_tokens': False, 'pooling_mode_lasttoken': False, 'include_prompt': True})\n  (2): Normalize()\n)",
         "0.28",
         "0.061",
         "0.178"
        ],
        [
         "5",
         "pr_ns2_l0.4_bw0.0_pw0.0_pg10_umTrue_modNone",
         "0.278",
         "0.049",
         "0.17"
        ],
        [
         "35",
         "pr_ns2_l0.4_bw0.6_pw0.0_pgNone_umTrue_modNone",
         "0.277",
         "0.053",
         "0.176"
        ],
        [
         "87",
         "pr_ns5_l0.8_bw0.0_pw0.0_pg10_umTrue_modSentenceTransformer(\n  (0): Transformer({'max_seq_length': 256, 'do_lower_case': False}) with Transformer model: BertModel \n  (1): Pooling({'word_embedding_dimension': 384, 'pooling_mode_cls_token': False, 'pooling_mode_mean_tokens': True, 'pooling_mode_max_tokens': False, 'pooling_mode_mean_sqrt_len_tokens': False, 'pooling_mode_weightedmean_tokens': False, 'pooling_mode_lasttoken': False, 'include_prompt': True})\n  (2): Normalize()\n)",
         "0.272",
         "0.081",
         "0.168"
        ],
        [
         "113",
         "pr_ns5_l0.4_bw0.6_pw0.0_pg10_umTrue_modSentenceTransformer(\n  (0): Transformer({'max_seq_length': 256, 'do_lower_case': False}) with Transformer model: BertModel \n  (1): Pooling({'word_embedding_dimension': 384, 'pooling_mode_cls_token': False, 'pooling_mode_mean_tokens': True, 'pooling_mode_max_tokens': False, 'pooling_mode_mean_sqrt_len_tokens': False, 'pooling_mode_weightedmean_tokens': False, 'pooling_mode_lasttoken': False, 'include_prompt': True})\n  (2): Normalize()\n)",
         "0.271",
         "0.063",
         "0.152"
        ],
        [
         "22",
         "pr_ns2_l0.4_bw0.0_pw0.6_pg10_umTrue_modNone",
         "0.271",
         "0.045",
         "0.171"
        ],
        [
         "56",
         "pr_ns2_l0.4_bw0.6_pw0.6_pg10_umTrue_modNone",
         "0.269",
         "0.048",
         "0.17"
        ],
        [
         "60",
         "pr_ns2_l0.8_bw0.6_pw0.6_pgNone_umTrue_modNone",
         "0.269",
         "0.055",
         "0.164"
        ],
        [
         "28",
         "pr_ns2_l0.8_bw0.0_pw0.6_pgNone_umTrue_modSentenceTransformer(\n  (0): Transformer({'max_seq_length': 256, 'do_lower_case': False}) with Transformer model: BertModel \n  (1): Pooling({'word_embedding_dimension': 384, 'pooling_mode_cls_token': False, 'pooling_mode_mean_tokens': True, 'pooling_mode_max_tokens': False, 'pooling_mode_mean_sqrt_len_tokens': False, 'pooling_mode_weightedmean_tokens': False, 'pooling_mode_lasttoken': False, 'include_prompt': True})\n  (2): Normalize()\n)",
         "0.269",
         "0.079",
         "0.176"
        ],
        [
         "70",
         "lda_ns2_nt4_bw0.6_pw0.0",
         "0.268",
         "0.049",
         "0.155"
        ],
        [
         "132",
         "pr_ns5_l0.8_bw0.6_pw0.6_pgNone_umTrue_modNone",
         "0.268",
         "0.081",
         "0.161"
        ],
        [
         "90",
         "pr_ns5_l0.4_bw0.0_pw0.6_pgNone_umTrue_modNone",
         "0.268",
         "0.056",
         "0.163"
        ],
        [
         "18",
         "pr_ns2_l0.4_bw0.0_pw0.6_pgNone_umTrue_modNone",
         "0.267",
         "0.046",
         "0.165"
        ],
        [
         "71",
         "lda_ns2_nt4_bw0.6_pw0.6",
         "0.266",
         "0.048",
         "0.153"
        ],
        [
         "69",
         "lda_ns2_nt4_bw0.0_pw0.6",
         "0.266",
         "0.063",
         "0.158"
        ],
        [
         "124",
         "pr_ns5_l0.4_bw0.6_pw0.6_pgNone_umTrue_modNone",
         "0.266",
         "0.065",
         "0.156"
        ],
        [
         "62",
         "pr_ns2_l0.8_bw0.6_pw0.6_pgNone_umTrue_modSentenceTransformer(\n  (0): Transformer({'max_seq_length': 256, 'do_lower_case': False}) with Transformer model: BertModel \n  (1): Pooling({'word_embedding_dimension': 384, 'pooling_mode_cls_token': False, 'pooling_mode_mean_tokens': True, 'pooling_mode_max_tokens': False, 'pooling_mode_mean_sqrt_len_tokens': False, 'pooling_mode_weightedmean_tokens': False, 'pooling_mode_lasttoken': False, 'include_prompt': True})\n  (2): Normalize()\n)",
         "0.265",
         "0.076",
         "0.175"
        ],
        [
         "39",
         "pr_ns2_l0.4_bw0.6_pw0.0_pg10_umTrue_modNone",
         "0.265",
         "0.043",
         "0.157"
        ],
        [
         "104",
         "pr_ns5_l0.8_bw0.0_pw0.6_pg10_umTrue_modSentenceTransformer(\n  (0): Transformer({'max_seq_length': 256, 'do_lower_case': False}) with Transformer model: BertModel \n  (1): Pooling({'word_embedding_dimension': 384, 'pooling_mode_cls_token': False, 'pooling_mode_mean_tokens': True, 'pooling_mode_max_tokens': False, 'pooling_mode_mean_sqrt_len_tokens': False, 'pooling_mode_weightedmean_tokens': False, 'pooling_mode_lasttoken': False, 'include_prompt': True})\n  (2): Normalize()\n)",
         "0.264",
         "0.07",
         "0.171"
        ],
        [
         "51",
         "lda_ns2_nt2_bw0.6_pw0.6",
         "0.264",
         "0.046",
         "0.161"
        ],
        [
         "40",
         "pr_ns2_l0.4_bw0.6_pw0.0_pg10_umFalse_modNone",
         "0.263",
         "0.063",
         "0.169"
        ],
        [
         "61",
         "pr_ns2_l0.8_bw0.6_pw0.6_pgNone_umFalse_modNone",
         "0.263",
         "0.063",
         "0.169"
        ],
        [
         "65",
         "pr_ns2_l0.8_bw0.6_pw0.6_pg10_umFalse_modNone",
         "0.263",
         "0.063",
         "0.169"
        ],
        [
         "53",
         "pr_ns2_l0.4_bw0.6_pw0.6_pgNone_umFalse_modNone",
         "0.263",
         "0.063",
         "0.169"
        ],
        [
         "44",
         "pr_ns2_l0.8_bw0.6_pw0.0_pgNone_umFalse_modNone",
         "0.263",
         "0.063",
         "0.169"
        ],
        [
         "6",
         "pr_ns2_l0.4_bw0.0_pw0.0_pg10_umFalse_modNone",
         "0.263",
         "0.063",
         "0.169"
        ],
        [
         "32",
         "pr_ns2_l0.8_bw0.0_pw0.6_pg10_umTrue_modSentenceTransformer(\n  (0): Transformer({'max_seq_length': 256, 'do_lower_case': False}) with Transformer model: BertModel \n  (1): Pooling({'word_embedding_dimension': 384, 'pooling_mode_cls_token': False, 'pooling_mode_mean_tokens': True, 'pooling_mode_max_tokens': False, 'pooling_mode_mean_sqrt_len_tokens': False, 'pooling_mode_weightedmean_tokens': False, 'pooling_mode_lasttoken': False, 'include_prompt': True})\n  (2): Normalize()\n)",
         "0.263",
         "0.074",
         "0.17"
        ],
        [
         "36",
         "pr_ns2_l0.4_bw0.6_pw0.0_pgNone_umFalse_modNone",
         "0.263",
         "0.063",
         "0.169"
        ],
        [
         "10",
         "pr_ns2_l0.8_bw0.0_pw0.0_pgNone_umFalse_modNone",
         "0.263",
         "0.063",
         "0.169"
        ],
        [
         "2",
         "pr_ns2_l0.4_bw0.0_pw0.0_pgNone_umFalse_modNone",
         "0.263",
         "0.063",
         "0.169"
        ],
        [
         "31",
         "pr_ns2_l0.8_bw0.0_pw0.6_pg10_umFalse_modNone",
         "0.263",
         "0.063",
         "0.169"
        ],
        [
         "27",
         "pr_ns2_l0.8_bw0.0_pw0.6_pgNone_umFalse_modNone",
         "0.263",
         "0.063",
         "0.169"
        ],
        [
         "26",
         "pr_ns2_l0.8_bw0.0_pw0.6_pgNone_umTrue_modNone",
         "0.263",
         "0.059",
         "0.163"
        ],
        [
         "14",
         "pr_ns2_l0.8_bw0.0_pw0.0_pg10_umFalse_modNone",
         "0.263",
         "0.063",
         "0.169"
        ],
        [
         "23",
         "pr_ns2_l0.4_bw0.0_pw0.6_pg10_umFalse_modNone",
         "0.263",
         "0.063",
         "0.169"
        ],
        [
         "19",
         "pr_ns2_l0.4_bw0.0_pw0.6_pgNone_umFalse_modNone",
         "0.263",
         "0.063",
         "0.169"
        ],
        [
         "57",
         "pr_ns2_l0.4_bw0.6_pw0.6_pg10_umFalse_modNone",
         "0.263",
         "0.063",
         "0.169"
        ],
        [
         "48",
         "pr_ns2_l0.8_bw0.6_pw0.0_pg10_umFalse_modNone",
         "0.263",
         "0.063",
         "0.169"
        ],
        [
         "100",
         "pr_ns5_l0.8_bw0.0_pw0.6_pgNone_umTrue_modSentenceTransformer(\n  (0): Transformer({'max_seq_length': 256, 'do_lower_case': False}) with Transformer model: BertModel \n  (1): Pooling({'word_embedding_dimension': 384, 'pooling_mode_cls_token': False, 'pooling_mode_mean_tokens': True, 'pooling_mode_max_tokens': False, 'pooling_mode_mean_sqrt_len_tokens': False, 'pooling_mode_weightedmean_tokens': False, 'pooling_mode_lasttoken': False, 'include_prompt': True})\n  (2): Normalize()\n)",
         "0.262",
         "0.069",
         "0.159"
        ]
       ],
       "shape": {
        "columns": 4,
        "rows": 144
       }
      },
      "text/html": [
       "<div>\n",
       "<style scoped>\n",
       "    .dataframe tbody tr th:only-of-type {\n",
       "        vertical-align: middle;\n",
       "    }\n",
       "\n",
       "    .dataframe tbody tr th {\n",
       "        vertical-align: top;\n",
       "    }\n",
       "\n",
       "    .dataframe thead th {\n",
       "        text-align: right;\n",
       "    }\n",
       "</style>\n",
       "<table border=\"1\" class=\"dataframe\">\n",
       "  <thead>\n",
       "    <tr style=\"text-align: right;\">\n",
       "      <th></th>\n",
       "      <th>model</th>\n",
       "      <th>rouge1_f</th>\n",
       "      <th>rouge2_f</th>\n",
       "      <th>rougeL_f</th>\n",
       "    </tr>\n",
       "  </thead>\n",
       "  <tbody>\n",
       "    <tr>\n",
       "      <th>9</th>\n",
       "      <td>pr_ns2_l0.8_bw0.0_pw0.0_pgNone_umTrue_modNone</td>\n",
       "      <td>0.323</td>\n",
       "      <td>0.059</td>\n",
       "      <td>0.190</td>\n",
       "    </tr>\n",
       "    <tr>\n",
       "      <th>13</th>\n",
       "      <td>pr_ns2_l0.8_bw0.0_pw0.0_pg10_umTrue_modNone</td>\n",
       "      <td>0.300</td>\n",
       "      <td>0.068</td>\n",
       "      <td>0.186</td>\n",
       "    </tr>\n",
       "    <tr>\n",
       "      <th>43</th>\n",
       "      <td>pr_ns2_l0.8_bw0.6_pw0.0_pgNone_umTrue_modNone</td>\n",
       "      <td>0.297</td>\n",
       "      <td>0.059</td>\n",
       "      <td>0.185</td>\n",
       "    </tr>\n",
       "    <tr>\n",
       "      <th>47</th>\n",
       "      <td>pr_ns2_l0.8_bw0.6_pw0.0_pg10_umTrue_modNone</td>\n",
       "      <td>0.292</td>\n",
       "      <td>0.067</td>\n",
       "      <td>0.183</td>\n",
       "    </tr>\n",
       "    <tr>\n",
       "      <th>73</th>\n",
       "      <td>pr_ns5_l0.4_bw0.0_pw0.0_pgNone_umTrue_modNone</td>\n",
       "      <td>0.290</td>\n",
       "      <td>0.061</td>\n",
       "      <td>0.172</td>\n",
       "    </tr>\n",
       "    <tr>\n",
       "      <th>...</th>\n",
       "      <td>...</td>\n",
       "      <td>...</td>\n",
       "      <td>...</td>\n",
       "      <td>...</td>\n",
       "    </tr>\n",
       "    <tr>\n",
       "      <th>125</th>\n",
       "      <td>pr_ns5_l0.4_bw0.6_pw0.6_pgNone_umFalse_modNone</td>\n",
       "      <td>0.216</td>\n",
       "      <td>0.068</td>\n",
       "      <td>0.143</td>\n",
       "    </tr>\n",
       "    <tr>\n",
       "      <th>140</th>\n",
       "      <td>lda_ns5_nt4_bw0.0_pw0.0</td>\n",
       "      <td>0.214</td>\n",
       "      <td>0.053</td>\n",
       "      <td>0.126</td>\n",
       "    </tr>\n",
       "    <tr>\n",
       "      <th>37</th>\n",
       "      <td>pr_ns2_l0.4_bw0.6_pw0.0_pgNone_umTrue_modSente...</td>\n",
       "      <td>0.204</td>\n",
       "      <td>0.037</td>\n",
       "      <td>0.139</td>\n",
       "    </tr>\n",
       "    <tr>\n",
       "      <th>3</th>\n",
       "      <td>pr_ns2_l0.4_bw0.0_pw0.0_pgNone_umTrue_modSente...</td>\n",
       "      <td>0.202</td>\n",
       "      <td>0.033</td>\n",
       "      <td>0.132</td>\n",
       "    </tr>\n",
       "    <tr>\n",
       "      <th>0</th>\n",
       "      <td>lda_ns2_nt2_bw0.0_pw0.0</td>\n",
       "      <td>0.197</td>\n",
       "      <td>0.044</td>\n",
       "      <td>0.131</td>\n",
       "    </tr>\n",
       "  </tbody>\n",
       "</table>\n",
       "<p>144 rows × 4 columns</p>\n",
       "</div>"
      ],
      "text/plain": [
       "                                                 model  rouge1_f  rouge2_f  \\\n",
       "9        pr_ns2_l0.8_bw0.0_pw0.0_pgNone_umTrue_modNone     0.323     0.059   \n",
       "13         pr_ns2_l0.8_bw0.0_pw0.0_pg10_umTrue_modNone     0.300     0.068   \n",
       "43       pr_ns2_l0.8_bw0.6_pw0.0_pgNone_umTrue_modNone     0.297     0.059   \n",
       "47         pr_ns2_l0.8_bw0.6_pw0.0_pg10_umTrue_modNone     0.292     0.067   \n",
       "73       pr_ns5_l0.4_bw0.0_pw0.0_pgNone_umTrue_modNone     0.290     0.061   \n",
       "..                                                 ...       ...       ...   \n",
       "125     pr_ns5_l0.4_bw0.6_pw0.6_pgNone_umFalse_modNone     0.216     0.068   \n",
       "140                            lda_ns5_nt4_bw0.0_pw0.0     0.214     0.053   \n",
       "37   pr_ns2_l0.4_bw0.6_pw0.0_pgNone_umTrue_modSente...     0.204     0.037   \n",
       "3    pr_ns2_l0.4_bw0.0_pw0.0_pgNone_umTrue_modSente...     0.202     0.033   \n",
       "0                              lda_ns2_nt2_bw0.0_pw0.0     0.197     0.044   \n",
       "\n",
       "     rougeL_f  \n",
       "9       0.190  \n",
       "13      0.186  \n",
       "43      0.185  \n",
       "47      0.183  \n",
       "73      0.172  \n",
       "..        ...  \n",
       "125     0.143  \n",
       "140     0.126  \n",
       "37      0.139  \n",
       "3       0.132  \n",
       "0       0.131  \n",
       "\n",
       "[144 rows x 4 columns]"
      ]
     },
     "execution_count": 13,
     "metadata": {},
     "output_type": "execute_result"
    }
   ],
   "source": [
    "prediction_cols = [col for col in df_cnn_cln.columns if col.startswith('lda') or col.startswith('pr')]\n",
    "df_rouge = compute_rouge_multiple_columns(df_cnn_cln, prediction_cols)\n",
    "df_rouge\n",
    "# df_rouge.to_csv('Data/results/rouge_scores.csv', sep=\";\", index=False) # results df writing"
   ]
  },
  {
   "cell_type": "markdown",
   "id": "1416a212",
   "metadata": {},
   "source": [
    "## Unifying scoring metrics"
   ]
  },
  {
   "cell_type": "markdown",
   "id": "b72148a6",
   "metadata": {},
   "source": [
    "Since a previous unsupervised evaluation was conducted on the original dataset (namely `bbc-news-data`), the same tuning procedure was applied.<br>\n",
    "Also in that case, a model-dependent summarization was performed for each iteration over the data batch.\n",
    "The quality of the summaries was assessed using the **BLANC** score, and the results were stored in a .csv file.<br>\n",
    "To obtain a unified overall metric to guide the selection of the best-performing models, the sum of **ROUGE** and **BLANC** scores corresponding to each model was considered."
   ]
  },
  {
   "cell_type": "code",
   "execution_count": 4,
   "id": "e137a980",
   "metadata": {},
   "outputs": [],
   "source": [
    "blanc_s = pd.read_csv(r\"C:\\Users\\dibmir\\text-summarization\\Data\\results\\blanc_scores.csv\", sep=\";\")\n",
    "rouge_s = pd.read_csv(r\"C:\\Users\\dibmir\\text-summarization\\Data\\results\\rouge_scores.csv\", sep=\";\")"
   ]
  },
  {
   "cell_type": "code",
   "execution_count": 5,
   "id": "1404c0bc",
   "metadata": {},
   "outputs": [
    {
     "data": {
      "application/vnd.microsoft.datawrangler.viewer.v0+json": {
       "columns": [
        {
         "name": "index",
         "rawType": "int64",
         "type": "integer"
        },
        {
         "name": "model",
         "rawType": "object",
         "type": "string"
        },
        {
         "name": "avg_blanc_score",
         "rawType": "float64",
         "type": "float"
        },
        {
         "name": "rouge1_f",
         "rawType": "float64",
         "type": "float"
        },
        {
         "name": "unified_score",
         "rawType": "float64",
         "type": "float"
        }
       ],
       "ref": "08a4f4f8-9365-4b9a-b411-6b607ec35530",
       "rows": [
        [
         "136",
         "pr_ns5_l0.8_bw0.6_pw0.6_pgNone_umTrue_modNone",
         "0.3029826154072771",
         "0.268",
         "0.5709826154072771"
        ],
        [
         "113",
         "pr_ns5_l0.8_bw0.0_pw0.0_pgNone_umTrue_modSentenceTransformer",
         "0.2868830523459146",
         "0.283",
         "0.5698830523459146"
        ],
        [
         "10",
         "lda_ns5_nt2_bw0.6_pw0.0",
         "0.3180331470200772",
         "0.243",
         "0.5610331470200771"
        ],
        [
         "141",
         "pr_ns5_l0.8_bw0.6_pw0.6_pg10_umTrue_modSentenceTransformer",
         "0.3013328127995059",
         "0.259",
         "0.560332812799506"
        ],
        [
         "125",
         "pr_ns5_l0.8_bw0.0_pw0.6_pg10_umTrue_modSentenceTransformer",
         "0.2960155528810835",
         "0.264",
         "0.5600155528810835"
        ],
        [
         "133",
         "pr_ns5_l0.8_bw0.6_pw0.0_pg10_umTrue_modSentenceTransformer",
         "0.3049461313422609",
         "0.255",
         "0.5599461313422609"
        ],
        [
         "117",
         "pr_ns5_l0.8_bw0.0_pw0.0_pg10_umTrue_modSentenceTransformer",
         "0.2868830523459146",
         "0.272",
         "0.5588830523459146"
        ],
        [
         "121",
         "pr_ns5_l0.8_bw0.0_pw0.6_pgNone_umTrue_modSentenceTransformer",
         "0.2960155528810835",
         "0.262",
         "0.5580155528810835"
        ],
        [
         "14",
         "lda_ns5_nt4_bw0.6_pw0.0",
         "0.3385349941988189",
         "0.219",
         "0.5575349941988189"
        ],
        [
         "137",
         "pr_ns5_l0.8_bw0.6_pw0.6_pgNone_umTrue_modSentenceTransformer",
         "0.3013328127995059",
         "0.251",
         "0.552332812799506"
        ],
        [
         "15",
         "lda_ns5_nt4_bw0.6_pw0.6",
         "0.310567607604019",
         "0.241",
         "0.551567607604019"
        ],
        [
         "88",
         "pr_ns5_l0.4_bw0.0_pw0.6_pgNone_umTrue_modNone",
         "0.2812519758869129",
         "0.268",
         "0.549251975886913"
        ],
        [
         "11",
         "lda_ns5_nt2_bw0.6_pw0.6",
         "0.3046191769871991",
         "0.242",
         "0.5466191769871991"
        ],
        [
         "8",
         "lda_ns5_nt2_bw0.0_pw0.0",
         "0.3249146487511204",
         "0.221",
         "0.5459146487511204"
        ],
        [
         "9",
         "lda_ns5_nt2_bw0.0_pw0.6",
         "0.3090313842603887",
         "0.236",
         "0.5450313842603887"
        ],
        [
         "140",
         "pr_ns5_l0.8_bw0.6_pw0.6_pg10_umTrue_modNone",
         "0.3029826154072771",
         "0.242",
         "0.5449826154072771"
        ],
        [
         "12",
         "lda_ns5_nt4_bw0.0_pw0.0",
         "0.3280568731185418",
         "0.214",
         "0.5420568731185418"
        ],
        [
         "104",
         "pr_ns5_l0.4_bw0.6_pw0.6_pgNone_umTrue_modNone",
         "0.2749190297629355",
         "0.266",
         "0.5409190297629355"
        ],
        [
         "129",
         "pr_ns5_l0.8_bw0.6_pw0.0_pgNone_umTrue_modSentenceTransformer",
         "0.3049461313422609",
         "0.235",
         "0.5399461313422609"
        ],
        [
         "13",
         "lda_ns5_nt4_bw0.0_pw0.6",
         "0.3159774088954541",
         "0.223",
         "0.5389774088954541"
        ],
        [
         "120",
         "pr_ns5_l0.8_bw0.0_pw0.6_pgNone_umTrue_modNone",
         "0.2822957499989279",
         "0.255",
         "0.5372957499989279"
        ],
        [
         "80",
         "pr_ns5_l0.4_bw0.0_pw0.0_pgNone_umTrue_modNone",
         "0.2469276505119604",
         "0.29",
         "0.5369276505119603"
        ],
        [
         "101",
         "pr_ns5_l0.4_bw0.6_pw0.0_pg10_umTrue_modSentenceTransformer",
         "0.2635030134214077",
         "0.271",
         "0.5345030134214077"
        ],
        [
         "135",
         "pr_ns5_l0.8_bw0.6_pw0.0_pg10_umFalse_modSentenceTransformer",
         "0.3049461313422609",
         "0.225",
         "0.5299461313422609"
        ],
        [
         "131",
         "pr_ns5_l0.8_bw0.6_pw0.0_pgNone_umFalse_modSentenceTransformer",
         "0.3049461313422609",
         "0.225",
         "0.5299461313422609"
        ],
        [
         "124",
         "pr_ns5_l0.8_bw0.0_pw0.6_pg10_umTrue_modNone",
         "0.2822957499989279",
         "0.246",
         "0.5282957499989279"
        ],
        [
         "139",
         "pr_ns5_l0.8_bw0.6_pw0.6_pgNone_umFalse_modSentenceTransformer",
         "0.3013328127995059",
         "0.225",
         "0.526332812799506"
        ],
        [
         "143",
         "pr_ns5_l0.8_bw0.6_pw0.6_pg10_umFalse_modSentenceTransformer",
         "0.3013328127995059",
         "0.225",
         "0.526332812799506"
        ],
        [
         "92",
         "pr_ns5_l0.4_bw0.0_pw0.6_pg10_umTrue_modNone",
         "0.2812519758869129",
         "0.243",
         "0.5242519758869129"
        ],
        [
         "93",
         "pr_ns5_l0.4_bw0.0_pw0.6_pg10_umTrue_modSentenceTransformer",
         "0.2616217310439382",
         "0.261",
         "0.5226217310439383"
        ],
        [
         "97",
         "pr_ns5_l0.4_bw0.6_pw0.0_pgNone_umTrue_modSentenceTransformer",
         "0.2635030134214077",
         "0.259",
         "0.5225030134214077"
        ],
        [
         "85",
         "pr_ns5_l0.4_bw0.0_pw0.0_pg10_umTrue_modSentenceTransformer",
         "0.2670614411186676",
         "0.254",
         "0.5210614411186676"
        ],
        [
         "127",
         "pr_ns5_l0.8_bw0.0_pw0.6_pg10_umFalse_modSentenceTransformer",
         "0.2960155528810835",
         "0.225",
         "0.5210155528810835"
        ],
        [
         "123",
         "pr_ns5_l0.8_bw0.0_pw0.6_pgNone_umFalse_modSentenceTransformer",
         "0.2960155528810835",
         "0.225",
         "0.5210155528810835"
        ],
        [
         "138",
         "pr_ns5_l0.8_bw0.6_pw0.6_pgNone_umFalse_modNone",
         "0.3029826154072771",
         "0.216",
         "0.5189826154072771"
        ],
        [
         "142",
         "pr_ns5_l0.8_bw0.6_pw0.6_pg10_umFalse_modNone",
         "0.3029826154072771",
         "0.216",
         "0.5189826154072771"
        ],
        [
         "128",
         "pr_ns5_l0.8_bw0.6_pw0.0_pgNone_umTrue_modNone",
         "0.2682179498794527",
         "0.249",
         "0.5172179498794527"
        ],
        [
         "108",
         "pr_ns5_l0.4_bw0.6_pw0.6_pg10_umTrue_modNone",
         "0.2749190297629355",
         "0.239",
         "0.5139190297629355"
        ],
        [
         "119",
         "pr_ns5_l0.8_bw0.0_pw0.0_pg10_umFalse_modSentenceTransformer",
         "0.2868830523459146",
         "0.225",
         "0.5118830523459146"
        ],
        [
         "115",
         "pr_ns5_l0.8_bw0.0_pw0.0_pgNone_umFalse_modSentenceTransformer",
         "0.2868830523459146",
         "0.225",
         "0.5118830523459146"
        ],
        [
         "96",
         "pr_ns5_l0.4_bw0.6_pw0.0_pgNone_umTrue_modNone",
         "0.2496057262109968",
         "0.259",
         "0.5086057262109969"
        ],
        [
         "109",
         "pr_ns5_l0.4_bw0.6_pw0.6_pg10_umTrue_modSentenceTransformer",
         "0.2503652763538299",
         "0.258",
         "0.5083652763538299"
        ],
        [
         "105",
         "pr_ns5_l0.4_bw0.6_pw0.6_pgNone_umTrue_modSentenceTransformer",
         "0.2503652763538299",
         "0.258",
         "0.5083652763538299"
        ],
        [
         "89",
         "pr_ns5_l0.4_bw0.0_pw0.6_pgNone_umTrue_modSentenceTransformer",
         "0.2616217310439382",
         "0.246",
         "0.5076217310439382"
        ],
        [
         "81",
         "pr_ns5_l0.4_bw0.0_pw0.0_pgNone_umTrue_modSentenceTransformer",
         "0.2670614411186676",
         "0.24",
         "0.5070614411186676"
        ],
        [
         "122",
         "pr_ns5_l0.8_bw0.0_pw0.6_pgNone_umFalse_modNone",
         "0.2822957499989279",
         "0.216",
         "0.4982957499989279"
        ],
        [
         "126",
         "pr_ns5_l0.8_bw0.0_pw0.6_pg10_umFalse_modNone",
         "0.2822957499989279",
         "0.216",
         "0.4982957499989279"
        ],
        [
         "94",
         "pr_ns5_l0.4_bw0.0_pw0.6_pg10_umFalse_modNone",
         "0.2812519758869129",
         "0.216",
         "0.49725197588691294"
        ],
        [
         "90",
         "pr_ns5_l0.4_bw0.0_pw0.6_pgNone_umFalse_modNone",
         "0.2812519758869129",
         "0.216",
         "0.49725197588691294"
        ],
        [
         "132",
         "pr_ns5_l0.8_bw0.6_pw0.0_pg10_umTrue_modNone",
         "0.2682179498794527",
         "0.229",
         "0.49721794987945267"
        ]
       ],
       "shape": {
        "columns": 4,
        "rows": 144
       }
      },
      "text/html": [
       "<div>\n",
       "<style scoped>\n",
       "    .dataframe tbody tr th:only-of-type {\n",
       "        vertical-align: middle;\n",
       "    }\n",
       "\n",
       "    .dataframe tbody tr th {\n",
       "        vertical-align: top;\n",
       "    }\n",
       "\n",
       "    .dataframe thead th {\n",
       "        text-align: right;\n",
       "    }\n",
       "</style>\n",
       "<table border=\"1\" class=\"dataframe\">\n",
       "  <thead>\n",
       "    <tr style=\"text-align: right;\">\n",
       "      <th></th>\n",
       "      <th>model</th>\n",
       "      <th>avg_blanc_score</th>\n",
       "      <th>rouge1_f</th>\n",
       "      <th>unified_score</th>\n",
       "    </tr>\n",
       "  </thead>\n",
       "  <tbody>\n",
       "    <tr>\n",
       "      <th>136</th>\n",
       "      <td>pr_ns5_l0.8_bw0.6_pw0.6_pgNone_umTrue_modNone</td>\n",
       "      <td>0.302983</td>\n",
       "      <td>0.268</td>\n",
       "      <td>0.570983</td>\n",
       "    </tr>\n",
       "    <tr>\n",
       "      <th>113</th>\n",
       "      <td>pr_ns5_l0.8_bw0.0_pw0.0_pgNone_umTrue_modSente...</td>\n",
       "      <td>0.286883</td>\n",
       "      <td>0.283</td>\n",
       "      <td>0.569883</td>\n",
       "    </tr>\n",
       "    <tr>\n",
       "      <th>10</th>\n",
       "      <td>lda_ns5_nt2_bw0.6_pw0.0</td>\n",
       "      <td>0.318033</td>\n",
       "      <td>0.243</td>\n",
       "      <td>0.561033</td>\n",
       "    </tr>\n",
       "    <tr>\n",
       "      <th>141</th>\n",
       "      <td>pr_ns5_l0.8_bw0.6_pw0.6_pg10_umTrue_modSentenc...</td>\n",
       "      <td>0.301333</td>\n",
       "      <td>0.259</td>\n",
       "      <td>0.560333</td>\n",
       "    </tr>\n",
       "    <tr>\n",
       "      <th>125</th>\n",
       "      <td>pr_ns5_l0.8_bw0.0_pw0.6_pg10_umTrue_modSentenc...</td>\n",
       "      <td>0.296016</td>\n",
       "      <td>0.264</td>\n",
       "      <td>0.560016</td>\n",
       "    </tr>\n",
       "    <tr>\n",
       "      <th>...</th>\n",
       "      <td>...</td>\n",
       "      <td>...</td>\n",
       "      <td>...</td>\n",
       "      <td>...</td>\n",
       "    </tr>\n",
       "    <tr>\n",
       "      <th>27</th>\n",
       "      <td>pr_ns2_l0.4_bw0.0_pw0.6_pgNone_umFalse_modSent...</td>\n",
       "      <td>0.142867</td>\n",
       "      <td>0.235</td>\n",
       "      <td>0.377867</td>\n",
       "    </tr>\n",
       "    <tr>\n",
       "      <th>0</th>\n",
       "      <td>lda_ns2_nt2_bw0.0_pw0.0</td>\n",
       "      <td>0.178208</td>\n",
       "      <td>0.197</td>\n",
       "      <td>0.375208</td>\n",
       "    </tr>\n",
       "    <tr>\n",
       "      <th>25</th>\n",
       "      <td>pr_ns2_l0.4_bw0.0_pw0.6_pgNone_umTrue_modSente...</td>\n",
       "      <td>0.142867</td>\n",
       "      <td>0.231</td>\n",
       "      <td>0.373867</td>\n",
       "    </tr>\n",
       "    <tr>\n",
       "      <th>33</th>\n",
       "      <td>pr_ns2_l0.4_bw0.6_pw0.0_pgNone_umTrue_modSente...</td>\n",
       "      <td>0.151509</td>\n",
       "      <td>0.204</td>\n",
       "      <td>0.355509</td>\n",
       "    </tr>\n",
       "    <tr>\n",
       "      <th>17</th>\n",
       "      <td>pr_ns2_l0.4_bw0.0_pw0.0_pgNone_umTrue_modSente...</td>\n",
       "      <td>0.146643</td>\n",
       "      <td>0.202</td>\n",
       "      <td>0.348643</td>\n",
       "    </tr>\n",
       "  </tbody>\n",
       "</table>\n",
       "<p>144 rows × 4 columns</p>\n",
       "</div>"
      ],
      "text/plain": [
       "                                                 model  avg_blanc_score  \\\n",
       "136      pr_ns5_l0.8_bw0.6_pw0.6_pgNone_umTrue_modNone         0.302983   \n",
       "113  pr_ns5_l0.8_bw0.0_pw0.0_pgNone_umTrue_modSente...         0.286883   \n",
       "10                             lda_ns5_nt2_bw0.6_pw0.0         0.318033   \n",
       "141  pr_ns5_l0.8_bw0.6_pw0.6_pg10_umTrue_modSentenc...         0.301333   \n",
       "125  pr_ns5_l0.8_bw0.0_pw0.6_pg10_umTrue_modSentenc...         0.296016   \n",
       "..                                                 ...              ...   \n",
       "27   pr_ns2_l0.4_bw0.0_pw0.6_pgNone_umFalse_modSent...         0.142867   \n",
       "0                              lda_ns2_nt2_bw0.0_pw0.0         0.178208   \n",
       "25   pr_ns2_l0.4_bw0.0_pw0.6_pgNone_umTrue_modSente...         0.142867   \n",
       "33   pr_ns2_l0.4_bw0.6_pw0.0_pgNone_umTrue_modSente...         0.151509   \n",
       "17   pr_ns2_l0.4_bw0.0_pw0.0_pgNone_umTrue_modSente...         0.146643   \n",
       "\n",
       "     rouge1_f  unified_score  \n",
       "136     0.268       0.570983  \n",
       "113     0.283       0.569883  \n",
       "10      0.243       0.561033  \n",
       "141     0.259       0.560333  \n",
       "125     0.264       0.560016  \n",
       "..        ...            ...  \n",
       "27      0.235       0.377867  \n",
       "0       0.197       0.375208  \n",
       "25      0.231       0.373867  \n",
       "33      0.204       0.355509  \n",
       "17      0.202       0.348643  \n",
       "\n",
       "[144 rows x 4 columns]"
      ]
     },
     "execution_count": 5,
     "metadata": {},
     "output_type": "execute_result"
    }
   ],
   "source": [
    "score_merged = pd.merge(left=blanc_s, right=rouge_s, on='model', how='inner')\n",
    "score_merged['unified_score'] = score_merged['avg_blanc_score'] + score_merged['rouge1_f']\n",
    "score_merged_sort = score_merged.sort_values('unified_score', ascending=False)\n",
    "score_merged_sort[['model', 'avg_blanc_score', 'rouge1_f', 'unified_score']]"
   ]
  },
  {
   "cell_type": "markdown",
   "id": "1ebff635",
   "metadata": {},
   "source": [
    "## BBC Dataframe with 'summary' columns building"
   ]
  },
  {
   "cell_type": "markdown",
   "id": "fd77614d",
   "metadata": {},
   "source": [
    "The top-3 best performer models are extracted to build summaries on the original dataset.<br>\n",
    "Specifically, models address the following:\n",
    "\n",
    "* PageRank + MMR using Tf-Idf representation\n",
    "* PageRank + MMR using a sentence transformers-based model for sentence embeddings\n",
    "* LDA \n",
    "\n",
    "The rest of hyperparameter values are set before each model running."
   ]
  },
  {
   "cell_type": "code",
   "execution_count": 27,
   "id": "d5c44b1f",
   "metadata": {},
   "outputs": [],
   "source": [
    "df_bbc = pd.read_csv(bbc_path, sep=\"\\t\") # bbc df read"
   ]
  },
  {
   "cell_type": "markdown",
   "id": "6cac5322",
   "metadata": {},
   "source": [
    "### Summaries building"
   ]
  },
  {
   "cell_type": "code",
   "execution_count": null,
   "id": "85f7412a",
   "metadata": {},
   "outputs": [],
   "source": [
    "tqdm.pandas()\n",
    "\n",
    "# # # PageRank + MMR using tfidf\n",
    "ns_1 = 5\n",
    "lamb_1 = 0.8\n",
    "bw_1 = 0.6\n",
    "pw_1 = 0.6\n",
    "um_1 = True\n",
    "pg_1= None\n",
    "mod_1 = None\n",
    "\n",
    "pager_func_1 = partial(build_pager_summary, nlp, num_s=ns_1, pg=pg_1, \n",
    "                     lmbd_p=lamb_1, stop_words=all_stopwords, model=mod_1, \n",
    "                     use_mmr=um_1, bonus_weight = bw_1, penalty_weight = pw_1)\n",
    "df_bbc['summary_tfidf'] = df_bbc.progress_apply(pager_func_1, axis=1)\n",
    "\n",
    "# # # PageRank + MMR using sentence transformers\n",
    "ns_2 = 5\n",
    "lamb_2 = 0.8\n",
    "bw_2 = 0.0\n",
    "pw_2 = 0.0\n",
    "um_2 = True\n",
    "pg_2= None\n",
    "mod_2 = model\n",
    "\n",
    "pager_func_2 = partial(build_pager_summary, nlp, num_s=ns_2, pg=pg_2, \n",
    "                     lmbd_p=lamb_2, stop_words=all_stopwords, model=mod_2, \n",
    "                     use_mmr=um_2, bonus_weight = bw_2, penalty_weight = pw_2)\n",
    "df_bbc['summary_transf'] = df_bbc.progress_apply(pager_func_2, axis=1)\n",
    "\n",
    "\n",
    "# # # LDA\n",
    "ns_3 = 5\n",
    "nt = 2\n",
    "bw_3 = 0.6\n",
    "pw_3 = 0.0\n",
    "\n",
    "lda_func = partial(build_lda_summary, nlp, num_s=ns_3, nt=nt, \n",
    "                     stop_words=all_stopwords, bonus_weight = bw_3, \n",
    "                     penalty_weight = pw_3)\n",
    "df_bbc['summary_lda'] = df_bbc.progress_apply(lda_func, axis=1)\n"
   ]
  },
  {
   "cell_type": "code",
   "execution_count": null,
   "id": "7c1eeccd",
   "metadata": {},
   "outputs": [],
   "source": [
    "# df_bbc.to_csv('Data/output/bbc-news-data-summaries-new.csv', sep='\\t', index=False) # bbc df with summary cols writing"
   ]
  }
 ],
 "metadata": {
  "kernelspec": {
   "display_name": "tmenv",
   "language": "python",
   "name": "python3"
  },
  "language_info": {
   "codemirror_mode": {
    "name": "ipython",
    "version": 3
   },
   "file_extension": ".py",
   "mimetype": "text/x-python",
   "name": "python",
   "nbconvert_exporter": "python",
   "pygments_lexer": "ipython3",
   "version": "3.10.18"
  }
 },
 "nbformat": 4,
 "nbformat_minor": 5
}
