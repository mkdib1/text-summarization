{
 "cells": [
  {
   "cell_type": "markdown",
   "id": "03ed4797",
   "metadata": {},
   "source": [
    "# Libraries"
   ]
  },
  {
   "cell_type": "code",
   "execution_count": null,
   "id": "751cf535",
   "metadata": {},
   "outputs": [],
   "source": [
    "import re\n",
    "from util import lda_summarizer, pager_summarizer\n",
    "import pandas as pd\n",
    "import os\n",
    "import spacy\n",
    "import evaluate\n",
    "from tqdm import tqdm\n",
    "from nltk.corpus import stopwords\n",
    "from functools import partial\n",
    "from sentence_transformers import SentenceTransformer\n",
    "from dotenv import load_dotenv\n",
    "\n"
   ]
  },
  {
   "cell_type": "markdown",
   "id": "2a5bbc1c",
   "metadata": {},
   "source": [
    "# Settings"
   ]
  },
  {
   "cell_type": "code",
   "execution_count": null,
   "id": "96994832",
   "metadata": {},
   "outputs": [],
   "source": [
    "load_dotenv() # .env loading\n",
    "model = SentenceTransformer('all-MiniLM-L6-v2') # sentence transformers model init\n",
    "\n",
    "# Data path\n",
    "cnn_path = os.getenv(\"CNN_DIR\")\n",
    "bbc_path = os.getenv(\"BBC_DIR\")\n",
    "\n",
    "# lm import through 'spacy'\n",
    "nlp = spacy.load(\"en_core_web_sm\")\n",
    "\n",
    "# stopwords definition with custom list addition\n",
    "stop_words = set(stopwords.words('english'))\n",
    "added_stopwords = {\n",
    "        \"however\", \"yet\", \"although\", \"though\", \"even though\", \"nevertheless\", \"nonetheless\",\n",
    "        \"still\", \"despite\", \"in spite of\", \"whereas\", \"alternatively\", \"instead\", \"regardless\",\n",
    "        \"notwithstanding\", \"albeit\", \"conversely\", \"be that as it may\", \"even so\", \"that said\",\n",
    "        \"even if\", \"except\", \"rather\", \"apart from\", \"despite that\", \"then again\", \"in contrast\",\n",
    "        \"after all\"\n",
    "    }\n",
    "    \n",
    "all_stopwords = set(stop_words).union(added_stopwords)"
   ]
  },
  {
   "cell_type": "markdown",
   "id": "884c671c",
   "metadata": {},
   "source": [
    "# Functions"
   ]
  },
  {
   "cell_type": "code",
   "execution_count": null,
   "id": "2ce98208",
   "metadata": {},
   "outputs": [],
   "source": [
    "def clean_cnn_patterns(text):\n",
    "    \"\"\"\n",
    "    Cleans input text by removing specific patterns\n",
    "    The following are performed:\n",
    "    - Returns the input unchanged if it is not a string.\n",
    "    - Removes all characters up to and including the '(CNN)' tag and any following dashes.\n",
    "    - Removes tags as '(CNET)' and '(WIRED)'.\n",
    "    - Removes initial parenthetical phrases.\n",
    "    - Removes initial HTML tags.\n",
    "    - Strips out leading non-word characters (e.g., punctuation).\n",
    "    - Collapses multiple spaces into a single space.\n",
    "    - Returns the cleaned and trimmed string.\n",
    "    \"\"\"\n",
    "\n",
    "    if not isinstance(text, str):\n",
    "        return text\n",
    "\n",
    "    text = re.sub(r'^.*?\\(CNN\\)\\s*[-–—]*\\s*', '', text) # text up to (CNN) removal\n",
    "    text = re.sub(r'\\((CNET|WIRED)\\)', '', text) # specific intial pattern removal\n",
    "    text = re.sub(r'^\\s*\\([^)]*\\)\\s*', '', text) # parantheses with pattern removal\n",
    "    text = re.sub(r'^\\s*<[^>]+>\\s*', '', text) # html tags removal\n",
    "    text = re.sub(r'^[^\\w]+', '', text) # initial punkt removal\n",
    "    text = re.sub(r'\\s+', ' ', text) # multiple spaces removal\n",
    "    return text.strip()\n",
    "\n",
    "def clean_fulltext_column(df, column):\n",
    "    df[column] = df[column].apply(clean_cnn_patterns)\n",
    "    return df\n"
   ]
  },
  {
   "cell_type": "code",
   "execution_count": null,
   "id": "a0814921",
   "metadata": {},
   "outputs": [],
   "source": [
    "def clean_prefix_ref_summary(text):\n",
    "    \"\"\"\n",
    "    Cleans input text by removing specific patterns\n",
    "    The following are performed:\n",
    "     - Returns the input unchanged if it is not a string.\n",
    "     - Removes initial patterns as 'NEW:' and 'CDC:'.\n",
    "     - Leaves a single whitspace in case of multiple blanks\n",
    "     - Normalizes quotes\n",
    "     - Removes all characters but alphanumeric and a short set of symbols\n",
    "    \"\"\"\n",
    "    if not isinstance(text, str):\n",
    "        return text\n",
    "\n",
    "    text = re.sub(r'^(NEW:|CDC:)\\s*', '', text, flags=re.IGNORECASE)\n",
    "    text = re.sub(r'\\s+', ' ', text)  \n",
    "    text = re.sub(r'[“”’]', \" \", text)  \n",
    "    text = re.sub(r'[^a-zA-Z0-9%£$.,;:\\-\\s]', '', text)\n",
    "    return text.strip()\n",
    "\n",
    "def clean_ref_summary_column(df, column):\n",
    "    df[column] = df[column].apply(clean_prefix_ref_summary)\n",
    "    return df"
   ]
  },
  {
   "cell_type": "code",
   "execution_count": null,
   "id": "f3e9b131",
   "metadata": {},
   "outputs": [],
   "source": [
    "def build_lda_summary(nlp, row, num_s, nt, stop_words, bonus_weight=0.6, penalty_weight=0.4):\n",
    "    \"\"\"\n",
    "    Generates an extractive summary of a news article using LDA-based topic modeling.\n",
    "\n",
    "    Parameters:\n",
    "    - nlp: A spaCy language model used for tokenization.\n",
    "    - row: A row from a DataFrame containing the article text (expects a 'content' or 'news' field).\n",
    "    - num_s: Desired number of sentences in the summary.\n",
    "    - nt: Number of topics to consider in the LDA model.\n",
    "    - stop_words: List or set of stopwords to remove.\n",
    "    - bonus_weight: Weight factor to boost topic-relevant sentences.\n",
    "    - penalty_weight: Weight factor to penalize redundant or off-topic sentences.\n",
    "\n",
    "    Returns:\n",
    "    - A string containing the summary, or an empty string in case of error.\n",
    "    \"\"\"\n",
    "    \n",
    "    try:\n",
    "        return lda_summarizer(\n",
    "            nlp=nlp,\n",
    "            # text=row['news'], # if run 'cnn_dailymail' please uncomment this line\n",
    "            text=row['content'], # if run 'bbc-news-data' please uncomment this line\n",
    "            num_sentences=num_s,\n",
    "            num_topics=nt,\n",
    "            remove_stopwords=True,\n",
    "            stop_words=all_stopwords,\n",
    "            bonus_weight=bonus_weight,\n",
    "            penalty_weight=penalty_weight\n",
    "        )\n",
    "    except Exception as e:\n",
    "        return \"\"\n",
    "\n",
    "def build_pager_summary(nlp, row, num_s, pg, use_mmr, lmbd_p, stop_words, model, \n",
    "                        bonus_weight=0.6, penalty_weight=0.4):\n",
    "    \"\"\"\n",
    "    Generates an extractive summary of a news article using PageRank.\n",
    "\n",
    "    Parameters:\n",
    "    - nlp: A spaCy language model used for tokenization.\n",
    "    - row: A row from a DataFrame containing the article text (expects a 'content' or 'news' field).\n",
    "    - num_s: Desired number of sentences in the summary.\n",
    "    - pg: Custom integer value chosen as the top-k rank sentences to be extracted by PageRank.\n",
    "    - use_mmr: If True, Maximum Marginal Relevance is performed.\n",
    "    - lmbd_p: Lambda parameter used by MMR.\n",
    "    - stop_words: List or set of stopwords to remove.\n",
    "    - bonus_weight: Weight factor to boost topic-relevant sentences.\n",
    "    - penalty_weight: Weight factor to penalize redundant or off-topic sentences.\n",
    "\n",
    "    Returns:\n",
    "    - A string containing the summary, or an empty string in case of error.\n",
    "    \"\"\"\n",
    "    try:\n",
    "        return pager_summarizer(\n",
    "            nlp=nlp,\n",
    "            # text=row['news'], # if run 'cnn_dailymail' please uncomment this line\n",
    "            text=row['content'], # if run 'bbc-news-data' please uncomment this line\n",
    "            num_sentences=num_s,\n",
    "            use_mmr=use_mmr,\n",
    "            lambda_param=lmbd_p,\n",
    "            remove_stopwords=True,\n",
    "            stop_words=all_stopwords,\n",
    "            bonus_weight=bonus_weight,\n",
    "            penalty_weight=penalty_weight,\n",
    "            pagerank_top_k=pg,\n",
    "            embedding_model=model\n",
    "        )\n",
    "    except Exception as e:\n",
    "        return \"\""
   ]
  },
  {
   "cell_type": "code",
   "execution_count": 6,
   "id": "b6035cd9",
   "metadata": {},
   "outputs": [],
   "source": [
    "def compute_rouge_multiple_columns(df, prediction_cols, reference_col='ref_summary'):\n",
    "    \"\"\"\n",
    "    ROUGE evaluation function using HuggingFace's evaluate library.\n",
    "\n",
    "    This function evaluates the quality of multiple predicted summary columns against a reference summary column\n",
    "    ('ref_summary') using ROUGE metrics (ROUGE-1, ROUGE-2, ROUGE-L). It returns a DataFrame reporting the average\n",
    "    f-measure scores for each summarization method (identified by the column name).\n",
    "\n",
    "    Args:\n",
    "        df (pd.DataFrame): The DataFrame containing the predictions and reference summaries.\n",
    "        prediction_cols (list): List of column names containing the generated summaries to evaluate.\n",
    "        reference_col (str): Name of the column containing the reference summaries.\n",
    "\n",
    "    Returns:\n",
    "        pd.DataFrame: A DataFrame containing the average ROUGE scores per prediction column.\n",
    "    \"\"\"\n",
    "    rouge = evaluate.load(\"rouge\")\n",
    "    results = {}\n",
    "\n",
    "    for pred_col in prediction_cols:\n",
    "        predictions = df[pred_col].fillna(\"\").tolist()\n",
    "        references = df[reference_col].fillna(\"\").tolist()\n",
    "\n",
    "        try:\n",
    "            scores = rouge.compute(predictions=predictions, references=references, use_stemmer=True)\n",
    "        except Exception:\n",
    "            scores = {'rouge1': 0.0, 'rouge2': 0.0, 'rougeL': 0.0}\n",
    "\n",
    "        results[pred_col] = {\n",
    "            'rouge1_f': round(scores['rouge1'], 3),\n",
    "            'rouge2_f': round(scores['rouge2'], 3),\n",
    "            'rougeL_f': round(scores['rougeL'], 3),\n",
    "        }\n",
    "\n",
    "    df_result = pd.DataFrame(results).T.reset_index()\n",
    "    df_result = df_result.rename(columns={\"index\": \"model\"})\n",
    "    return df_result.sort_values('rouge1_f', ascending=False)\n"
   ]
  },
  {
   "cell_type": "markdown",
   "id": "e7b2b998",
   "metadata": {},
   "source": [
    "# Tuning & Summary building"
   ]
  },
  {
   "cell_type": "markdown",
   "id": "173f5230",
   "metadata": {},
   "source": [
    "The aim of the current tuning procedure is to evaluate summarization models using the ROUGE score as the primary evaluation metric.<br>\n",
    "Since the original `bbc-news-data` dataset does not include reference summaries, the models previously developed in `model_building.py` are now tested on a different dataset: CNN/DailyMail.<br> This dataset collects news articles from both CNN and the Daily Mail, and includes the full text of each article with highlights summaries which have been written by humans.<br> These highlights consist of one or multiple sentences that are either directly extracted from the article or closely paraphrased.<br>\n",
    "Despite row data can be found here https://github.com/google-deepmind/rc-data , a preprocessed-short version of the dataset has been downloaded from https://www.kaggle.com/datasets/yatharthgautam123789/cnn-dailymail-3-0-0"
   ]
  },
  {
   "cell_type": "markdown",
   "id": "7bce8ce1",
   "metadata": {},
   "source": [
    "## Read data"
   ]
  },
  {
   "cell_type": "code",
   "execution_count": null,
   "id": "8eb3043c",
   "metadata": {},
   "outputs": [],
   "source": [
    "df_cnn = pd.read_csv(cnn_path, sep=\",\", usecols=['article', 'highlights']) # cnn df read\n",
    "df_cnn = df_cnn.rename(columns={'article': 'news', 'highlights': 'ref_summary'}) # col rename\n",
    "df_cnn = df_cnn.sample(frac=0.01, random_state=123) # Using 5% of the rows for sustainable tuningg"
   ]
  },
  {
   "cell_type": "markdown",
   "id": "b858cf39",
   "metadata": {},
   "source": [
    "#### 'news' and 'summary' columns clean up"
   ]
  },
  {
   "cell_type": "code",
   "execution_count": 8,
   "id": "ac67d091",
   "metadata": {},
   "outputs": [
    {
     "data": {
      "application/vnd.microsoft.datawrangler.viewer.v0+json": {
       "columns": [
        {
         "name": "index",
         "rawType": "int64",
         "type": "integer"
        },
        {
         "name": "news",
         "rawType": "object",
         "type": "string"
        },
        {
         "name": "ref_summary",
         "rawType": "object",
         "type": "string"
        }
       ],
       "ref": "57af2985-13ca-4889-87f3-dfc5c8076a83",
       "rows": [
        [
         "2656",
         "Bayern German manager Van Der van Sar today extended a one-year contract extension to March 2019 , The Dutchman's current deal is supposed to have ran its course at the season , But the club said on Monday that van Gaal's contract deal will see them only until 2020 if he took their title this season . Bayern had another awful start the their season , they are now ninth on the table after losing once in their past six games since being two points behind by Bayern z . Munich . Head coach Karl-Heinz Rummenigge told the club's Official website , they 're appointed with our decision will stay despite Bayern's tough circumstances and because of the result which would never be been expected,\" he said \"People are not in contract for change , it is send a very positive message to Germany , about Europe , and feelings of the coach's , especially when we lose to Mainz.\" The winner of Bayern's Europa League Final vs the team from Madrid in Spain , said , \"My new opinion of Bayern are positive . But trophies , win trophies and you always want trophies at an great club like Bayer Munich.\" The 59-year-old manager got to the Champions league semifinals for the second time in May that season , Bayern was beaten 2-1 by by the Bayern Player . Van der Van Guardiola said that \"outstanding\" atmosphere between his Bayern colleagues on the team team key factors influencing the decision to stay . said \"I couldn't wish for anything better. The chemistry's right. You get to know each other properly in difficult situations. We're seeing it again right now. \"These are tough times, but the board is keeping the faith -- the faith which took us to the Champions League final in Madrid.\" Rummenigge said Bayern valued their coach highly: \"He does a superb job every day. We're recognizing that with this contract extension.\" Bayern's captain -- Dutch midfielder Mark van Bommel -- welcomed the news. He said: \"The coach signing a new deal is a very good sign. He's doing a great job.\" One of Germany's stars of the World Cup, Thomas Muller, echoed the comments of his captain. \"Van Gaal been extremely important for me so far, he's made a huge contribution to my career. That settles the matter, which is good for him, for us and for the club as a whole.\"",
         "Louis Van Gaal signs a contract extension with German champions Bayern Munich . The Dutchmans deal runs until the end of June in 2012 . Bayern won the Bundesliga last season and were beaten in the Champions League final . Van Gaal unconcerned about Bayerns patchy start to the season ."
        ],
        [
         "445",
         "The death toll from a shooting at a house party in the violence-plagued Mexican border city of Juarez has climbed to 14, state media reported Sunday. Chihuahua State Attorney General Carlos Manuel Salas told reporters that another 14 people were injured when gunmen attacked the gathering of young people at a house party Friday, the state-run Notimex news agency reported. The victims killed were between ages 14 and 30, Notimex said. Children as young as 7 and 11 were among the injured, the agency reported. Salas said authorities were investigating the backgrounds of all the victims. Mexico's National Human Rights Commission said it was sending representatives to the neighborhood, which was near another home where cartel gunmen stormed a house party in January, killing 15 people. Most of the victims in that shooting were youths who had no ties to organized crime. Investigators said the January shooting was a case of mistaken identity caused by bad intelligence. It sparked widespread outrage in the violent border city, including calls for Mexican President Felipe Calderon to resign. In a news conference Saturday, the country's deputy interior minister told reporters federal authorities will maintain the security strategy they are developing with state officials. \"We are here to address this deplorable and condemnable acts, and to ensure full support to local authorities investigating these unfortunate events,\" deputy interior minister Juan Marcos Gutierrez said, according to Notimex. CNN's Nick Valencia contributed to this report.",
         "A prosecutor says 14 people were killed and 14 others were injured . Authorities are investigating the backgrounds of the victims . Mexicos National Human Rights Commission is sending a team to the neighborhood ."
        ],
        [
         "9505",
         "The A Week In America ended telling this quintessential American what we should have doing if they weren't that s they 're fair s . We call those damn fairs, and what's fair 're fair ? . Who are what we want ? We ' fools . , we're gluttons ? . ? . We are not of us , we 're just people ? . If you need you , , we're going to you . Here's the list to to some most authentically important work that people have done is . Seaside boardwalks The Boardwalks dot the American beachside towns , including the famous Drifters' beach , or \"Under water Boardwalk\" . America ' first boardwalk , built at a tip at sea , is by result a variety of miles of board wal ades and many , shorefront beach entryways. In one of America's oldest iconic board game formerly known as Monopoly, the real name of \"America's Gold Playground,\" and later officially became \"Boardwalk Empire,\" refers in the original Prohibition-era Gold Rush ground if you don't believe it a ? - and a little , in their lumber-pathed homes - , Something similar American boardwalks has inspired America's famous Coney Island in and the City , Roller coasters, carnival and Nathan's Famous restaurants and inspired many things in Americana. There 's a new Boardwalk , filled of bodybuilders, novelty trinket shops and </s> . people . </s> of people . In Pueblos , powwows are the fuel for excitement . each day is witnessing the culture of the first Americans come alive in a spectacle of swirling, pulsing color. Every April, approximately 3,000 Native American dancers and singers from roughly 700 tribes come together in Albuquerque, New Mexico, to compete and celebrate their heritage. The teams blend traditional style with modern, innovative techniques, so the result is more than just living history, it's the evolution of a culture that most Americans think has all but died away. In the same area are many pueblo sites that provide tours of cave dwellings and indigenous architecture. Perhaps the most memorable is Taos Pueblo, 2Â½ hours northwest of Albuquerque. This village of adobe buildings has been continually occupied by Native Americans for more than a thousand years. Taos Pueblo, 120 Veterans Highway, Taos, New Mexico; open 8 a.m.-4:30 p.m.; closed for about 10 weeks in late winter and early spring; $10 for adults; 575-758-1028 . Gathering of Nations, University of New Mexico Arena, Avenida Cesar Chavez, Albuquerque, New Mexico; 505-836-2810 . 3. Wrigley Field, Chicago . Forget national pastime -- to some Americans, baseball is a national religion. Wrigley Field in Chicago, regardless of denomination, is their Vatican. Boston's Fenway Park has two years on Wrigley (the former was built in 1912), but Fenway has had more significant updates. Like a giant video display installed in 2000, and extra seats and luxury boxes that have been added time and time again. By contrast, Wrigley has remained fairly true to its roots. It's a classic jewel box design -- green seats, open roof, exposed steel, brick, stone -- with ball-swallowing ivy-covered walls. There's truly no better place to watch a game if you want a direct link to nearly a century of baseball history. If you're in Chicago during the off-season, no worries. The park provides 90-minute tours year-round. Wrigley Field, 1060 W. Addison St., Chicago; tours $24 for individuals; 773-388-8270 . 4. College football, anywhere (though Alabama ain't bad) Let's not kid ourselves. Football is the true national sport of the 21st century. While it doesn't get much more American than the Super Bowl, we'd argue that the most enjoyable, purest way to experience the unique American-branded mixture of militant strategics, refined athleticism, brute force and exploitation of young labor is at a college football game. Best to get there early enough to tailgate. Bonding with strangers, drinking and grilling beforehand is 72.4% of the experience. Pretty much any stadium will do, but a game experience doesn't get much better than at Bryant-Denny Stadium in Tuscaloosa, Alabama, home of the reigning national champion Alabama Crimson Tide. (Yes, we know, the barbecue is spicier and the cheerleaders are hotter at your team's stadium, but we had to draw the line somewhere and \"national champs\" earns you the top spot on lists like this.) Bryant-Denny Stadium, 920 Paul W. Bryant Dr., Tuscaloosa, Alabama. 5. Kentucky Derby . There's one more sporting event we have to include on the list. Sure, other countries have their horse races. But those competitions weren't founded by the grandson of William Clark of the Lewis and Clark expedition. Also, those races don't have a traditional drink made of bourbon (mint julep), nor do they encourage everyone to dress like a flamboyant Southern aristocrat. We're talking bow ties, seersucker, bold pastels and spectacular hats that put British royal wedding attendees to shame. Churchill Downs, 700 Central Ave., Louisville, Kentucky.; May 3-4, 2013; single day general admission $25-40; 502-636-4400 . 6. Burning Man . The first Woodstock Music & Art Fair in 1969 was one of the most pivotal moments in American cultural history. Five-hundred-thousand people came together to celebrate drugs, weirdness, creativity, individualism, beauty and sticking it to the Man. What's the direct descendant of Woodstock? Before you say Bonnaroo, Coachella, Lollapalooza or any other trendy music festival -- each of which is run by the Man -- let us stop you. The world's largest festival of artistic expression is Burning Man. The weeklong event held every year in the Black Rock Desert of northern Nevada is difficult to describe. As the website puts it, describing Burning Man is \"like trying to explain what a particular color looks like to someone who is blind.\" Essentially 50,000 creative spirits gather in one of the most desolate areas in the continental United States to wear bizarre clothes, make art, do drugs, experience a new form of communal living, have a hell of a lot of fun and let their freak flags fly. Burning Man; August 26-September 2, 2013; 415-863-5263 . 7. Soul food . It's difficult to pin down the most American of foods. Almost every candidate has roots in other countries, but, of course, that's what makes them American. Soul food makes the top of the list because it's delicious, unapologetically artery-clogging and it brings us face to face with our turbulent past. African-American slaves on Southern plantations were often given scraps and leftovers to eat, and had to make do with whatever vegetables they could grow nearby and with little care, as so much time was spent working. From these restrictions arose some of the finest recipes in American cuisine. There are thousands of spectacular soul food restaurants -- many of the best are in the South -- but Sylvia's in New York is maybe the most well known. Sylvia's, 328 Lenox Ave., New York; 212-996-0660 . 8. Juke joints . While we're in the region, one of America's great art forms, Blues music, grew up in the juke joints of the South. Jukes arose after emancipation, taking the form of shacks and private houses where African-Americans gathered to listen to and play music, gamble and dance. A few classic juke joints still remain, some along Highway 61, aka the Blues Highway, which stretches from New Orleans to the town of Wyoming, Minnesota, an American experience in and of itself. Po' Monkey's, opened in 1963 outside Merigold, Mississippi, is considered one of the last remaining original jukes. It's only open Thursdays, and it's not easy to get to, but the music and crowd make it worth the trip. Po' Monkey's; Po Monkey Road, Merigold, Mississippi; 662-843-2712 . 9. Outdoor Christmas light displays . Sure, other countries have Christmas lights (or fairy lights, in the UK), but no one else takes it quite as seriously as Americans. The lighting of the approximately 80-foot tall Norwood spruce at Rockefeller Center in New York is practically a national event. But the greatest displays of holiday spirit can be seen in more rural areas. Take Magical Night of Lights in Lake Lanier, Georgia, which consists of seven miles and millions of lights, or the six-mile long Oglebay Winter Festival of Lights in Wheeling, West Virginia. Magical Night of Lights, 7000 Lanier Islands Parkway, Buford, Georgia; 770-945-8787 . Winter Festival of Lights, 465 Lodge Dr., Wheeling, West Virginia; November 8, 2013-January 5, 2014; Sunday through Thursday until 10 p.m. and Friday and Saturday until 11 p.m.; 800-624-6988 . 10. Megachurches . Americans know how to make praising Jesus memorable. Just look at Gospel music and tent revivals. In modern times you needn't look much further than Gospel brunches (wash away your sins from the night before with spiritual songs and mimosas) and megachurches. Those giant boxes of worship are where thousands of Christians gather not simply to pray and praise, but in many cases to eat, shop and work out. The United States has more than 1,300 of them, and more than 50 draw a weekly attendance between 10,000 and 45,000. The mega-ist of American megachurches is Lakewood Church in Houston, led by senior pastor Joel Osteen. Every week his message is broadcast to 7 million viewers in more than 100 countries. Lakewood Church; 3700 Southwest Freeway, Houston; 713-635-4151 .",
         "Pueblos and powwows in New Mexico highlight Native American culture . Baseball, football and the Derby made the cut -- yes, we love sports . What would the country be without soul food We tried to resist including Burning Man, but failed ."
        ],
        [
         "332",
         "Only a third of U.S. voters think that most members of Congress deserve to be re-elected this year, according to a new national poll. That's the lowest number ever recorded for that question in a CNN survey. The CNN/Opinion Research Corp. poll, released Tuesday, indicates that only 34 percent feel that current federal lawmakers deserve re-election, with 63 percent saying no. According to the survey, 51 percent feel their own member of Congress should be re-elected -- also an all-time low in CNN polling -- while 44 percent say their representative doesn't deserve to be returned to office in November. Full poll results (PDF) The numbers on both questions are even lower than in 1994, when an anti-incumbent fever helped Republicans win back control of both the House and the Senate from Democrats. The trend line on those questions goes back to 1991, when they were first asked. \"This is not a good year to be an incumbent, regardless of which party you belong to,\" said CNN polling director Keating Holland. \"Voters seem equally angry at both Republicans and Democrats this year.\" Fifty-six percent of people questioned in the survey say that most Democrats in Congress do not deserve to be re-elected. An equal percentage say that most congressional Republicans don't deserve re-election. The poll suggests Americans are split when it comes to their vote this November, with 47 percent of registered voters saying they will support the Republican candidate in their district for the House of Representatives and 45 percent saying they will back the Democrat. Republicans trailed the Democrats by 6 points in November. The voters' cool view of incumbents of both parties \"may hurt the Democrats more because there are more Democratic incumbents,\" Holland said. \"It's a change from 2006, when voters concentrated their anger at GOP members of Congress.\" The generic ballot question asked respondents if they would vote for a Democrat or Republican in their congressional district, without naming any specific candidates. The Democrats currently hold a 255-178 advantage in the House, with two vacant seats that the Democrats once held. Republicans need to win 40 seats to take back control of the chamber. While President Obama is not up for re-election this November, he will be in 2012, if he decides to run for a second term. According to the poll, 44 percent of registered voters say Obama deserves re-election, with 52 percent saying the president does not deserve a second term in office. The survey also indicates that 49 percent of Americans approve of the job Obama's doing as president, with half of the public disapproving of his job in the White House. \"One problem Obama faces may be the perception that Obama is not a middle-class kind of guy,\" Holland said. \"Only 4 percent of Americans describe themselves as upper class. But a 45 percent plurality say that Obama belongs to the upper class, with 42 percent saying he is from the middle class and 12 percent describing him as working class.\" The CNN/Opinion Research Corp. poll was conducted Friday through Monday, with 1,023 adult Americans, including 954 registered voters, questioned by telephone. The survey's sampling error is plus or minus 3 percentage points both for all Americans and for registered voters. CNN deputy political director Paul Steinhauser contributed to this story .",
         "Just 34 percent of U.S. voters think most members of Congress should be re-elected, poll shows . Thats the lowest number for that question ever in a CNN poll . 51 percent say their own member of Congress deserves re-election . 44 percent of those polled say President Obama should be re-elected if he runs in 2012 ."
        ],
        [
         "4168",
         "Se wayne Johnson , in his , second of the match , the on Shunned against India and the the start of his career but after , after the , former Australian captain 's second w with in broken wrist in </s> The 31-year-old in the w day and he terrorized Sri Lanka's batsmen when he continue his dominance in the 2-0 Test win in the on . Australian left-arm paceman , who took his team his first th irteen wickets of the first innings Tests in in Africa and beat Sri Lanka with a , run straight at Sri Lanka's second icket keeper in this five-day match of and was one day torment ing Australian bowlers, who for a four-wicket stand in , Lanka's first-innings victory in the , The , saw him six consecutive ickets took by Australia 's opening batsman Kumar Sangakkara, hit on short . Sangakkara, with the short ball , was not , but three players had bow led 10,000 runs in India game on their wrist with an was caused by the bat 's first over , and hit wicketkeeper Prasanna Jayawardene with hairline action on the </s> icket in , Jayawardene and bowler Chanaka Welegedara , led Australia by six run and of his , Lanka 's 103-7 for loss in 24.2 overs of wickets took in Johnson's first st of the match , but after a , \"The idea behind this is was that bad luck hits the other side , I think we do get some injuries out of it,\" said Johnson, who passed the milestone of 200 wickets in his 49th Test. \"I think that intimidation factor definitely worked out there today. We found a bit of a weakness with them with the short ball ... They obviously didn't handle it as well as they would have liked.\" It marked a minor career resurrection for Johnson, who was Australia's main strike bowler until his form fell apart during the 2010-11 Ashes series against England. \"In the time I've had off I've been able to reflect on a lot of things. I had probably got to the stage where I listened to a lot of outside influences -- that doesn't affect me anymore. I'm just happy with how I've come back, and making the most of the opportunities I get,\" he said. \"It's not every day you get to play for your country, and I'm pretty proud of the fact I've played 49 Tests now. You've just got to look to the future and, if you get picked, go out there and make the most of it. That's what I'm doing ... and playing with a smile on my face. \"I've always been happy playing for Australia, it just got to the point where I was feeling the pressure. It happens in professional sports, you can feel the pressure and start to believe in things that are said or outside influences, and it just got to that point for me. \"I've moved past that. I'm 31, I've been around the game for a long time now and I think I've matured in that I have belief in myself and just go out there and play my game and do the best job I can.\" Despite his heroics, Johnson is not guaranteed of starting the third Test in Sydney from January 3-7. Mitchell Starc is expected to return after being rested, while debutant Jackson Bird made a strong impression as an opening bowler, taking two wickets in each innings. \"His control with the new ball is an area that I think we've been looking for,\" captain Michael Clarke said. \"The one thing I really like about Jackson is you know what you're going to get. \"He bowled into the breeze the whole game and did a fantastic job for us. I think Birdy played a huge part in Mitch's success in the first innings, and it allows a bowler like Mitch to be able to attack.\" Australia will be without key all-rounder Shane Watson, who has a calf injury, meaning Glenn Maxwell has the chance to make his Test debut after previous appearances in limited-overs internationals. Meanwhile, India leveled the Twenty20 series against Pakistan with an 11-run victory in the second match at Ahmedabad on Friday. The home side put on 192-5 after batting first, with Yuvraj Singh smashing 72 off 36 balls, sending seven deliveries over the boundary ropes. Pakistan could not follow up Tuesday's five-wicket win in Bangalore, finishing on 181-7 after 20 overs. Ashok Dinda took 3-36 from his four overs. It is the first bilateral series between the neighboring countries in five years. The three-match one-day series will start on Sunday.",
         "Mitchell Johnson inspires Australia to innings victory over Sri Lanka in Melbourne . Injury-hit tourists crash to series defeat ahead of third and final match in Sydney . Johnson named man of the match after taking six wickets and hitting 92 not out . India levels Twenty20 series against Pakistan with 11-run win in second match at Ahmedabad ."
        ],
        [
         "2364",
         "The problem is spread across Greek , rather than solve it: The connection with the ' close border with Greece in other countries , say in that , , the intelligence said , could at the crossroads of thousands of militants traveling through the Greece . Through the border with with countries such to the Greek States -- Greece's land border is between , a boundary with the and other Western of the continent , but the country's porous borders also make them difficult to reach the </s> </s> to a senior source - and according to to the Greek intelligence , says that \" There is every jihadist group inside Greece country having ties to extremist organizations -- like The Muslim State in Iraq or Syria (ISIS) or similar groups of extremists militants who are of Iran , which the Leftist government had to point to in election campaigns . -- one of the four top terrorists leaders in the , he said , Abdelhamid Abaaoud, was alleged , have terror ized thousands more people of the country he said was speaking on phone to Greek authorities trying to opening terrorists at their homes in in Greek States . He has been jailed in Charleroi where whose identity will not get disclosed , the General Prosecutor's Office has to believe believed to be responsible for the terrorist attack in Greece -- Authorities have also arrested a 33-year - Italian , accused as may have entered the Greek States before this week's coup . He who has not been named, has protested his innocence. -- Last year, two French jihadists were arrested after using Greek soil to return home. One was arrested after passing through Italy. One was Ibrahim Boudina, a 23-year-old French national born in Algiers. Greek border guards had found in his possession a USB stick with instructions for how to make homemade bombs. Europe faces 'greatest terror threat ever' They did not detain him, but tipped off French investigators, who later found bomb-making equipment and devices in his apartment near Cannes. Boudina has denied terror charges and awaits trial. What's unknown is how many jihadists are traveling individually -- in either direction -- and how many are using support networks. \"Greece is not a target, just a gateway into Europe and a stop on the fighters' return home,\" said the source close to Greek intelligence. \"The large immigrant communities is Greece, and particularly in Athens, are in a position to provide jihadists and others associated with such groups with housing and generally help them remain anonymous,\" the source said. In 2011, Greek authorities detained nearly 50,000 illegal migrants from Afghanistan and Pakistan, according to police figures. One analyst who has studied jihadist travel patterns says there are indications that militants are setting up logistical, recruitment and financial cells in Greece, in part to facilitate the travel of a growing number of would-be fighters traveling from Kosovo and Albania. ISIS has produced several propaganda videos featuring Kosovars appealing to their countrymen to join them, and the Kosovo authorities believe some 200 individuals have left to wage jihad in Iraq and Syria. But it's not just the Balkans that's providing the travelers. \"We estimate that about 2,000 people have used Greece in the last two years or so, mainly arriving by boat from Italy, as a stop to an onward journey,\" the source close to the intelligence services told CNN. \"Given the number of people who have left Europe for Syria and the Middle East we don't regard this number as very high. But there is a good chance that it is much greater than we know at this point,\" he added. Coming in the other direction, the number of migrants trying to reach Europe illegally has soared since Syria's implosion, especially by sea. Many head to Greece and Italy on rust-buckets that trawl the Turkish coast seeking out the desperate. John M. Nomikos, director of the Research Institute for European and American Studies in Athens, says many migrants have their documents taken by human traffickers and then seek political asylum when they get to Greece. Nomikos says a few of those who arrive in Greece subsequently marry Greek women and receive Greek ID cards or passports, allowing them to travel through much of the European Union. Figures from the European Union's border agency, Frontex, show that 270,000 people tried to enter Europe illegally in 2014 -- with huge increases in the numbers setting off across the central and eastern Mediterranean. Whether ISIS or other groups are already exploiting this influx to infiltrate members into Europe is one of the worrying unknowns to European officials. The Greek Interior Ministry acknowledges it has little idea of the number of people living illegally in Greece. Nomikos and others say the Greek authorities' ability to track asylum-seekers and would-be jihadists has been hard hit by six years of recession -- a time in which budgets have been cut and senior members of the intelligence communities have lost their jobs or retired early. Combined with political appointments in the security services, and a lack of terrorism specialists, Nomikos says this has led to a damaging \"expertise deficit\" at a time when threats are multiplying. It doesn't help that Greek police are preoccupied with the remnants of the far-left November 17 group that occasionally launches sabotage attacks and carries out assassinations. Nomikos also says there is inadequate coordination between the National Intelligence Service, the police and other agencies -- and that Greece badly needs help from the U.S. or European government to reform its security services. \"The country urgently needs a Department of Homeland Security in order to coordinate the intelligence-sharing among the Greek intelligence service (NIS-EYP), anti-terrorism squad intelligence unit\" as well as police, coastguard and military intelligence, Nomikos says. The Balkan states to the north of Greece have become a major source of weapons to jihadist cells elsewhere in Europe, and some analysts believe that militant groups in the Middle East may also be tapping into this illicit arms bazaar. In November, Albanian police arrested eight people in the town of Shijak and seized guns and ammunition. Prosecutors were quoted in Albanian media as saying the weapons were destined for Syria or Iraq. In the wake of the Paris attacks this month, Federica Mogherini, the European Union's foreign policy chief, promised better intelligence sharing across the EU and with affected Arab states to tackle terrorism. An EU summit on February 12 will address the issue, to be followed by a similar gathering in Washington the following week. Whatever the Syriza government's disagreements with its partners on economic policy, it will likely welcome a more coordinated approach on a danger it is unable to confront alone. Ioannis Mantzikos is a researcher and consultant on Islam in Africa and terrorism issues based in Athens. Elinda Labropoulou contributed to this report.",
         "Greece is close to Turkey, has an influx of illegal migration from Syria and is in a dire financial situation . These factor help make it an inviting hub for jihadist groups, experts say . Says one source: Greece is not a target, just a gateway into Europe"
        ],
        [
         "6097",
         "As its International games has been reinstated , the has and can begin to together under their country's flag following after suspension of less that one month Their reinstatement coincided with the largest number from nations from India boycot for the Olympic Games. \"It 's The first time in our history when a suspension of the NOC (National Olympic Committee ) was lifted for an International Games,\" The organisation announced via a statement Tuesday The decision means now all athletes can either compete under India's national colours or dance under its Olympic flag at their closing ceremonies at the Winter games , Russia beginning this February, the organisers said after the closing ceremony ceremony , India's athletes and hockey teams athletes marched behind its Olympic flag India was out of the Winter Games on November , when The International Olympic Committee fired Lalit Bhanot, had for six months behind bars over a ties with a terrorist . The case became deadlocked for months, and as Indian athletes refused to agree to to IOC's ban on them , the organisers said , the they had ended their suspension following the sports association's snap election for selection and a new chairman Tuesday morning . IOC committee which conducted the elections reported that India agreed to a so that \"no one accused or charge-framed will be in a position at this organization.\" Narayna Ramachandran, a coach for Indian National Squash League , voted in as a new board of the sports association \"To symbolically bring an end to the suspension and in recognition of the three Indian athletes competing in Sochi, the Indian flag will be raised in the Olympic Village,\" the IOC said Tuesday. India responded positively to the announcement. \"I am happy that suspension is over and now Indian teams and players will take part in the International events under the national flag,\" said Vijay Kumar Malhotra, the former acting president of Indian Olympic Association. CNN's Harmeet Shah Singh and Khushbu Shah contributed to this report.",
         "Its the first time a ban of a national committee has been lifted during an Olympics . The IOC suspended India in 2012 over the election of a tainted official to a top post . The Indian Olympic Association has now held new elections that the IOC has approved . Indian athletes will now be able to walk behind the national flag at Sochis closing ceremony ."
        ],
        [
         "7",
         "While Labor Day is the unofficial end of summer, it's also the unofficial start to the campaign season. That means politicking will be on the rise, especially as control of the Senate is at stake as well as control of 36 state houses. So, if you turn on your TV, expect to see more -- and nastier -- political advertisements. In fact, Elizabeth Wilner, senior vice president of Kantar Ad Intelligence, says as much as $3.4 billion is going to be spent on advertising this midterm season. The race with the most at stake is the one for U.S. Senate in Kentucky. This is not just one of the only Senate races Republicans are at risk of losing, but also the race where the top Senate Republican is at risk of losing his job. The Republican leader of the Senate, Mitch McConnell, is in a fight for his political life against Alison Lundergan Grimes, a relatively inexperienced Democratic politician who was just 8 years old when McConnell started his first term in the Senate in 1985. McConnell, a shrewd politician, prolific fundraiser and expert campaigner, has had numerous missteps, making this race even more interesting. His troubles include a flubbed campaign ad, a campaign manager who was a little too honest, the recent resignation of that manager and a caught-on-tape moment. Grimes, meanwhile, has also stumbled when talking about foreign policy, and questions have arisen about a possible sweetheart deal involving her campaign bus. This is one of the most interesting and critical races in the country. How Mitch McConnell crushed the tea party . Here are four other races that are worth watching: . Wisconsin governor: The Wisconsin governor's race has many national repercussions, as Republican Gov. Scott Walker is locked in a tight re-election battle against former Trek bicycle executive Mary Burke. Economic policy is a central component of this campaign. Walker has gained prominence in conservative politics for governing as a fiscal conservative and making deep cuts to spending by cutting public union workers' pensions. He also drastically limited workers' bargaining rights. Meanwhile, Democrats, backed by labor unions, are again fighting to defeat Walker -- they forced a recall two years ago that Walker won -- to move forward on more Democratic economic policies, including lifting the minimum wage. Walker, who is also being investigated for alleged illegal campaign coordination with outside groups, is considered a potential 2016 Republican presidential candidate, but if he loses his gubernatorial race, his path to the presidency will be very, very narrow. Democrats and Republicans understand the stakes, and President Barack Obama traveled to Wisconsin on Labor Day to speak at a union event in a trip packed with political symbolism. Walker, Burke tied up in new poll . U.S. Senate, Louisiana: Democratic Sen. Mary Landrieu always has tough races, and her fourth bid for the Senate seat is no exception. Republican Rep. Bill Cassidy is the person who is giving Landrieu another difficult run. Cassidy is tying Landrieu to Obama in this conservative-leaning state while painting her as a corrupt Washington insider. Landrieu, meanwhile, is attempting to paint her Senate tenure as a picture of independence. Most interestingly, a political roller coaster is possible. If Landrieu or Cassidy doesn't receive more than 50% of the vote on Election Day in November, a winner won't be named until that state's December 6 election. There's a chance the Louisiana race, and the balance of the Senate, might be dragged out until December. Sen. Mary Landrieu to reimburse Senate for charter flight . National Democrats go after Cassidy on Medicare . U.S. Senate, Iowa: When popular Sen. Tom Harkin decided to retire, Democrats had a small panic attack as this solidly Democratic seat was now in play. But when Rep. Bruce Braley jumped in, Democrats' confidence was restored. But then that confidence has been shaken as Braley has run a gaffe-prone campaign that involves digs at farmers and meandering chickens. His missteps -- combined with the surprising strength of Republican candidate Joni Ernst, who has run a great campaign that began with a breakout performance in the crowded Republican primary -- make this a possible and unexpected pickup for Republicans. Climate group attacks Ernst on tax pledge, not climate . Florida's 2nd Congressional District: There is little to no chance that Republicans will lose control of the House of Representatives, and some race analyzers say the GOP will even pick up seats. But this race could be a bright spot for Democrats. Even in what is expected to be a difficult year for Democrats, Democratic candidate Gwen Graham could pull out a victory in this Republican-leaning district of Tallahassee and the central part of the Florida Panhandle. Graham has some advantages. She has no problem getting money -- raising more than Southerland -- and she has a Florida-famous last name. Her father is longtime Sen. Bob Graham, giving her access to his connections and deep knowledge of running successful campaigns. Key races in 2014 . Complete midterm coverage .",
         "Labor Day is the unofficial end of summer and the unofficial start to campaign season . As much as $3.4 billion could be spent on advertising for this midterm election . Here are five must-follow races for these midterms ."
        ],
        [
         "7752",
         "according To Liu Yeqing li , the woman woman mother , and \" to and me waiting on the car of two than three months , now my body is her in her arms .\" She forced her son into her womb then whisked him away and According to the child , they hold of and prevented him to returning . </s> : Becoming pregnant as a child - forced childbirth in China's one-child rule \"After telling that it was a girl and they immediately scooped it from me,\" Li told a Chinese television program . \"My husband had always promised us marry and be a pregnant one , After having a baby daughter and a baby boy , she became sick and very despondent. \" the crying after the baby was down and cry . She could cry.\" Since then dozens of the men who have abortions or unwanted pregnancies were reported An investigation of the case is . </s> The practice of sterilizations in China , turned into for controversy following the of of rape and rape victim in Guangcheng. Shen , a self-taught physician who has worked at an NGO , of working from a hospital which it had found out she was suspected of having intercourse with the pregnant woman . She has heard about forced sterilizations here and in the country have made women feel responsible , and a class-action lawsuits has against forced and of rape have victimized thousands more people in the , including Zhang Jia, who , has taken refuge at the U.S. Embassy in Beijing. \"Chen may be safe for the moment, but the women for whom he risked everything are not,\" said Reggie Littlejohn, president of Women's Rights Without Frontiers, a California-based organization that describes itself as a \"broad-based, international coalition that opposes forced abortion and sexual slavery in China.\" \"Forced abortion is not a choice,\" Littlejohn said. \"It is official government rape.\" On a January 2011 visit to the United States, Chinese President Hu Jintao reportedly denied that China was forcing women to submit to abortions. Rep. Ileana Ros-Lehtinen, R-Florida, who gave Hu a list of human rights concerns, said that Hu insisted a forced-abortion policy did not exist, according to media reports. China's population is the largest on earth, with more than 1.34 billion people. Since its implementation in 1979, the one-child policy has prevented more than 400 million births in China, according to China's National Population and Family Planning Commission. About 13 million abortions are performed nationwide each year, the commission has said -- about 35,000 a day. It is unknown how many of those are coerced. But the one-child policy has been blamed for abuses. In some cases, advocates say, fetuses identified as female are aborted, or midwives strangle a female infant with the umbilical cord during delivery, identifying the baby as \"stillborn,\" according to All Girls Allowed, a nonprofit group that aims to end female \"gendercide,\" educate abandoned girls, rescue trafficked children and defend women's reproductive rights. Other females are abandoned, left to die or raised as orphans. Chinese traditionally prefer boys over girls because they are seen as better able to provide for the family and carry on the family bloodline. As a result, the practice of aborting female fetuses or abandoning infant girls continues, particularly in rural areas. In November, according to state-run news agency Xinhua, Premier Wen Jiabao, in a speech to the National Working Conference on Women and Children, \"urged banning illegal fetus gender identification and illegal abortion.\" \"The social status of the female population indicates the level of social progress (of a nation), while children are the future and hope of a nationality and a nation,\" Wen said. Last summer, Xinhua reported that \"millions of Chinese men of marrying age may be living as frustrated bachelors by 2020\" because of the gender imbalance. In 2010, China's sex ratio at birth was 118 boys for every 100 girls, the news agency said. China kicked off a national campaign \"to significantly curb non-medical sex determinations and sex-selective abortions to balance the gender ratio,\" Xinhua said. Also during the campaign, \"efforts will be made to raise awareness of gender equality, to severely punish those involved in cases of non-medical sex determinations and sex-selective abortions, and to strengthen monitoring.\" Liu Qian, vice minister of the Ministry of Health, said that doctors violating the ban would be stripped of their licenses or penalized, and involved medical institutions would also be punished, according to Xinhua. The one-child policy could contribute to China's high rate of female suicide, according to All Girls Allowed. China is the only country in the world where the female suicide rate is higher than that of men -- some 500 women a day, the group said, citing statistics from the World Health Organization and the U.S. State Department. In its 2009 Human Rights Report, the State Department noted that \"many observers believed that violence against women and girls, discrimination in education and employment, the traditional preference for male children, birth-limitation policies, and other societal factors contributed to the high female suicide rate. Women in rural areas, where the suicide rate for women was three to four times higher than for men, were especially vulnerable.\" Sometimes the consequences are even more severe. In October 2011, a woman who was six months pregnant died during a forced abortion in eastern China, according to Women's Rights Without Frontiers. Last month, a woman in the same region was forced to undergo an abortion while nine months pregnant, the organization reported. The baby was born alive, but then was drowned in a bucket, according to the organization. A photo of the infant's body floating in the bucket was circulated on Weibo, the Chinese version of Twitter, sparking widespread outrage. Chinese officials are prohibited under law from \"infringing on the rights and interests of citizens when promoting compliance with population planning policies,\" according to the Congressional-Executive Commission on China, created by Congress to monitor human rights and the rule of law in China. However, the commission in its most recent annual report noted \"reports of official campaigns, as well as numerous individual cases in which officials used violent methods to coerce citizens to undergo sterilizations or abortions or pay heavy fines for having 'out-of-plan' children,\" meaning a family's second child. In one example from October 2010, the commission said, a woman in southeastern China who was eight months pregnant with her second child was kidnapped and detained for 40 hours. She was forcibly injected with a substance that caused the fetus to abort. Her husband reportedly was not permitted to see her during this time, the commission said. \"Nothing in human history compares to the magnitude of China's 33-year assault on women and children,\" said Rep. Chris Smith, R-New Jersey and chairman of the commission, during the September hearing at which Ji Yeqing testified. \"Today in China, rather than being given maternal care, pregnant women without birth-allowed permits are hunted down and forcibly aborted. ... For over three decades, brothers and sisters have been illegal; a mother has absolutely no right to protect her unborn baby from state-sponsored violence.\" \"Out of plan\" children whose parents do not pay fines may go without household registration, or hukou, which presents obstacles to social benefits including subsidized health care and public education, All Girls Allowed said, citing the commission's 2010 report. A woman's family members, including her husband, parents, in-laws or siblings, may also be targeted for violations of the policy, according to Women's Rights Without Borders, which published a 2005 report compiled from Chen's notes into cases he was investigating before his arrest. The report alleges arrest, torture, beatings and fines of family members for the violations of relatives. It also documents a case where a woman suffered health problems after being forced to undergo a tubal ligation despite her high blood pressure. Ji told lawmakers her first forced abortion was in 2003, after officials said she and her husband would be fined $31,000 for their second child and fired from their jobs. Her second came in 2006, despite the fact she and her husband at that time were willing to pay the fine and lose their jobs. She continues to suffer consequences from the abortions. Her husband divorced her, she said, because she could not give him a son (the couple already had a daughter). After she remarried and moved to the United States in 2010, she said, she visited a clinic to have her IUD removed and undergo an exam. \"The doctor told me that I had cervical erosion, likely due to the poor medical conditions of my forced abortions,\" she said. Liu Ping told a similar story to Congress last year. She said after giving birth to her son, she was required to undergo five abortions between 1983 and 1990. During the last procedure, an IUD was inserted. \"When I learned of the procedure, I protested that I had a kidney disease and could not keep the IUD, but they completely ignored me,\" she said. \"The doctor just gave the bill to my husband and told him to pay.\" Her husband was later arrested, she said, and she was given a \"serious administrative warning\" at her job and fined six months' pay. Liu had to report to the factory clinic each month for an exam to make sure she had not removed the IUD on her own or become pregnant again, she said. In 1997, she missed a monthly pregnancy check because she was caring for her terminally ill mother, she testified. \"Agents from the Family Planning Commission waited at my home to drag me to the exam,\" she said. \"When they pushed me to the ground, I fell and hurt my neck vertebrae. My spirit completely collapsed after this one. I attempted suicide, but was stopped by my family from jumping.\" Liu was able to move to the United States and she and her husband reconciled after a divorce. \"I feel happiness and joyful,\" she told lawmakers. \"But I know in my homeland, China, there are millions of women who are suffering as I did. Each day thousands of young lives are being destroyed. I beg everyone to save them.\" CNN's Jaime FlorCruz contributed to this report.",
         "Chinas one-child policy results in forced abortions and sterilizations, activists say . Women tell of emotional and physical consequences from the procedures . Activist Chen Guangcheng works to advocate for victims of such practices ."
        ],
        [
         "4453",
         "As Democrats miss another critical opportunity to confirm judicial nominees after they clears out of the Senate, Trump and nominee announcement Thursday for a whopping seven federal appellate courts explains why it was necessary to force the change in Senate rules, despite protests by conservatives \"Yes,\" House Democratic Leader Chuck Reid said Thursday when asked if anyone thought about his decision to invoke his so-called \"nuclear option \" clause , the order that speed confirmation of Court Justice Anthony Kavanaugh . 1 MORE explained why he At the minute it was \"breakdown of the relationship between our executive and legislative branch.\" \"If you really looked back , they may 've already had the changes made by both executive branches ,\" which has been reported by Republicans and significant Democratic votes,\" Sen. Richard Durbin said. \"Republicans were given the keep of those people for getting approval votes .\" And they have no choice.\" It was one day after that weekend session, with a vote Republican senators had approved the total number of 9 , 7 least , people nominated for a President. But the the changes, that took hold July 30 saw their tally in November fall less than 1 %. Those changed in February increased the threshold for votes that can clear the chamber - 52 to 51, and in the Senate , presidents who currently face a single and two votes to nominate judges , fill positions , when the Senate adjourns, or on the same day or last Monday , and created an additional 12 district court positions. Democrats this week also cleared a new surgeon general, a top immigration official, and were ready to approve Tuesday the No. 2 at the State Department. Each of those people faced serious GOP opposition and might not have been cleared if not for the rules change. \"The train is running over everyone. That's the Reid train. Last trip around the track,\" complained Sen. John McCain, R-Arizona about the last minute wave of judicial and executive branch nominations Senate Democratic Leader Reid is jamming through. \"It's a result of the nuclear option which deprived us of our ability to advise and consent and it's shameful. McCain and other Republicans also blamed Sen. Ted Cruz, R-Texas, and a small group of other conservatives who forced a weekend session that Reid used to clear procedural hurdles on a number of nominees. \"It was also caused in part by what happened last weekend when several nominees who are controversial are now going to receive Senate votes and are probably going to be confirmed who otherwise probably would not have been,\" said Sen. Susan Collins, R-Maine.",
         "Democrats say they have no regrets over changing the Senate rules to approve more judges . Republicans, who will take control of the Senate in January, are upset with the maneuver ."
        ]
       ],
       "shape": {
        "columns": 2,
        "rows": 10
       }
      },
      "text/html": [
       "<div>\n",
       "<style scoped>\n",
       "    .dataframe tbody tr th:only-of-type {\n",
       "        vertical-align: middle;\n",
       "    }\n",
       "\n",
       "    .dataframe tbody tr th {\n",
       "        vertical-align: top;\n",
       "    }\n",
       "\n",
       "    .dataframe thead th {\n",
       "        text-align: right;\n",
       "    }\n",
       "</style>\n",
       "<table border=\"1\" class=\"dataframe\">\n",
       "  <thead>\n",
       "    <tr style=\"text-align: right;\">\n",
       "      <th></th>\n",
       "      <th>news</th>\n",
       "      <th>ref_summary</th>\n",
       "    </tr>\n",
       "  </thead>\n",
       "  <tbody>\n",
       "    <tr>\n",
       "      <th>2656</th>\n",
       "      <td>Bayern German manager Van Der van Sar today ex...</td>\n",
       "      <td>Louis Van Gaal signs a contract extension with...</td>\n",
       "    </tr>\n",
       "    <tr>\n",
       "      <th>445</th>\n",
       "      <td>The death toll from a shooting at a house part...</td>\n",
       "      <td>A prosecutor says 14 people were killed and 14...</td>\n",
       "    </tr>\n",
       "    <tr>\n",
       "      <th>9505</th>\n",
       "      <td>The A Week In America ended telling this quint...</td>\n",
       "      <td>Pueblos and powwows in New Mexico highlight Na...</td>\n",
       "    </tr>\n",
       "    <tr>\n",
       "      <th>332</th>\n",
       "      <td>Only a third of U.S. voters think that most me...</td>\n",
       "      <td>Just 34 percent of U.S. voters think most memb...</td>\n",
       "    </tr>\n",
       "    <tr>\n",
       "      <th>4168</th>\n",
       "      <td>Se wayne Johnson , in his , second of the matc...</td>\n",
       "      <td>Mitchell Johnson inspires Australia to innings...</td>\n",
       "    </tr>\n",
       "    <tr>\n",
       "      <th>2364</th>\n",
       "      <td>The problem is spread across Greek , rather th...</td>\n",
       "      <td>Greece is close to Turkey, has an influx of il...</td>\n",
       "    </tr>\n",
       "    <tr>\n",
       "      <th>6097</th>\n",
       "      <td>As its International games has been reinstated...</td>\n",
       "      <td>Its the first time a ban of a national committ...</td>\n",
       "    </tr>\n",
       "    <tr>\n",
       "      <th>7</th>\n",
       "      <td>While Labor Day is the unofficial end of summe...</td>\n",
       "      <td>Labor Day is the unofficial end of summer and ...</td>\n",
       "    </tr>\n",
       "    <tr>\n",
       "      <th>7752</th>\n",
       "      <td>according To Liu Yeqing li , the woman woman m...</td>\n",
       "      <td>Chinas one-child policy results in forced abor...</td>\n",
       "    </tr>\n",
       "    <tr>\n",
       "      <th>4453</th>\n",
       "      <td>As Democrats miss another critical opportunity...</td>\n",
       "      <td>Democrats say they have no regrets over changi...</td>\n",
       "    </tr>\n",
       "  </tbody>\n",
       "</table>\n",
       "</div>"
      ],
      "text/plain": [
       "                                                   news  \\\n",
       "2656  Bayern German manager Van Der van Sar today ex...   \n",
       "445   The death toll from a shooting at a house part...   \n",
       "9505  The A Week In America ended telling this quint...   \n",
       "332   Only a third of U.S. voters think that most me...   \n",
       "4168  Se wayne Johnson , in his , second of the matc...   \n",
       "2364  The problem is spread across Greek , rather th...   \n",
       "6097  As its International games has been reinstated...   \n",
       "7     While Labor Day is the unofficial end of summe...   \n",
       "7752  according To Liu Yeqing li , the woman woman m...   \n",
       "4453  As Democrats miss another critical opportunity...   \n",
       "\n",
       "                                            ref_summary  \n",
       "2656  Louis Van Gaal signs a contract extension with...  \n",
       "445   A prosecutor says 14 people were killed and 14...  \n",
       "9505  Pueblos and powwows in New Mexico highlight Na...  \n",
       "332   Just 34 percent of U.S. voters think most memb...  \n",
       "4168  Mitchell Johnson inspires Australia to innings...  \n",
       "2364  Greece is close to Turkey, has an influx of il...  \n",
       "6097  Its the first time a ban of a national committ...  \n",
       "7     Labor Day is the unofficial end of summer and ...  \n",
       "7752  Chinas one-child policy results in forced abor...  \n",
       "4453  Democrats say they have no regrets over changi...  "
      ]
     },
     "execution_count": 8,
     "metadata": {},
     "output_type": "execute_result"
    }
   ],
   "source": [
    "df_cnn_cln = clean_fulltext_column(df_cnn, column='news')\n",
    "df_cnn_cln = clean_ref_summary_column(df_cnn, column='ref_summary')\n",
    "df_cnn_cln"
   ]
  },
  {
   "cell_type": "markdown",
   "id": "6e7b7293",
   "metadata": {},
   "source": [
    "## Summary extraction"
   ]
  },
  {
   "cell_type": "markdown",
   "id": "618ee05b",
   "metadata": {},
   "source": [
    "A grid search approach is performed to tune hyperparameters, by taking into account the same values which have been used in `model_building.py`.<br>\n",
    "To ensure the tuning process remains computationally manageable, a small random batch of the data (5%) was extracted.<br>\n",
    "The procedure returns a pandas.DataFrame containing, for each iteration of hyperparameter values, the summary column named as the specific values-combination. The values of the column are the related summaries built with that combination."
   ]
  },
  {
   "cell_type": "code",
   "execution_count": null,
   "id": "d2c35d49",
   "metadata": {},
   "outputs": [],
   "source": [
    "tqdm.pandas()\n",
    "\n",
    "# Grid search using custom-defined parameter values\n",
    "num_sent = [2, 5] \n",
    "num_topic = [2, 4] \n",
    "bonus_weights = [0.0, 0.6]\n",
    "penalty_weights = [0.0, 0.6]\n",
    "lamb_list = [0.4, 0.8]\n",
    "pgs = [None, 10]\n",
    "models = [None, model]\n",
    "use_mmr = [True, False]\n",
    "\n",
    "# LDA\n",
    "for num in num_sent:\n",
    "    for n_t in num_topic:\n",
    "        for b_w in bonus_weights:\n",
    "            for p_w in penalty_weights:\n",
    "                lda_func = partial(build_lda_summary, nlp, num_s=num, nt=n_t, stop_words=all_stopwords, bonus_weight=b_w, penalty_weight=p_w)\n",
    "                df_cnn_cln[f'lda_ns{num}_nt{n_t}_bw{b_w}_pw{p_w}'] = df_cnn_cln.progress_apply(lda_func, axis=1)\n",
    "\n",
    "                # Pagerank-MMR\n",
    "                for lmbd in lamb_list:\n",
    "                    for pg in pgs:\n",
    "                        for mod in models:\n",
    "                            for um in use_mmr:\n",
    "                                pager_func = partial(build_pager_summary, nlp, pg=pg, num_s=num, lmbd_p=lmbd, stop_words=all_stopwords, bonus_weight=b_w, penalty_weight=p_w, model=mod, use_mmr=um)\n",
    "                                df_cnn_cln[f'pr_ns{num}_l{lmbd}_bw{b_w}_pw{p_w}_pg{pg}_um{um}_mod{mod}'] = df_cnn_cln.progress_apply(pager_func, axis=1)"
   ]
  },
  {
   "cell_type": "markdown",
   "id": "cb877094",
   "metadata": {},
   "source": [
    "## ROUGE computing"
   ]
  },
  {
   "cell_type": "markdown",
   "id": "240cd56e",
   "metadata": {},
   "source": [
    "Once the dataframe containing the summary columns is arrenged, ROUGE evaluation is performed column-wise: this means that the ROUGE scores are computed for each summary in a given column and then averaged to obtain an overall score for that summarization method.<br>\n",
    "The evaluation returns three distinct ROUGE metrics:\n",
    "\n",
    "* **rouge_1**: measures the overlap between the generated and reference summaries based on unigrams.<br>\n",
    "* **rouge_2**: evaluates the overlap at the level of bigrams.<br>\n",
    "* **rouge_L**: the metric is based on the Longest Common Subsequence."
   ]
  },
  {
   "cell_type": "code",
   "execution_count": null,
   "id": "eb9f326c",
   "metadata": {},
   "outputs": [
    {
     "data": {
      "application/vnd.microsoft.datawrangler.viewer.v0+json": {
       "columns": [
        {
         "name": "index",
         "rawType": "int64",
         "type": "integer"
        },
        {
         "name": "model",
         "rawType": "object",
         "type": "string"
        },
        {
         "name": "rouge1_f",
         "rawType": "float64",
         "type": "float"
        },
        {
         "name": "rouge2_f",
         "rawType": "float64",
         "type": "float"
        },
        {
         "name": "rougeL_f",
         "rawType": "float64",
         "type": "float"
        }
       ],
       "ref": "a99aacd3-bb94-4ecc-9853-866589a508a8",
       "rows": [
        [
         "9",
         "pr_ns2_l0.8_bw0.0_pw0.0_pgNone_umTrue_modNone",
         "0.323",
         "0.059",
         "0.19"
        ],
        [
         "13",
         "pr_ns2_l0.8_bw0.0_pw0.0_pg10_umTrue_modNone",
         "0.3",
         "0.068",
         "0.186"
        ],
        [
         "43",
         "pr_ns2_l0.8_bw0.6_pw0.0_pgNone_umTrue_modNone",
         "0.297",
         "0.059",
         "0.185"
        ],
        [
         "47",
         "pr_ns2_l0.8_bw0.6_pw0.0_pg10_umTrue_modNone",
         "0.292",
         "0.067",
         "0.183"
        ],
        [
         "73",
         "pr_ns5_l0.4_bw0.0_pw0.0_pgNone_umTrue_modNone",
         "0.29",
         "0.061",
         "0.172"
        ],
        [
         "64",
         "pr_ns2_l0.8_bw0.6_pw0.6_pg10_umTrue_modNone",
         "0.289",
         "0.057",
         "0.176"
        ],
        [
         "30",
         "pr_ns2_l0.8_bw0.0_pw0.6_pg10_umTrue_modNone",
         "0.289",
         "0.072",
         "0.182"
        ],
        [
         "1",
         "pr_ns2_l0.4_bw0.0_pw0.0_pgNone_umTrue_modNone",
         "0.287",
         "0.051",
         "0.176"
        ],
        [
         "83",
         "pr_ns5_l0.8_bw0.0_pw0.0_pgNone_umTrue_modSentenceTransformer(\n  (0): Transformer({'max_seq_length': 256, 'do_lower_case': False}) with Transformer model: BertModel \n  (1): Pooling({'word_embedding_dimension': 384, 'pooling_mode_cls_token': False, 'pooling_mode_mean_tokens': True, 'pooling_mode_max_tokens': False, 'pooling_mode_mean_sqrt_len_tokens': False, 'pooling_mode_weightedmean_tokens': False, 'pooling_mode_lasttoken': False, 'include_prompt': True})\n  (2): Normalize()\n)",
         "0.283",
         "0.078",
         "0.171"
        ],
        [
         "58",
         "pr_ns2_l0.4_bw0.6_pw0.6_pg10_umTrue_modSentenceTransformer(\n  (0): Transformer({'max_seq_length': 256, 'do_lower_case': False}) with Transformer model: BertModel \n  (1): Pooling({'word_embedding_dimension': 384, 'pooling_mode_cls_token': False, 'pooling_mode_mean_tokens': True, 'pooling_mode_max_tokens': False, 'pooling_mode_mean_sqrt_len_tokens': False, 'pooling_mode_weightedmean_tokens': False, 'pooling_mode_lasttoken': False, 'include_prompt': True})\n  (2): Normalize()\n)",
         "0.281",
         "0.059",
         "0.171"
        ],
        [
         "24",
         "pr_ns2_l0.4_bw0.0_pw0.6_pg10_umTrue_modSentenceTransformer(\n  (0): Transformer({'max_seq_length': 256, 'do_lower_case': False}) with Transformer model: BertModel \n  (1): Pooling({'word_embedding_dimension': 384, 'pooling_mode_cls_token': False, 'pooling_mode_mean_tokens': True, 'pooling_mode_max_tokens': False, 'pooling_mode_mean_sqrt_len_tokens': False, 'pooling_mode_weightedmean_tokens': False, 'pooling_mode_lasttoken': False, 'include_prompt': True})\n  (2): Normalize()\n)",
         "0.281",
         "0.068",
         "0.174"
        ],
        [
         "66",
         "pr_ns2_l0.8_bw0.6_pw0.6_pg10_umTrue_modSentenceTransformer(\n  (0): Transformer({'max_seq_length': 256, 'do_lower_case': False}) with Transformer model: BertModel \n  (1): Pooling({'word_embedding_dimension': 384, 'pooling_mode_cls_token': False, 'pooling_mode_mean_tokens': True, 'pooling_mode_max_tokens': False, 'pooling_mode_mean_sqrt_len_tokens': False, 'pooling_mode_weightedmean_tokens': False, 'pooling_mode_lasttoken': False, 'include_prompt': True})\n  (2): Normalize()\n)",
         "0.28",
         "0.061",
         "0.178"
        ],
        [
         "5",
         "pr_ns2_l0.4_bw0.0_pw0.0_pg10_umTrue_modNone",
         "0.278",
         "0.049",
         "0.17"
        ],
        [
         "35",
         "pr_ns2_l0.4_bw0.6_pw0.0_pgNone_umTrue_modNone",
         "0.277",
         "0.053",
         "0.176"
        ],
        [
         "87",
         "pr_ns5_l0.8_bw0.0_pw0.0_pg10_umTrue_modSentenceTransformer(\n  (0): Transformer({'max_seq_length': 256, 'do_lower_case': False}) with Transformer model: BertModel \n  (1): Pooling({'word_embedding_dimension': 384, 'pooling_mode_cls_token': False, 'pooling_mode_mean_tokens': True, 'pooling_mode_max_tokens': False, 'pooling_mode_mean_sqrt_len_tokens': False, 'pooling_mode_weightedmean_tokens': False, 'pooling_mode_lasttoken': False, 'include_prompt': True})\n  (2): Normalize()\n)",
         "0.272",
         "0.081",
         "0.168"
        ],
        [
         "113",
         "pr_ns5_l0.4_bw0.6_pw0.0_pg10_umTrue_modSentenceTransformer(\n  (0): Transformer({'max_seq_length': 256, 'do_lower_case': False}) with Transformer model: BertModel \n  (1): Pooling({'word_embedding_dimension': 384, 'pooling_mode_cls_token': False, 'pooling_mode_mean_tokens': True, 'pooling_mode_max_tokens': False, 'pooling_mode_mean_sqrt_len_tokens': False, 'pooling_mode_weightedmean_tokens': False, 'pooling_mode_lasttoken': False, 'include_prompt': True})\n  (2): Normalize()\n)",
         "0.271",
         "0.063",
         "0.152"
        ],
        [
         "22",
         "pr_ns2_l0.4_bw0.0_pw0.6_pg10_umTrue_modNone",
         "0.271",
         "0.045",
         "0.171"
        ],
        [
         "56",
         "pr_ns2_l0.4_bw0.6_pw0.6_pg10_umTrue_modNone",
         "0.269",
         "0.048",
         "0.17"
        ],
        [
         "60",
         "pr_ns2_l0.8_bw0.6_pw0.6_pgNone_umTrue_modNone",
         "0.269",
         "0.055",
         "0.164"
        ],
        [
         "28",
         "pr_ns2_l0.8_bw0.0_pw0.6_pgNone_umTrue_modSentenceTransformer(\n  (0): Transformer({'max_seq_length': 256, 'do_lower_case': False}) with Transformer model: BertModel \n  (1): Pooling({'word_embedding_dimension': 384, 'pooling_mode_cls_token': False, 'pooling_mode_mean_tokens': True, 'pooling_mode_max_tokens': False, 'pooling_mode_mean_sqrt_len_tokens': False, 'pooling_mode_weightedmean_tokens': False, 'pooling_mode_lasttoken': False, 'include_prompt': True})\n  (2): Normalize()\n)",
         "0.269",
         "0.079",
         "0.176"
        ],
        [
         "70",
         "lda_ns2_nt4_bw0.6_pw0.0",
         "0.268",
         "0.049",
         "0.155"
        ],
        [
         "132",
         "pr_ns5_l0.8_bw0.6_pw0.6_pgNone_umTrue_modNone",
         "0.268",
         "0.081",
         "0.161"
        ],
        [
         "90",
         "pr_ns5_l0.4_bw0.0_pw0.6_pgNone_umTrue_modNone",
         "0.268",
         "0.056",
         "0.163"
        ],
        [
         "18",
         "pr_ns2_l0.4_bw0.0_pw0.6_pgNone_umTrue_modNone",
         "0.267",
         "0.046",
         "0.165"
        ],
        [
         "71",
         "lda_ns2_nt4_bw0.6_pw0.6",
         "0.266",
         "0.048",
         "0.153"
        ],
        [
         "69",
         "lda_ns2_nt4_bw0.0_pw0.6",
         "0.266",
         "0.063",
         "0.158"
        ],
        [
         "124",
         "pr_ns5_l0.4_bw0.6_pw0.6_pgNone_umTrue_modNone",
         "0.266",
         "0.065",
         "0.156"
        ],
        [
         "62",
         "pr_ns2_l0.8_bw0.6_pw0.6_pgNone_umTrue_modSentenceTransformer(\n  (0): Transformer({'max_seq_length': 256, 'do_lower_case': False}) with Transformer model: BertModel \n  (1): Pooling({'word_embedding_dimension': 384, 'pooling_mode_cls_token': False, 'pooling_mode_mean_tokens': True, 'pooling_mode_max_tokens': False, 'pooling_mode_mean_sqrt_len_tokens': False, 'pooling_mode_weightedmean_tokens': False, 'pooling_mode_lasttoken': False, 'include_prompt': True})\n  (2): Normalize()\n)",
         "0.265",
         "0.076",
         "0.175"
        ],
        [
         "39",
         "pr_ns2_l0.4_bw0.6_pw0.0_pg10_umTrue_modNone",
         "0.265",
         "0.043",
         "0.157"
        ],
        [
         "104",
         "pr_ns5_l0.8_bw0.0_pw0.6_pg10_umTrue_modSentenceTransformer(\n  (0): Transformer({'max_seq_length': 256, 'do_lower_case': False}) with Transformer model: BertModel \n  (1): Pooling({'word_embedding_dimension': 384, 'pooling_mode_cls_token': False, 'pooling_mode_mean_tokens': True, 'pooling_mode_max_tokens': False, 'pooling_mode_mean_sqrt_len_tokens': False, 'pooling_mode_weightedmean_tokens': False, 'pooling_mode_lasttoken': False, 'include_prompt': True})\n  (2): Normalize()\n)",
         "0.264",
         "0.07",
         "0.171"
        ],
        [
         "51",
         "lda_ns2_nt2_bw0.6_pw0.6",
         "0.264",
         "0.046",
         "0.161"
        ],
        [
         "40",
         "pr_ns2_l0.4_bw0.6_pw0.0_pg10_umFalse_modNone",
         "0.263",
         "0.063",
         "0.169"
        ],
        [
         "61",
         "pr_ns2_l0.8_bw0.6_pw0.6_pgNone_umFalse_modNone",
         "0.263",
         "0.063",
         "0.169"
        ],
        [
         "65",
         "pr_ns2_l0.8_bw0.6_pw0.6_pg10_umFalse_modNone",
         "0.263",
         "0.063",
         "0.169"
        ],
        [
         "53",
         "pr_ns2_l0.4_bw0.6_pw0.6_pgNone_umFalse_modNone",
         "0.263",
         "0.063",
         "0.169"
        ],
        [
         "44",
         "pr_ns2_l0.8_bw0.6_pw0.0_pgNone_umFalse_modNone",
         "0.263",
         "0.063",
         "0.169"
        ],
        [
         "6",
         "pr_ns2_l0.4_bw0.0_pw0.0_pg10_umFalse_modNone",
         "0.263",
         "0.063",
         "0.169"
        ],
        [
         "32",
         "pr_ns2_l0.8_bw0.0_pw0.6_pg10_umTrue_modSentenceTransformer(\n  (0): Transformer({'max_seq_length': 256, 'do_lower_case': False}) with Transformer model: BertModel \n  (1): Pooling({'word_embedding_dimension': 384, 'pooling_mode_cls_token': False, 'pooling_mode_mean_tokens': True, 'pooling_mode_max_tokens': False, 'pooling_mode_mean_sqrt_len_tokens': False, 'pooling_mode_weightedmean_tokens': False, 'pooling_mode_lasttoken': False, 'include_prompt': True})\n  (2): Normalize()\n)",
         "0.263",
         "0.074",
         "0.17"
        ],
        [
         "36",
         "pr_ns2_l0.4_bw0.6_pw0.0_pgNone_umFalse_modNone",
         "0.263",
         "0.063",
         "0.169"
        ],
        [
         "10",
         "pr_ns2_l0.8_bw0.0_pw0.0_pgNone_umFalse_modNone",
         "0.263",
         "0.063",
         "0.169"
        ],
        [
         "2",
         "pr_ns2_l0.4_bw0.0_pw0.0_pgNone_umFalse_modNone",
         "0.263",
         "0.063",
         "0.169"
        ],
        [
         "31",
         "pr_ns2_l0.8_bw0.0_pw0.6_pg10_umFalse_modNone",
         "0.263",
         "0.063",
         "0.169"
        ],
        [
         "27",
         "pr_ns2_l0.8_bw0.0_pw0.6_pgNone_umFalse_modNone",
         "0.263",
         "0.063",
         "0.169"
        ],
        [
         "26",
         "pr_ns2_l0.8_bw0.0_pw0.6_pgNone_umTrue_modNone",
         "0.263",
         "0.059",
         "0.163"
        ],
        [
         "14",
         "pr_ns2_l0.8_bw0.0_pw0.0_pg10_umFalse_modNone",
         "0.263",
         "0.063",
         "0.169"
        ],
        [
         "23",
         "pr_ns2_l0.4_bw0.0_pw0.6_pg10_umFalse_modNone",
         "0.263",
         "0.063",
         "0.169"
        ],
        [
         "19",
         "pr_ns2_l0.4_bw0.0_pw0.6_pgNone_umFalse_modNone",
         "0.263",
         "0.063",
         "0.169"
        ],
        [
         "57",
         "pr_ns2_l0.4_bw0.6_pw0.6_pg10_umFalse_modNone",
         "0.263",
         "0.063",
         "0.169"
        ],
        [
         "48",
         "pr_ns2_l0.8_bw0.6_pw0.0_pg10_umFalse_modNone",
         "0.263",
         "0.063",
         "0.169"
        ],
        [
         "100",
         "pr_ns5_l0.8_bw0.0_pw0.6_pgNone_umTrue_modSentenceTransformer(\n  (0): Transformer({'max_seq_length': 256, 'do_lower_case': False}) with Transformer model: BertModel \n  (1): Pooling({'word_embedding_dimension': 384, 'pooling_mode_cls_token': False, 'pooling_mode_mean_tokens': True, 'pooling_mode_max_tokens': False, 'pooling_mode_mean_sqrt_len_tokens': False, 'pooling_mode_weightedmean_tokens': False, 'pooling_mode_lasttoken': False, 'include_prompt': True})\n  (2): Normalize()\n)",
         "0.262",
         "0.069",
         "0.159"
        ]
       ],
       "shape": {
        "columns": 4,
        "rows": 144
       }
      },
      "text/html": [
       "<div>\n",
       "<style scoped>\n",
       "    .dataframe tbody tr th:only-of-type {\n",
       "        vertical-align: middle;\n",
       "    }\n",
       "\n",
       "    .dataframe tbody tr th {\n",
       "        vertical-align: top;\n",
       "    }\n",
       "\n",
       "    .dataframe thead th {\n",
       "        text-align: right;\n",
       "    }\n",
       "</style>\n",
       "<table border=\"1\" class=\"dataframe\">\n",
       "  <thead>\n",
       "    <tr style=\"text-align: right;\">\n",
       "      <th></th>\n",
       "      <th>model</th>\n",
       "      <th>rouge1_f</th>\n",
       "      <th>rouge2_f</th>\n",
       "      <th>rougeL_f</th>\n",
       "    </tr>\n",
       "  </thead>\n",
       "  <tbody>\n",
       "    <tr>\n",
       "      <th>9</th>\n",
       "      <td>pr_ns2_l0.8_bw0.0_pw0.0_pgNone_umTrue_modNone</td>\n",
       "      <td>0.323</td>\n",
       "      <td>0.059</td>\n",
       "      <td>0.190</td>\n",
       "    </tr>\n",
       "    <tr>\n",
       "      <th>13</th>\n",
       "      <td>pr_ns2_l0.8_bw0.0_pw0.0_pg10_umTrue_modNone</td>\n",
       "      <td>0.300</td>\n",
       "      <td>0.068</td>\n",
       "      <td>0.186</td>\n",
       "    </tr>\n",
       "    <tr>\n",
       "      <th>43</th>\n",
       "      <td>pr_ns2_l0.8_bw0.6_pw0.0_pgNone_umTrue_modNone</td>\n",
       "      <td>0.297</td>\n",
       "      <td>0.059</td>\n",
       "      <td>0.185</td>\n",
       "    </tr>\n",
       "    <tr>\n",
       "      <th>47</th>\n",
       "      <td>pr_ns2_l0.8_bw0.6_pw0.0_pg10_umTrue_modNone</td>\n",
       "      <td>0.292</td>\n",
       "      <td>0.067</td>\n",
       "      <td>0.183</td>\n",
       "    </tr>\n",
       "    <tr>\n",
       "      <th>73</th>\n",
       "      <td>pr_ns5_l0.4_bw0.0_pw0.0_pgNone_umTrue_modNone</td>\n",
       "      <td>0.290</td>\n",
       "      <td>0.061</td>\n",
       "      <td>0.172</td>\n",
       "    </tr>\n",
       "    <tr>\n",
       "      <th>...</th>\n",
       "      <td>...</td>\n",
       "      <td>...</td>\n",
       "      <td>...</td>\n",
       "      <td>...</td>\n",
       "    </tr>\n",
       "    <tr>\n",
       "      <th>125</th>\n",
       "      <td>pr_ns5_l0.4_bw0.6_pw0.6_pgNone_umFalse_modNone</td>\n",
       "      <td>0.216</td>\n",
       "      <td>0.068</td>\n",
       "      <td>0.143</td>\n",
       "    </tr>\n",
       "    <tr>\n",
       "      <th>140</th>\n",
       "      <td>lda_ns5_nt4_bw0.0_pw0.0</td>\n",
       "      <td>0.214</td>\n",
       "      <td>0.053</td>\n",
       "      <td>0.126</td>\n",
       "    </tr>\n",
       "    <tr>\n",
       "      <th>37</th>\n",
       "      <td>pr_ns2_l0.4_bw0.6_pw0.0_pgNone_umTrue_modSente...</td>\n",
       "      <td>0.204</td>\n",
       "      <td>0.037</td>\n",
       "      <td>0.139</td>\n",
       "    </tr>\n",
       "    <tr>\n",
       "      <th>3</th>\n",
       "      <td>pr_ns2_l0.4_bw0.0_pw0.0_pgNone_umTrue_modSente...</td>\n",
       "      <td>0.202</td>\n",
       "      <td>0.033</td>\n",
       "      <td>0.132</td>\n",
       "    </tr>\n",
       "    <tr>\n",
       "      <th>0</th>\n",
       "      <td>lda_ns2_nt2_bw0.0_pw0.0</td>\n",
       "      <td>0.197</td>\n",
       "      <td>0.044</td>\n",
       "      <td>0.131</td>\n",
       "    </tr>\n",
       "  </tbody>\n",
       "</table>\n",
       "<p>144 rows × 4 columns</p>\n",
       "</div>"
      ],
      "text/plain": [
       "                                                 model  rouge1_f  rouge2_f  \\\n",
       "9        pr_ns2_l0.8_bw0.0_pw0.0_pgNone_umTrue_modNone     0.323     0.059   \n",
       "13         pr_ns2_l0.8_bw0.0_pw0.0_pg10_umTrue_modNone     0.300     0.068   \n",
       "43       pr_ns2_l0.8_bw0.6_pw0.0_pgNone_umTrue_modNone     0.297     0.059   \n",
       "47         pr_ns2_l0.8_bw0.6_pw0.0_pg10_umTrue_modNone     0.292     0.067   \n",
       "73       pr_ns5_l0.4_bw0.0_pw0.0_pgNone_umTrue_modNone     0.290     0.061   \n",
       "..                                                 ...       ...       ...   \n",
       "125     pr_ns5_l0.4_bw0.6_pw0.6_pgNone_umFalse_modNone     0.216     0.068   \n",
       "140                            lda_ns5_nt4_bw0.0_pw0.0     0.214     0.053   \n",
       "37   pr_ns2_l0.4_bw0.6_pw0.0_pgNone_umTrue_modSente...     0.204     0.037   \n",
       "3    pr_ns2_l0.4_bw0.0_pw0.0_pgNone_umTrue_modSente...     0.202     0.033   \n",
       "0                              lda_ns2_nt2_bw0.0_pw0.0     0.197     0.044   \n",
       "\n",
       "     rougeL_f  \n",
       "9       0.190  \n",
       "13      0.186  \n",
       "43      0.185  \n",
       "47      0.183  \n",
       "73      0.172  \n",
       "..        ...  \n",
       "125     0.143  \n",
       "140     0.126  \n",
       "37      0.139  \n",
       "3       0.132  \n",
       "0       0.131  \n",
       "\n",
       "[144 rows x 4 columns]"
      ]
     },
     "execution_count": 13,
     "metadata": {},
     "output_type": "execute_result"
    }
   ],
   "source": [
    "prediction_cols = [col for col in df_cnn_cln.columns if col.startswith('lda') or col.startswith('pr')]\n",
    "df_rouge = compute_rouge_multiple_columns(df_cnn_cln, prediction_cols)\n",
    "df_rouge\n",
    "# df_rouge.to_csv('Data/results/rouge_scores.csv', sep=\";\", index=False) # results df writing"
   ]
  },
  {
   "cell_type": "markdown",
   "id": "1416a212",
   "metadata": {},
   "source": [
    "## Unifying scoring metrics"
   ]
  },
  {
   "cell_type": "markdown",
   "id": "b72148a6",
   "metadata": {},
   "source": [
    "Since a previous unsupervised evaluation was conducted on the original dataset (namely `bbc-news-data`), the same tuning procedure was applied.<br>\n",
    "Also in that case, a model-dependent summarization was performed for each iteration over the data batch.\n",
    "The quality of the summaries was assessed using the **BLANC** score, and the results were stored in a .csv file.<br>\n",
    "To obtain a unified overall metric to guide the selection of the best-performing models, the sum of **ROUGE** and **BLANC** scores corresponding to each model was considered."
   ]
  },
  {
   "cell_type": "code",
   "execution_count": null,
   "id": "e137a980",
   "metadata": {},
   "outputs": [],
   "source": [
    "blanc_s = pd.read_csv(r\"C:\\Users\\dibmir\\text-summarization\\blanc_scores.csv\", sep=\";\")\n",
    "rouge_s = pd.read_csv(r\"C:\\Users\\dibmir\\text-summarization\\Data\\results\\rouge_scores.csv\", sep=\";\")"
   ]
  },
  {
   "cell_type": "code",
   "execution_count": null,
   "id": "1404c0bc",
   "metadata": {},
   "outputs": [
    {
     "data": {
      "application/vnd.microsoft.datawrangler.viewer.v0+json": {
       "columns": [
        {
         "name": "index",
         "rawType": "int64",
         "type": "integer"
        },
        {
         "name": "model",
         "rawType": "object",
         "type": "string"
        },
        {
         "name": "avg_blanc_score",
         "rawType": "float64",
         "type": "float"
        },
        {
         "name": "rouge1_f",
         "rawType": "float64",
         "type": "float"
        },
        {
         "name": "unified_score",
         "rawType": "float64",
         "type": "float"
        }
       ],
       "ref": "6bc0e137-4502-49af-9b4b-d42b3b259c99",
       "rows": [
        [
         "136",
         "pr_ns5_l0.8_bw0.6_pw0.6_pgNone_umTrue_modNone",
         "0.3029826154072771",
         "0.268",
         "0.5709826154072771"
        ],
        [
         "113",
         "pr_ns5_l0.8_bw0.0_pw0.0_pgNone_umTrue_modSentenceTransformer",
         "0.2868830523459146",
         "0.283",
         "0.5698830523459146"
        ],
        [
         "10",
         "lda_ns5_nt2_bw0.6_pw0.0",
         "0.3180331470200772",
         "0.243",
         "0.5610331470200771"
        ],
        [
         "141",
         "pr_ns5_l0.8_bw0.6_pw0.6_pg10_umTrue_modSentenceTransformer",
         "0.3013328127995059",
         "0.259",
         "0.560332812799506"
        ],
        [
         "125",
         "pr_ns5_l0.8_bw0.0_pw0.6_pg10_umTrue_modSentenceTransformer",
         "0.2960155528810835",
         "0.264",
         "0.5600155528810835"
        ],
        [
         "133",
         "pr_ns5_l0.8_bw0.6_pw0.0_pg10_umTrue_modSentenceTransformer",
         "0.3049461313422609",
         "0.255",
         "0.5599461313422609"
        ],
        [
         "117",
         "pr_ns5_l0.8_bw0.0_pw0.0_pg10_umTrue_modSentenceTransformer",
         "0.2868830523459146",
         "0.272",
         "0.5588830523459146"
        ],
        [
         "121",
         "pr_ns5_l0.8_bw0.0_pw0.6_pgNone_umTrue_modSentenceTransformer",
         "0.2960155528810835",
         "0.262",
         "0.5580155528810835"
        ],
        [
         "14",
         "lda_ns5_nt4_bw0.6_pw0.0",
         "0.3385349941988189",
         "0.219",
         "0.5575349941988189"
        ],
        [
         "137",
         "pr_ns5_l0.8_bw0.6_pw0.6_pgNone_umTrue_modSentenceTransformer",
         "0.3013328127995059",
         "0.251",
         "0.552332812799506"
        ],
        [
         "15",
         "lda_ns5_nt4_bw0.6_pw0.6",
         "0.310567607604019",
         "0.241",
         "0.551567607604019"
        ],
        [
         "88",
         "pr_ns5_l0.4_bw0.0_pw0.6_pgNone_umTrue_modNone",
         "0.2812519758869129",
         "0.268",
         "0.549251975886913"
        ],
        [
         "11",
         "lda_ns5_nt2_bw0.6_pw0.6",
         "0.3046191769871991",
         "0.242",
         "0.5466191769871991"
        ],
        [
         "8",
         "lda_ns5_nt2_bw0.0_pw0.0",
         "0.3249146487511204",
         "0.221",
         "0.5459146487511204"
        ],
        [
         "9",
         "lda_ns5_nt2_bw0.0_pw0.6",
         "0.3090313842603887",
         "0.236",
         "0.5450313842603887"
        ],
        [
         "140",
         "pr_ns5_l0.8_bw0.6_pw0.6_pg10_umTrue_modNone",
         "0.3029826154072771",
         "0.242",
         "0.5449826154072771"
        ],
        [
         "12",
         "lda_ns5_nt4_bw0.0_pw0.0",
         "0.3280568731185418",
         "0.214",
         "0.5420568731185418"
        ],
        [
         "104",
         "pr_ns5_l0.4_bw0.6_pw0.6_pgNone_umTrue_modNone",
         "0.2749190297629355",
         "0.266",
         "0.5409190297629355"
        ],
        [
         "129",
         "pr_ns5_l0.8_bw0.6_pw0.0_pgNone_umTrue_modSentenceTransformer",
         "0.3049461313422609",
         "0.235",
         "0.5399461313422609"
        ],
        [
         "13",
         "lda_ns5_nt4_bw0.0_pw0.6",
         "0.3159774088954541",
         "0.223",
         "0.5389774088954541"
        ],
        [
         "120",
         "pr_ns5_l0.8_bw0.0_pw0.6_pgNone_umTrue_modNone",
         "0.2822957499989279",
         "0.255",
         "0.5372957499989279"
        ],
        [
         "80",
         "pr_ns5_l0.4_bw0.0_pw0.0_pgNone_umTrue_modNone",
         "0.2469276505119604",
         "0.29",
         "0.5369276505119603"
        ],
        [
         "101",
         "pr_ns5_l0.4_bw0.6_pw0.0_pg10_umTrue_modSentenceTransformer",
         "0.2635030134214077",
         "0.271",
         "0.5345030134214077"
        ],
        [
         "135",
         "pr_ns5_l0.8_bw0.6_pw0.0_pg10_umFalse_modSentenceTransformer",
         "0.3049461313422609",
         "0.225",
         "0.5299461313422609"
        ],
        [
         "131",
         "pr_ns5_l0.8_bw0.6_pw0.0_pgNone_umFalse_modSentenceTransformer",
         "0.3049461313422609",
         "0.225",
         "0.5299461313422609"
        ],
        [
         "124",
         "pr_ns5_l0.8_bw0.0_pw0.6_pg10_umTrue_modNone",
         "0.2822957499989279",
         "0.246",
         "0.5282957499989279"
        ],
        [
         "139",
         "pr_ns5_l0.8_bw0.6_pw0.6_pgNone_umFalse_modSentenceTransformer",
         "0.3013328127995059",
         "0.225",
         "0.526332812799506"
        ],
        [
         "143",
         "pr_ns5_l0.8_bw0.6_pw0.6_pg10_umFalse_modSentenceTransformer",
         "0.3013328127995059",
         "0.225",
         "0.526332812799506"
        ],
        [
         "92",
         "pr_ns5_l0.4_bw0.0_pw0.6_pg10_umTrue_modNone",
         "0.2812519758869129",
         "0.243",
         "0.5242519758869129"
        ],
        [
         "93",
         "pr_ns5_l0.4_bw0.0_pw0.6_pg10_umTrue_modSentenceTransformer",
         "0.2616217310439382",
         "0.261",
         "0.5226217310439383"
        ],
        [
         "97",
         "pr_ns5_l0.4_bw0.6_pw0.0_pgNone_umTrue_modSentenceTransformer",
         "0.2635030134214077",
         "0.259",
         "0.5225030134214077"
        ],
        [
         "85",
         "pr_ns5_l0.4_bw0.0_pw0.0_pg10_umTrue_modSentenceTransformer",
         "0.2670614411186676",
         "0.254",
         "0.5210614411186676"
        ],
        [
         "127",
         "pr_ns5_l0.8_bw0.0_pw0.6_pg10_umFalse_modSentenceTransformer",
         "0.2960155528810835",
         "0.225",
         "0.5210155528810835"
        ],
        [
         "123",
         "pr_ns5_l0.8_bw0.0_pw0.6_pgNone_umFalse_modSentenceTransformer",
         "0.2960155528810835",
         "0.225",
         "0.5210155528810835"
        ],
        [
         "138",
         "pr_ns5_l0.8_bw0.6_pw0.6_pgNone_umFalse_modNone",
         "0.3029826154072771",
         "0.216",
         "0.5189826154072771"
        ],
        [
         "142",
         "pr_ns5_l0.8_bw0.6_pw0.6_pg10_umFalse_modNone",
         "0.3029826154072771",
         "0.216",
         "0.5189826154072771"
        ],
        [
         "128",
         "pr_ns5_l0.8_bw0.6_pw0.0_pgNone_umTrue_modNone",
         "0.2682179498794527",
         "0.249",
         "0.5172179498794527"
        ],
        [
         "108",
         "pr_ns5_l0.4_bw0.6_pw0.6_pg10_umTrue_modNone",
         "0.2749190297629355",
         "0.239",
         "0.5139190297629355"
        ],
        [
         "119",
         "pr_ns5_l0.8_bw0.0_pw0.0_pg10_umFalse_modSentenceTransformer",
         "0.2868830523459146",
         "0.225",
         "0.5118830523459146"
        ],
        [
         "115",
         "pr_ns5_l0.8_bw0.0_pw0.0_pgNone_umFalse_modSentenceTransformer",
         "0.2868830523459146",
         "0.225",
         "0.5118830523459146"
        ],
        [
         "96",
         "pr_ns5_l0.4_bw0.6_pw0.0_pgNone_umTrue_modNone",
         "0.2496057262109968",
         "0.259",
         "0.5086057262109969"
        ],
        [
         "109",
         "pr_ns5_l0.4_bw0.6_pw0.6_pg10_umTrue_modSentenceTransformer",
         "0.2503652763538299",
         "0.258",
         "0.5083652763538299"
        ],
        [
         "105",
         "pr_ns5_l0.4_bw0.6_pw0.6_pgNone_umTrue_modSentenceTransformer",
         "0.2503652763538299",
         "0.258",
         "0.5083652763538299"
        ],
        [
         "89",
         "pr_ns5_l0.4_bw0.0_pw0.6_pgNone_umTrue_modSentenceTransformer",
         "0.2616217310439382",
         "0.246",
         "0.5076217310439382"
        ],
        [
         "81",
         "pr_ns5_l0.4_bw0.0_pw0.0_pgNone_umTrue_modSentenceTransformer",
         "0.2670614411186676",
         "0.24",
         "0.5070614411186676"
        ],
        [
         "122",
         "pr_ns5_l0.8_bw0.0_pw0.6_pgNone_umFalse_modNone",
         "0.2822957499989279",
         "0.216",
         "0.4982957499989279"
        ],
        [
         "126",
         "pr_ns5_l0.8_bw0.0_pw0.6_pg10_umFalse_modNone",
         "0.2822957499989279",
         "0.216",
         "0.4982957499989279"
        ],
        [
         "94",
         "pr_ns5_l0.4_bw0.0_pw0.6_pg10_umFalse_modNone",
         "0.2812519758869129",
         "0.216",
         "0.49725197588691294"
        ],
        [
         "90",
         "pr_ns5_l0.4_bw0.0_pw0.6_pgNone_umFalse_modNone",
         "0.2812519758869129",
         "0.216",
         "0.49725197588691294"
        ],
        [
         "132",
         "pr_ns5_l0.8_bw0.6_pw0.0_pg10_umTrue_modNone",
         "0.2682179498794527",
         "0.229",
         "0.49721794987945267"
        ]
       ],
       "shape": {
        "columns": 4,
        "rows": 144
       }
      },
      "text/html": [
       "<div>\n",
       "<style scoped>\n",
       "    .dataframe tbody tr th:only-of-type {\n",
       "        vertical-align: middle;\n",
       "    }\n",
       "\n",
       "    .dataframe tbody tr th {\n",
       "        vertical-align: top;\n",
       "    }\n",
       "\n",
       "    .dataframe thead th {\n",
       "        text-align: right;\n",
       "    }\n",
       "</style>\n",
       "<table border=\"1\" class=\"dataframe\">\n",
       "  <thead>\n",
       "    <tr style=\"text-align: right;\">\n",
       "      <th></th>\n",
       "      <th>model</th>\n",
       "      <th>avg_blanc_score</th>\n",
       "      <th>rouge1_f</th>\n",
       "      <th>unified_score</th>\n",
       "    </tr>\n",
       "  </thead>\n",
       "  <tbody>\n",
       "    <tr>\n",
       "      <th>136</th>\n",
       "      <td>pr_ns5_l0.8_bw0.6_pw0.6_pgNone_umTrue_modNone</td>\n",
       "      <td>0.302983</td>\n",
       "      <td>0.268</td>\n",
       "      <td>0.570983</td>\n",
       "    </tr>\n",
       "    <tr>\n",
       "      <th>113</th>\n",
       "      <td>pr_ns5_l0.8_bw0.0_pw0.0_pgNone_umTrue_modSente...</td>\n",
       "      <td>0.286883</td>\n",
       "      <td>0.283</td>\n",
       "      <td>0.569883</td>\n",
       "    </tr>\n",
       "    <tr>\n",
       "      <th>10</th>\n",
       "      <td>lda_ns5_nt2_bw0.6_pw0.0</td>\n",
       "      <td>0.318033</td>\n",
       "      <td>0.243</td>\n",
       "      <td>0.561033</td>\n",
       "    </tr>\n",
       "    <tr>\n",
       "      <th>141</th>\n",
       "      <td>pr_ns5_l0.8_bw0.6_pw0.6_pg10_umTrue_modSentenc...</td>\n",
       "      <td>0.301333</td>\n",
       "      <td>0.259</td>\n",
       "      <td>0.560333</td>\n",
       "    </tr>\n",
       "    <tr>\n",
       "      <th>125</th>\n",
       "      <td>pr_ns5_l0.8_bw0.0_pw0.6_pg10_umTrue_modSentenc...</td>\n",
       "      <td>0.296016</td>\n",
       "      <td>0.264</td>\n",
       "      <td>0.560016</td>\n",
       "    </tr>\n",
       "    <tr>\n",
       "      <th>...</th>\n",
       "      <td>...</td>\n",
       "      <td>...</td>\n",
       "      <td>...</td>\n",
       "      <td>...</td>\n",
       "    </tr>\n",
       "    <tr>\n",
       "      <th>27</th>\n",
       "      <td>pr_ns2_l0.4_bw0.0_pw0.6_pgNone_umFalse_modSent...</td>\n",
       "      <td>0.142867</td>\n",
       "      <td>0.235</td>\n",
       "      <td>0.377867</td>\n",
       "    </tr>\n",
       "    <tr>\n",
       "      <th>0</th>\n",
       "      <td>lda_ns2_nt2_bw0.0_pw0.0</td>\n",
       "      <td>0.178208</td>\n",
       "      <td>0.197</td>\n",
       "      <td>0.375208</td>\n",
       "    </tr>\n",
       "    <tr>\n",
       "      <th>25</th>\n",
       "      <td>pr_ns2_l0.4_bw0.0_pw0.6_pgNone_umTrue_modSente...</td>\n",
       "      <td>0.142867</td>\n",
       "      <td>0.231</td>\n",
       "      <td>0.373867</td>\n",
       "    </tr>\n",
       "    <tr>\n",
       "      <th>33</th>\n",
       "      <td>pr_ns2_l0.4_bw0.6_pw0.0_pgNone_umTrue_modSente...</td>\n",
       "      <td>0.151509</td>\n",
       "      <td>0.204</td>\n",
       "      <td>0.355509</td>\n",
       "    </tr>\n",
       "    <tr>\n",
       "      <th>17</th>\n",
       "      <td>pr_ns2_l0.4_bw0.0_pw0.0_pgNone_umTrue_modSente...</td>\n",
       "      <td>0.146643</td>\n",
       "      <td>0.202</td>\n",
       "      <td>0.348643</td>\n",
       "    </tr>\n",
       "  </tbody>\n",
       "</table>\n",
       "<p>144 rows × 4 columns</p>\n",
       "</div>"
      ],
      "text/plain": [
       "                                                 model  avg_blanc_score  \\\n",
       "136      pr_ns5_l0.8_bw0.6_pw0.6_pgNone_umTrue_modNone         0.302983   \n",
       "113  pr_ns5_l0.8_bw0.0_pw0.0_pgNone_umTrue_modSente...         0.286883   \n",
       "10                             lda_ns5_nt2_bw0.6_pw0.0         0.318033   \n",
       "141  pr_ns5_l0.8_bw0.6_pw0.6_pg10_umTrue_modSentenc...         0.301333   \n",
       "125  pr_ns5_l0.8_bw0.0_pw0.6_pg10_umTrue_modSentenc...         0.296016   \n",
       "..                                                 ...              ...   \n",
       "27   pr_ns2_l0.4_bw0.0_pw0.6_pgNone_umFalse_modSent...         0.142867   \n",
       "0                              lda_ns2_nt2_bw0.0_pw0.0         0.178208   \n",
       "25   pr_ns2_l0.4_bw0.0_pw0.6_pgNone_umTrue_modSente...         0.142867   \n",
       "33   pr_ns2_l0.4_bw0.6_pw0.0_pgNone_umTrue_modSente...         0.151509   \n",
       "17   pr_ns2_l0.4_bw0.0_pw0.0_pgNone_umTrue_modSente...         0.146643   \n",
       "\n",
       "     rouge1_f  unified_score  \n",
       "136     0.268       0.570983  \n",
       "113     0.283       0.569883  \n",
       "10      0.243       0.561033  \n",
       "141     0.259       0.560333  \n",
       "125     0.264       0.560016  \n",
       "..        ...            ...  \n",
       "27      0.235       0.377867  \n",
       "0       0.197       0.375208  \n",
       "25      0.231       0.373867  \n",
       "33      0.204       0.355509  \n",
       "17      0.202       0.348643  \n",
       "\n",
       "[144 rows x 4 columns]"
      ]
     },
     "execution_count": 8,
     "metadata": {},
     "output_type": "execute_result"
    }
   ],
   "source": [
    "score_merged = pd.merge(left=blanc_s, right=rouge_s, on='model', how='inner')\n",
    "score_merged['unified_score'] = score_merged['avg_blanc_score'] + score_merged['rouge1_f']\n",
    "score_merged_sort = score_merged.sort_values('unified_score', ascending=False)\n",
    "score_merged_sort[['model', 'avg_blanc_score', 'rouge1_f', 'unified_score']]"
   ]
  },
  {
   "cell_type": "markdown",
   "id": "1ebff635",
   "metadata": {},
   "source": [
    "## BBC Dataframe with 'summary' columns building"
   ]
  },
  {
   "cell_type": "markdown",
   "id": "fd77614d",
   "metadata": {},
   "source": [
    "The top-3 best performer models are extracted to build summaries on the original dataset.<br>\n",
    "Specifically, models address the following:\n",
    "\n",
    "* PageRank + MMR using Tf-Idf representation\n",
    "* PageRank + MMR using a sentence transformers-based model for sentence embeddings\n",
    "* LDA \n",
    "\n",
    "The rest of hyperparameter values are set before each model running."
   ]
  },
  {
   "cell_type": "code",
   "execution_count": 27,
   "id": "d5c44b1f",
   "metadata": {},
   "outputs": [],
   "source": [
    "df_bbc = pd.read_csv(bbc_path, sep=\"\\t\") # bbc df read"
   ]
  },
  {
   "cell_type": "markdown",
   "id": "6cac5322",
   "metadata": {},
   "source": [
    "### Summaries building"
   ]
  },
  {
   "cell_type": "code",
   "execution_count": null,
   "id": "85f7412a",
   "metadata": {},
   "outputs": [],
   "source": [
    "tqdm.pandas()\n",
    "\n",
    "# # # PageRank + MMR using tfidf\n",
    "ns_1 = 5\n",
    "lamb_1 = 0.8\n",
    "bw_1 = 0.6\n",
    "pw_1 = 0.6\n",
    "um_1 = True\n",
    "pg_1= None\n",
    "mod_1 = None\n",
    "\n",
    "pager_func_1 = partial(build_pager_summary, nlp, num_s=ns_1, pg=pg_1, \n",
    "                     lmbd_p=lamb_1, stop_words=all_stopwords, model=mod_1, \n",
    "                     use_mmr=um_1, bonus_weight = bw_1, penalty_weight = pw_1)\n",
    "df_bbc['summary_tfidf'] = df_bbc.progress_apply(pager_func_1, axis=1)\n",
    "\n",
    "# # # PageRank + MMR using sentence transformers\n",
    "ns_2 = 5\n",
    "lamb_2 = 0.8\n",
    "bw_2 = 0.0\n",
    "pw_2 = 0.0\n",
    "um_2 = True\n",
    "pg_2= None\n",
    "mod_2 = model\n",
    "\n",
    "pager_func_2 = partial(build_pager_summary, nlp, num_s=ns_2, pg=pg_2, \n",
    "                     lmbd_p=lamb_2, stop_words=all_stopwords, model=mod_2, \n",
    "                     use_mmr=um_2, bonus_weight = bw_2, penalty_weight = pw_2)\n",
    "df_bbc['summary_transf'] = df_bbc.progress_apply(pager_func_2, axis=1)\n",
    "\n",
    "\n",
    "# # # LDA\n",
    "ns_3 = 5\n",
    "nt = 2\n",
    "bw_3 = 0.6\n",
    "pw_3 = 0.0\n",
    "\n",
    "lda_func = partial(build_lda_summary, nlp, num_s=ns_3, nt=nt, \n",
    "                     stop_words=all_stopwords, bonus_weight = bw_3, \n",
    "                     penalty_weight = pw_3)\n",
    "df_bbc['summary_lda'] = df_bbc.progress_apply(lda_func, axis=1)\n"
   ]
  },
  {
   "cell_type": "code",
   "execution_count": null,
   "id": "7c1eeccd",
   "metadata": {},
   "outputs": [],
   "source": [
    "# df_bbc.to_csv('Data/output/bbc-news-data-summaries-new.csv', sep='\\t', index=False) # bbc df with summary cols writing"
   ]
  }
 ],
 "metadata": {
  "kernelspec": {
   "display_name": "tmenv",
   "language": "python",
   "name": "python3"
  },
  "language_info": {
   "codemirror_mode": {
    "name": "ipython",
    "version": 3
   },
   "file_extension": ".py",
   "mimetype": "text/x-python",
   "name": "python",
   "nbconvert_exporter": "python",
   "pygments_lexer": "ipython3",
   "version": "3.10.18"
  }
 },
 "nbformat": 4,
 "nbformat_minor": 5
}
